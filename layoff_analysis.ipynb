{
  "nbformat": 4,
  "nbformat_minor": 0,
  "metadata": {
    "colab": {
      "provenance": []
    },
    "kernelspec": {
      "name": "python3",
      "display_name": "Python 3"
    },
    "language_info": {
      "name": "python"
    }
  },
  "cells": [
    {
      "cell_type": "code",
      "source": [
        "# https://layoffs.fyi/\n",
        "# https://www.kaggle.com/code/debjeetdas/exploratory-data-analysis-on-layoffs-dataset-2023?kernelSessionId=117955624"
      ],
      "metadata": {
        "id": "78X8VbAk2Y-_"
      },
      "execution_count": 1,
      "outputs": []
    },
    {
      "cell_type": "code",
      "execution_count": 36,
      "metadata": {
        "id": "dMliT_mbzPgm"
      },
      "outputs": [],
      "source": [
        "import os\n",
        "\n",
        "import pandas as pd\n",
        "import plotly.express as px\n",
        "from plotly.subplots import make_subplots\n",
        "import plotly.graph_objects as go"
      ]
    },
    {
      "cell_type": "code",
      "source": [
        "all_graphs = []"
      ],
      "metadata": {
        "id": "e_mxuRruWsf8"
      },
      "execution_count": 37,
      "outputs": []
    },
    {
      "cell_type": "code",
      "source": [
        "df = pd.read_csv('layoffs_data.csv', parse_dates=['Date'])\n",
        "#drop the below cols as they are not useful for the analysis\n",
        "df.drop(['Source','Date_Added','List_of_Employees_Laid_Off'],axis=1,inplace=True)\n",
        "df.sort_values('Date',inplace=True)\n",
        "df.head()"
      ],
      "metadata": {
        "colab": {
          "base_uri": "https://localhost:8080/",
          "height": 206
        },
        "id": "jGn8gGd3z_Lu",
        "outputId": "a44566f2-bf05-4193-86e5-edd67fae8e79"
      },
      "execution_count": 38,
      "outputs": [
        {
          "output_type": "execute_result",
          "data": {
            "text/plain": [
              "            Company     Location_HQ        Industry  Percentage       Date  \\\n",
              "2191       EasyPost  Salt Lake City       Logistics         NaN 2020-03-11   \n",
              "2190  Tamara Mellon     Los Angeles          Retail        0.40 2020-03-12   \n",
              "2188   HopSkipDrive     Los Angeles  Transportation        0.10 2020-03-13   \n",
              "2189    Panda Squad     SF Bay Area        Consumer        0.75 2020-03-13   \n",
              "2186       Help.com          Austin         Support        1.00 2020-03-16   \n",
              "\n",
              "      Funds_Raised     Stage        Country  Laid_Off_Count  \n",
              "2191          12.0  Series A  United States            75.0  \n",
              "2190          90.0  Series C  United States            20.0  \n",
              "2188          45.0   Unknown  United States             8.0  \n",
              "2189           1.0      Seed  United States             6.0  \n",
              "2186           6.0      Seed  United States            16.0  "
            ],
            "text/html": [
              "\n",
              "  <div id=\"df-b12003fb-6689-4477-a5d2-73a2e658c7e6\">\n",
              "    <div class=\"colab-df-container\">\n",
              "      <div>\n",
              "<style scoped>\n",
              "    .dataframe tbody tr th:only-of-type {\n",
              "        vertical-align: middle;\n",
              "    }\n",
              "\n",
              "    .dataframe tbody tr th {\n",
              "        vertical-align: top;\n",
              "    }\n",
              "\n",
              "    .dataframe thead th {\n",
              "        text-align: right;\n",
              "    }\n",
              "</style>\n",
              "<table border=\"1\" class=\"dataframe\">\n",
              "  <thead>\n",
              "    <tr style=\"text-align: right;\">\n",
              "      <th></th>\n",
              "      <th>Company</th>\n",
              "      <th>Location_HQ</th>\n",
              "      <th>Industry</th>\n",
              "      <th>Percentage</th>\n",
              "      <th>Date</th>\n",
              "      <th>Funds_Raised</th>\n",
              "      <th>Stage</th>\n",
              "      <th>Country</th>\n",
              "      <th>Laid_Off_Count</th>\n",
              "    </tr>\n",
              "  </thead>\n",
              "  <tbody>\n",
              "    <tr>\n",
              "      <th>2191</th>\n",
              "      <td>EasyPost</td>\n",
              "      <td>Salt Lake City</td>\n",
              "      <td>Logistics</td>\n",
              "      <td>NaN</td>\n",
              "      <td>2020-03-11</td>\n",
              "      <td>12.0</td>\n",
              "      <td>Series A</td>\n",
              "      <td>United States</td>\n",
              "      <td>75.0</td>\n",
              "    </tr>\n",
              "    <tr>\n",
              "      <th>2190</th>\n",
              "      <td>Tamara Mellon</td>\n",
              "      <td>Los Angeles</td>\n",
              "      <td>Retail</td>\n",
              "      <td>0.40</td>\n",
              "      <td>2020-03-12</td>\n",
              "      <td>90.0</td>\n",
              "      <td>Series C</td>\n",
              "      <td>United States</td>\n",
              "      <td>20.0</td>\n",
              "    </tr>\n",
              "    <tr>\n",
              "      <th>2188</th>\n",
              "      <td>HopSkipDrive</td>\n",
              "      <td>Los Angeles</td>\n",
              "      <td>Transportation</td>\n",
              "      <td>0.10</td>\n",
              "      <td>2020-03-13</td>\n",
              "      <td>45.0</td>\n",
              "      <td>Unknown</td>\n",
              "      <td>United States</td>\n",
              "      <td>8.0</td>\n",
              "    </tr>\n",
              "    <tr>\n",
              "      <th>2189</th>\n",
              "      <td>Panda Squad</td>\n",
              "      <td>SF Bay Area</td>\n",
              "      <td>Consumer</td>\n",
              "      <td>0.75</td>\n",
              "      <td>2020-03-13</td>\n",
              "      <td>1.0</td>\n",
              "      <td>Seed</td>\n",
              "      <td>United States</td>\n",
              "      <td>6.0</td>\n",
              "    </tr>\n",
              "    <tr>\n",
              "      <th>2186</th>\n",
              "      <td>Help.com</td>\n",
              "      <td>Austin</td>\n",
              "      <td>Support</td>\n",
              "      <td>1.00</td>\n",
              "      <td>2020-03-16</td>\n",
              "      <td>6.0</td>\n",
              "      <td>Seed</td>\n",
              "      <td>United States</td>\n",
              "      <td>16.0</td>\n",
              "    </tr>\n",
              "  </tbody>\n",
              "</table>\n",
              "</div>\n",
              "      <button class=\"colab-df-convert\" onclick=\"convertToInteractive('df-b12003fb-6689-4477-a5d2-73a2e658c7e6')\"\n",
              "              title=\"Convert this dataframe to an interactive table.\"\n",
              "              style=\"display:none;\">\n",
              "        \n",
              "  <svg xmlns=\"http://www.w3.org/2000/svg\" height=\"24px\"viewBox=\"0 0 24 24\"\n",
              "       width=\"24px\">\n",
              "    <path d=\"M0 0h24v24H0V0z\" fill=\"none\"/>\n",
              "    <path d=\"M18.56 5.44l.94 2.06.94-2.06 2.06-.94-2.06-.94-.94-2.06-.94 2.06-2.06.94zm-11 1L8.5 8.5l.94-2.06 2.06-.94-2.06-.94L8.5 2.5l-.94 2.06-2.06.94zm10 10l.94 2.06.94-2.06 2.06-.94-2.06-.94-.94-2.06-.94 2.06-2.06.94z\"/><path d=\"M17.41 7.96l-1.37-1.37c-.4-.4-.92-.59-1.43-.59-.52 0-1.04.2-1.43.59L10.3 9.45l-7.72 7.72c-.78.78-.78 2.05 0 2.83L4 21.41c.39.39.9.59 1.41.59.51 0 1.02-.2 1.41-.59l7.78-7.78 2.81-2.81c.8-.78.8-2.07 0-2.86zM5.41 20L4 18.59l7.72-7.72 1.47 1.35L5.41 20z\"/>\n",
              "  </svg>\n",
              "      </button>\n",
              "      \n",
              "  <style>\n",
              "    .colab-df-container {\n",
              "      display:flex;\n",
              "      flex-wrap:wrap;\n",
              "      gap: 12px;\n",
              "    }\n",
              "\n",
              "    .colab-df-convert {\n",
              "      background-color: #E8F0FE;\n",
              "      border: none;\n",
              "      border-radius: 50%;\n",
              "      cursor: pointer;\n",
              "      display: none;\n",
              "      fill: #1967D2;\n",
              "      height: 32px;\n",
              "      padding: 0 0 0 0;\n",
              "      width: 32px;\n",
              "    }\n",
              "\n",
              "    .colab-df-convert:hover {\n",
              "      background-color: #E2EBFA;\n",
              "      box-shadow: 0px 1px 2px rgba(60, 64, 67, 0.3), 0px 1px 3px 1px rgba(60, 64, 67, 0.15);\n",
              "      fill: #174EA6;\n",
              "    }\n",
              "\n",
              "    [theme=dark] .colab-df-convert {\n",
              "      background-color: #3B4455;\n",
              "      fill: #D2E3FC;\n",
              "    }\n",
              "\n",
              "    [theme=dark] .colab-df-convert:hover {\n",
              "      background-color: #434B5C;\n",
              "      box-shadow: 0px 1px 3px 1px rgba(0, 0, 0, 0.15);\n",
              "      filter: drop-shadow(0px 1px 2px rgba(0, 0, 0, 0.3));\n",
              "      fill: #FFFFFF;\n",
              "    }\n",
              "  </style>\n",
              "\n",
              "      <script>\n",
              "        const buttonEl =\n",
              "          document.querySelector('#df-b12003fb-6689-4477-a5d2-73a2e658c7e6 button.colab-df-convert');\n",
              "        buttonEl.style.display =\n",
              "          google.colab.kernel.accessAllowed ? 'block' : 'none';\n",
              "\n",
              "        async function convertToInteractive(key) {\n",
              "          const element = document.querySelector('#df-b12003fb-6689-4477-a5d2-73a2e658c7e6');\n",
              "          const dataTable =\n",
              "            await google.colab.kernel.invokeFunction('convertToInteractive',\n",
              "                                                     [key], {});\n",
              "          if (!dataTable) return;\n",
              "\n",
              "          const docLinkHtml = 'Like what you see? Visit the ' +\n",
              "            '<a target=\"_blank\" href=https://colab.research.google.com/notebooks/data_table.ipynb>data table notebook</a>'\n",
              "            + ' to learn more about interactive tables.';\n",
              "          element.innerHTML = '';\n",
              "          dataTable['output_type'] = 'display_data';\n",
              "          await google.colab.output.renderOutput(dataTable, element);\n",
              "          const docLink = document.createElement('div');\n",
              "          docLink.innerHTML = docLinkHtml;\n",
              "          element.appendChild(docLink);\n",
              "        }\n",
              "      </script>\n",
              "    </div>\n",
              "  </div>\n",
              "  "
            ]
          },
          "metadata": {},
          "execution_count": 38
        }
      ]
    },
    {
      "cell_type": "code",
      "source": [
        "#total company participated in layoff\n",
        "df['Company'].nunique()"
      ],
      "metadata": {
        "colab": {
          "base_uri": "https://localhost:8080/"
        },
        "id": "aJrzgeok0C0e",
        "outputId": "8882d81b-1751-460c-a380-19cb17392e1b"
      },
      "execution_count": 39,
      "outputs": [
        {
          "output_type": "execute_result",
          "data": {
            "text/plain": [
              "1777"
            ]
          },
          "metadata": {},
          "execution_count": 39
        }
      ]
    },
    {
      "cell_type": "code",
      "source": [
        "#total employees laid off\n",
        "df['Laid_Off_Count'].sum()"
      ],
      "metadata": {
        "colab": {
          "base_uri": "https://localhost:8080/"
        },
        "id": "YUDsgXHv3v3w",
        "outputId": "492a086f-adf4-4fb4-f1b3-94c71abb7551"
      },
      "execution_count": 40,
      "outputs": [
        {
          "output_type": "execute_result",
          "data": {
            "text/plain": [
              "352115.0"
            ]
          },
          "metadata": {},
          "execution_count": 40
        }
      ]
    },
    {
      "cell_type": "code",
      "source": [
        "data_from_to_date = str(df['Date'].min().date())+' to '+str(df['Date'].max().date())\n",
        "data_from_to_date"
      ],
      "metadata": {
        "colab": {
          "base_uri": "https://localhost:8080/",
          "height": 36
        },
        "id": "Up_r7BwV6rQf",
        "outputId": "07864c77-4ab7-407c-b7f7-68637a1d259a"
      },
      "execution_count": 41,
      "outputs": [
        {
          "output_type": "execute_result",
          "data": {
            "text/plain": [
              "'2020-03-11 to 2023-02-07'"
            ],
            "application/vnd.google.colaboratory.intrinsic+json": {
              "type": "string"
            }
          },
          "metadata": {},
          "execution_count": 41
        }
      ]
    },
    {
      "cell_type": "code",
      "source": [
        "#total company participated in layoff\n",
        "total_companies_layoff = df['Company'].nunique()\n",
        "\n",
        "#total employees laid off\n",
        "total_employees_layoff = df['Laid_Off_Count'].sum()"
      ],
      "metadata": {
        "id": "fSTQGPcFPl1u"
      },
      "execution_count": 42,
      "outputs": []
    },
    {
      "cell_type": "code",
      "source": [
        "df['Year'] = df['Date'].dt.year\n",
        "# df['Year'] = df['Year'].astype(str)"
      ],
      "metadata": {
        "id": "KX8mbIkn5Mf7"
      },
      "execution_count": 43,
      "outputs": []
    },
    {
      "cell_type": "code",
      "source": [
        "yearwise_laidoff = df.groupby('Year')['Laid_Off_Count'].sum().reset_index()\n",
        "yearwise_laidoff['Year'] = yearwise_laidoff['Year'].astype(str)\n",
        "yearwise_laidoff"
      ],
      "metadata": {
        "colab": {
          "base_uri": "https://localhost:8080/",
          "height": 175
        },
        "id": "CCt8DepE5Z4j",
        "outputId": "7cf360d8-f584-4ade-a410-ce3b14811261"
      },
      "execution_count": 44,
      "outputs": [
        {
          "output_type": "execute_result",
          "data": {
            "text/plain": [
              "   Year  Laid_Off_Count\n",
              "0  2020         80998.0\n",
              "1  2021         15823.0\n",
              "2  2022        159786.0\n",
              "3  2023         95508.0"
            ],
            "text/html": [
              "\n",
              "  <div id=\"df-c5cc08b9-722b-4c08-b2a0-4614e61d4c75\">\n",
              "    <div class=\"colab-df-container\">\n",
              "      <div>\n",
              "<style scoped>\n",
              "    .dataframe tbody tr th:only-of-type {\n",
              "        vertical-align: middle;\n",
              "    }\n",
              "\n",
              "    .dataframe tbody tr th {\n",
              "        vertical-align: top;\n",
              "    }\n",
              "\n",
              "    .dataframe thead th {\n",
              "        text-align: right;\n",
              "    }\n",
              "</style>\n",
              "<table border=\"1\" class=\"dataframe\">\n",
              "  <thead>\n",
              "    <tr style=\"text-align: right;\">\n",
              "      <th></th>\n",
              "      <th>Year</th>\n",
              "      <th>Laid_Off_Count</th>\n",
              "    </tr>\n",
              "  </thead>\n",
              "  <tbody>\n",
              "    <tr>\n",
              "      <th>0</th>\n",
              "      <td>2020</td>\n",
              "      <td>80998.0</td>\n",
              "    </tr>\n",
              "    <tr>\n",
              "      <th>1</th>\n",
              "      <td>2021</td>\n",
              "      <td>15823.0</td>\n",
              "    </tr>\n",
              "    <tr>\n",
              "      <th>2</th>\n",
              "      <td>2022</td>\n",
              "      <td>159786.0</td>\n",
              "    </tr>\n",
              "    <tr>\n",
              "      <th>3</th>\n",
              "      <td>2023</td>\n",
              "      <td>95508.0</td>\n",
              "    </tr>\n",
              "  </tbody>\n",
              "</table>\n",
              "</div>\n",
              "      <button class=\"colab-df-convert\" onclick=\"convertToInteractive('df-c5cc08b9-722b-4c08-b2a0-4614e61d4c75')\"\n",
              "              title=\"Convert this dataframe to an interactive table.\"\n",
              "              style=\"display:none;\">\n",
              "        \n",
              "  <svg xmlns=\"http://www.w3.org/2000/svg\" height=\"24px\"viewBox=\"0 0 24 24\"\n",
              "       width=\"24px\">\n",
              "    <path d=\"M0 0h24v24H0V0z\" fill=\"none\"/>\n",
              "    <path d=\"M18.56 5.44l.94 2.06.94-2.06 2.06-.94-2.06-.94-.94-2.06-.94 2.06-2.06.94zm-11 1L8.5 8.5l.94-2.06 2.06-.94-2.06-.94L8.5 2.5l-.94 2.06-2.06.94zm10 10l.94 2.06.94-2.06 2.06-.94-2.06-.94-.94-2.06-.94 2.06-2.06.94z\"/><path d=\"M17.41 7.96l-1.37-1.37c-.4-.4-.92-.59-1.43-.59-.52 0-1.04.2-1.43.59L10.3 9.45l-7.72 7.72c-.78.78-.78 2.05 0 2.83L4 21.41c.39.39.9.59 1.41.59.51 0 1.02-.2 1.41-.59l7.78-7.78 2.81-2.81c.8-.78.8-2.07 0-2.86zM5.41 20L4 18.59l7.72-7.72 1.47 1.35L5.41 20z\"/>\n",
              "  </svg>\n",
              "      </button>\n",
              "      \n",
              "  <style>\n",
              "    .colab-df-container {\n",
              "      display:flex;\n",
              "      flex-wrap:wrap;\n",
              "      gap: 12px;\n",
              "    }\n",
              "\n",
              "    .colab-df-convert {\n",
              "      background-color: #E8F0FE;\n",
              "      border: none;\n",
              "      border-radius: 50%;\n",
              "      cursor: pointer;\n",
              "      display: none;\n",
              "      fill: #1967D2;\n",
              "      height: 32px;\n",
              "      padding: 0 0 0 0;\n",
              "      width: 32px;\n",
              "    }\n",
              "\n",
              "    .colab-df-convert:hover {\n",
              "      background-color: #E2EBFA;\n",
              "      box-shadow: 0px 1px 2px rgba(60, 64, 67, 0.3), 0px 1px 3px 1px rgba(60, 64, 67, 0.15);\n",
              "      fill: #174EA6;\n",
              "    }\n",
              "\n",
              "    [theme=dark] .colab-df-convert {\n",
              "      background-color: #3B4455;\n",
              "      fill: #D2E3FC;\n",
              "    }\n",
              "\n",
              "    [theme=dark] .colab-df-convert:hover {\n",
              "      background-color: #434B5C;\n",
              "      box-shadow: 0px 1px 3px 1px rgba(0, 0, 0, 0.15);\n",
              "      filter: drop-shadow(0px 1px 2px rgba(0, 0, 0, 0.3));\n",
              "      fill: #FFFFFF;\n",
              "    }\n",
              "  </style>\n",
              "\n",
              "      <script>\n",
              "        const buttonEl =\n",
              "          document.querySelector('#df-c5cc08b9-722b-4c08-b2a0-4614e61d4c75 button.colab-df-convert');\n",
              "        buttonEl.style.display =\n",
              "          google.colab.kernel.accessAllowed ? 'block' : 'none';\n",
              "\n",
              "        async function convertToInteractive(key) {\n",
              "          const element = document.querySelector('#df-c5cc08b9-722b-4c08-b2a0-4614e61d4c75');\n",
              "          const dataTable =\n",
              "            await google.colab.kernel.invokeFunction('convertToInteractive',\n",
              "                                                     [key], {});\n",
              "          if (!dataTable) return;\n",
              "\n",
              "          const docLinkHtml = 'Like what you see? Visit the ' +\n",
              "            '<a target=\"_blank\" href=https://colab.research.google.com/notebooks/data_table.ipynb>data table notebook</a>'\n",
              "            + ' to learn more about interactive tables.';\n",
              "          element.innerHTML = '';\n",
              "          dataTable['output_type'] = 'display_data';\n",
              "          await google.colab.output.renderOutput(dataTable, element);\n",
              "          const docLink = document.createElement('div');\n",
              "          docLink.innerHTML = docLinkHtml;\n",
              "          element.appendChild(docLink);\n",
              "        }\n",
              "      </script>\n",
              "    </div>\n",
              "  </div>\n",
              "  "
            ]
          },
          "metadata": {},
          "execution_count": 44
        }
      ]
    },
    {
      "cell_type": "code",
      "source": [
        "#year wise trend\n",
        "yearwise_trend = px.area(yearwise_laidoff, x='Year', y='Laid_Off_Count',markers=True, \\\n",
        "              title='Yearwise No. of layoffs',template=\"plotly_dark\")\n",
        "yearwise_trend.show()\n",
        "\n",
        "yearly_layoff_perc = px.pie(yearwise_laidoff, names='Year', values='Laid_Off_Count', title='Yearly Layoff percentage',\\\n",
        "                            color_discrete_sequence=px.colors.sequential.RdBu,template=\"plotly_dark\")\n",
        "yearly_layoff_perc.show()\n",
        "\n",
        "all_graphs.extend([yearwise_trend, yearly_layoff_perc])"
      ],
      "metadata": {
        "colab": {
          "base_uri": "https://localhost:8080/",
          "height": 1000
        },
        "id": "UYFjtGTR4242",
        "outputId": "92b64dc7-5e01-4e4c-86eb-2c66efaff42d"
      },
      "execution_count": 45,
      "outputs": [
        {
          "output_type": "display_data",
          "data": {
            "text/html": [
              "<html>\n",
              "<head><meta charset=\"utf-8\" /></head>\n",
              "<body>\n",
              "    <div>            <script src=\"https://cdnjs.cloudflare.com/ajax/libs/mathjax/2.7.5/MathJax.js?config=TeX-AMS-MML_SVG\"></script><script type=\"text/javascript\">if (window.MathJax) {MathJax.Hub.Config({SVG: {font: \"STIX-Web\"}});}</script>                <script type=\"text/javascript\">window.PlotlyConfig = {MathJaxConfig: 'local'};</script>\n",
              "        <script src=\"https://cdn.plot.ly/plotly-2.8.3.min.js\"></script>                <div id=\"41e67da8-9f89-4c25-b15a-b9d70f87d26e\" class=\"plotly-graph-div\" style=\"height:525px; width:100%;\"></div>            <script type=\"text/javascript\">                                    window.PLOTLYENV=window.PLOTLYENV || {};                                    if (document.getElementById(\"41e67da8-9f89-4c25-b15a-b9d70f87d26e\")) {                    Plotly.newPlot(                        \"41e67da8-9f89-4c25-b15a-b9d70f87d26e\",                        [{\"hovertemplate\":\"Year=%{x}<br>Laid_Off_Count=%{y}<extra></extra>\",\"legendgroup\":\"\",\"line\":{\"color\":\"#636efa\"},\"marker\":{\"symbol\":\"circle\"},\"mode\":\"markers+lines\",\"name\":\"\",\"orientation\":\"v\",\"showlegend\":false,\"stackgroup\":\"1\",\"x\":[\"2020\",\"2021\",\"2022\",\"2023\"],\"xaxis\":\"x\",\"y\":[80998.0,15823.0,159786.0,95508.0],\"yaxis\":\"y\",\"type\":\"scatter\"}],                        {\"template\":{\"data\":{\"barpolar\":[{\"marker\":{\"line\":{\"color\":\"rgb(17,17,17)\",\"width\":0.5},\"pattern\":{\"fillmode\":\"overlay\",\"size\":10,\"solidity\":0.2}},\"type\":\"barpolar\"}],\"bar\":[{\"error_x\":{\"color\":\"#f2f5fa\"},\"error_y\":{\"color\":\"#f2f5fa\"},\"marker\":{\"line\":{\"color\":\"rgb(17,17,17)\",\"width\":0.5},\"pattern\":{\"fillmode\":\"overlay\",\"size\":10,\"solidity\":0.2}},\"type\":\"bar\"}],\"carpet\":[{\"aaxis\":{\"endlinecolor\":\"#A2B1C6\",\"gridcolor\":\"#506784\",\"linecolor\":\"#506784\",\"minorgridcolor\":\"#506784\",\"startlinecolor\":\"#A2B1C6\"},\"baxis\":{\"endlinecolor\":\"#A2B1C6\",\"gridcolor\":\"#506784\",\"linecolor\":\"#506784\",\"minorgridcolor\":\"#506784\",\"startlinecolor\":\"#A2B1C6\"},\"type\":\"carpet\"}],\"choropleth\":[{\"colorbar\":{\"outlinewidth\":0,\"ticks\":\"\"},\"type\":\"choropleth\"}],\"contourcarpet\":[{\"colorbar\":{\"outlinewidth\":0,\"ticks\":\"\"},\"type\":\"contourcarpet\"}],\"contour\":[{\"colorbar\":{\"outlinewidth\":0,\"ticks\":\"\"},\"colorscale\":[[0.0,\"#0d0887\"],[0.1111111111111111,\"#46039f\"],[0.2222222222222222,\"#7201a8\"],[0.3333333333333333,\"#9c179e\"],[0.4444444444444444,\"#bd3786\"],[0.5555555555555556,\"#d8576b\"],[0.6666666666666666,\"#ed7953\"],[0.7777777777777778,\"#fb9f3a\"],[0.8888888888888888,\"#fdca26\"],[1.0,\"#f0f921\"]],\"type\":\"contour\"}],\"heatmapgl\":[{\"colorbar\":{\"outlinewidth\":0,\"ticks\":\"\"},\"colorscale\":[[0.0,\"#0d0887\"],[0.1111111111111111,\"#46039f\"],[0.2222222222222222,\"#7201a8\"],[0.3333333333333333,\"#9c179e\"],[0.4444444444444444,\"#bd3786\"],[0.5555555555555556,\"#d8576b\"],[0.6666666666666666,\"#ed7953\"],[0.7777777777777778,\"#fb9f3a\"],[0.8888888888888888,\"#fdca26\"],[1.0,\"#f0f921\"]],\"type\":\"heatmapgl\"}],\"heatmap\":[{\"colorbar\":{\"outlinewidth\":0,\"ticks\":\"\"},\"colorscale\":[[0.0,\"#0d0887\"],[0.1111111111111111,\"#46039f\"],[0.2222222222222222,\"#7201a8\"],[0.3333333333333333,\"#9c179e\"],[0.4444444444444444,\"#bd3786\"],[0.5555555555555556,\"#d8576b\"],[0.6666666666666666,\"#ed7953\"],[0.7777777777777778,\"#fb9f3a\"],[0.8888888888888888,\"#fdca26\"],[1.0,\"#f0f921\"]],\"type\":\"heatmap\"}],\"histogram2dcontour\":[{\"colorbar\":{\"outlinewidth\":0,\"ticks\":\"\"},\"colorscale\":[[0.0,\"#0d0887\"],[0.1111111111111111,\"#46039f\"],[0.2222222222222222,\"#7201a8\"],[0.3333333333333333,\"#9c179e\"],[0.4444444444444444,\"#bd3786\"],[0.5555555555555556,\"#d8576b\"],[0.6666666666666666,\"#ed7953\"],[0.7777777777777778,\"#fb9f3a\"],[0.8888888888888888,\"#fdca26\"],[1.0,\"#f0f921\"]],\"type\":\"histogram2dcontour\"}],\"histogram2d\":[{\"colorbar\":{\"outlinewidth\":0,\"ticks\":\"\"},\"colorscale\":[[0.0,\"#0d0887\"],[0.1111111111111111,\"#46039f\"],[0.2222222222222222,\"#7201a8\"],[0.3333333333333333,\"#9c179e\"],[0.4444444444444444,\"#bd3786\"],[0.5555555555555556,\"#d8576b\"],[0.6666666666666666,\"#ed7953\"],[0.7777777777777778,\"#fb9f3a\"],[0.8888888888888888,\"#fdca26\"],[1.0,\"#f0f921\"]],\"type\":\"histogram2d\"}],\"histogram\":[{\"marker\":{\"pattern\":{\"fillmode\":\"overlay\",\"size\":10,\"solidity\":0.2}},\"type\":\"histogram\"}],\"mesh3d\":[{\"colorbar\":{\"outlinewidth\":0,\"ticks\":\"\"},\"type\":\"mesh3d\"}],\"parcoords\":[{\"line\":{\"colorbar\":{\"outlinewidth\":0,\"ticks\":\"\"}},\"type\":\"parcoords\"}],\"pie\":[{\"automargin\":true,\"type\":\"pie\"}],\"scatter3d\":[{\"line\":{\"colorbar\":{\"outlinewidth\":0,\"ticks\":\"\"}},\"marker\":{\"colorbar\":{\"outlinewidth\":0,\"ticks\":\"\"}},\"type\":\"scatter3d\"}],\"scattercarpet\":[{\"marker\":{\"colorbar\":{\"outlinewidth\":0,\"ticks\":\"\"}},\"type\":\"scattercarpet\"}],\"scattergeo\":[{\"marker\":{\"colorbar\":{\"outlinewidth\":0,\"ticks\":\"\"}},\"type\":\"scattergeo\"}],\"scattergl\":[{\"marker\":{\"line\":{\"color\":\"#283442\"}},\"type\":\"scattergl\"}],\"scattermapbox\":[{\"marker\":{\"colorbar\":{\"outlinewidth\":0,\"ticks\":\"\"}},\"type\":\"scattermapbox\"}],\"scatterpolargl\":[{\"marker\":{\"colorbar\":{\"outlinewidth\":0,\"ticks\":\"\"}},\"type\":\"scatterpolargl\"}],\"scatterpolar\":[{\"marker\":{\"colorbar\":{\"outlinewidth\":0,\"ticks\":\"\"}},\"type\":\"scatterpolar\"}],\"scatter\":[{\"marker\":{\"line\":{\"color\":\"#283442\"}},\"type\":\"scatter\"}],\"scatterternary\":[{\"marker\":{\"colorbar\":{\"outlinewidth\":0,\"ticks\":\"\"}},\"type\":\"scatterternary\"}],\"surface\":[{\"colorbar\":{\"outlinewidth\":0,\"ticks\":\"\"},\"colorscale\":[[0.0,\"#0d0887\"],[0.1111111111111111,\"#46039f\"],[0.2222222222222222,\"#7201a8\"],[0.3333333333333333,\"#9c179e\"],[0.4444444444444444,\"#bd3786\"],[0.5555555555555556,\"#d8576b\"],[0.6666666666666666,\"#ed7953\"],[0.7777777777777778,\"#fb9f3a\"],[0.8888888888888888,\"#fdca26\"],[1.0,\"#f0f921\"]],\"type\":\"surface\"}],\"table\":[{\"cells\":{\"fill\":{\"color\":\"#506784\"},\"line\":{\"color\":\"rgb(17,17,17)\"}},\"header\":{\"fill\":{\"color\":\"#2a3f5f\"},\"line\":{\"color\":\"rgb(17,17,17)\"}},\"type\":\"table\"}]},\"layout\":{\"annotationdefaults\":{\"arrowcolor\":\"#f2f5fa\",\"arrowhead\":0,\"arrowwidth\":1},\"autotypenumbers\":\"strict\",\"coloraxis\":{\"colorbar\":{\"outlinewidth\":0,\"ticks\":\"\"}},\"colorscale\":{\"diverging\":[[0,\"#8e0152\"],[0.1,\"#c51b7d\"],[0.2,\"#de77ae\"],[0.3,\"#f1b6da\"],[0.4,\"#fde0ef\"],[0.5,\"#f7f7f7\"],[0.6,\"#e6f5d0\"],[0.7,\"#b8e186\"],[0.8,\"#7fbc41\"],[0.9,\"#4d9221\"],[1,\"#276419\"]],\"sequential\":[[0.0,\"#0d0887\"],[0.1111111111111111,\"#46039f\"],[0.2222222222222222,\"#7201a8\"],[0.3333333333333333,\"#9c179e\"],[0.4444444444444444,\"#bd3786\"],[0.5555555555555556,\"#d8576b\"],[0.6666666666666666,\"#ed7953\"],[0.7777777777777778,\"#fb9f3a\"],[0.8888888888888888,\"#fdca26\"],[1.0,\"#f0f921\"]],\"sequentialminus\":[[0.0,\"#0d0887\"],[0.1111111111111111,\"#46039f\"],[0.2222222222222222,\"#7201a8\"],[0.3333333333333333,\"#9c179e\"],[0.4444444444444444,\"#bd3786\"],[0.5555555555555556,\"#d8576b\"],[0.6666666666666666,\"#ed7953\"],[0.7777777777777778,\"#fb9f3a\"],[0.8888888888888888,\"#fdca26\"],[1.0,\"#f0f921\"]]},\"colorway\":[\"#636efa\",\"#EF553B\",\"#00cc96\",\"#ab63fa\",\"#FFA15A\",\"#19d3f3\",\"#FF6692\",\"#B6E880\",\"#FF97FF\",\"#FECB52\"],\"font\":{\"color\":\"#f2f5fa\"},\"geo\":{\"bgcolor\":\"rgb(17,17,17)\",\"lakecolor\":\"rgb(17,17,17)\",\"landcolor\":\"rgb(17,17,17)\",\"showlakes\":true,\"showland\":true,\"subunitcolor\":\"#506784\"},\"hoverlabel\":{\"align\":\"left\"},\"hovermode\":\"closest\",\"mapbox\":{\"style\":\"dark\"},\"paper_bgcolor\":\"rgb(17,17,17)\",\"plot_bgcolor\":\"rgb(17,17,17)\",\"polar\":{\"angularaxis\":{\"gridcolor\":\"#506784\",\"linecolor\":\"#506784\",\"ticks\":\"\"},\"bgcolor\":\"rgb(17,17,17)\",\"radialaxis\":{\"gridcolor\":\"#506784\",\"linecolor\":\"#506784\",\"ticks\":\"\"}},\"scene\":{\"xaxis\":{\"backgroundcolor\":\"rgb(17,17,17)\",\"gridcolor\":\"#506784\",\"gridwidth\":2,\"linecolor\":\"#506784\",\"showbackground\":true,\"ticks\":\"\",\"zerolinecolor\":\"#C8D4E3\"},\"yaxis\":{\"backgroundcolor\":\"rgb(17,17,17)\",\"gridcolor\":\"#506784\",\"gridwidth\":2,\"linecolor\":\"#506784\",\"showbackground\":true,\"ticks\":\"\",\"zerolinecolor\":\"#C8D4E3\"},\"zaxis\":{\"backgroundcolor\":\"rgb(17,17,17)\",\"gridcolor\":\"#506784\",\"gridwidth\":2,\"linecolor\":\"#506784\",\"showbackground\":true,\"ticks\":\"\",\"zerolinecolor\":\"#C8D4E3\"}},\"shapedefaults\":{\"line\":{\"color\":\"#f2f5fa\"}},\"sliderdefaults\":{\"bgcolor\":\"#C8D4E3\",\"bordercolor\":\"rgb(17,17,17)\",\"borderwidth\":1,\"tickwidth\":0},\"ternary\":{\"aaxis\":{\"gridcolor\":\"#506784\",\"linecolor\":\"#506784\",\"ticks\":\"\"},\"baxis\":{\"gridcolor\":\"#506784\",\"linecolor\":\"#506784\",\"ticks\":\"\"},\"bgcolor\":\"rgb(17,17,17)\",\"caxis\":{\"gridcolor\":\"#506784\",\"linecolor\":\"#506784\",\"ticks\":\"\"}},\"title\":{\"x\":0.05},\"updatemenudefaults\":{\"bgcolor\":\"#506784\",\"borderwidth\":0},\"xaxis\":{\"automargin\":true,\"gridcolor\":\"#283442\",\"linecolor\":\"#506784\",\"ticks\":\"\",\"title\":{\"standoff\":15},\"zerolinecolor\":\"#283442\",\"zerolinewidth\":2},\"yaxis\":{\"automargin\":true,\"gridcolor\":\"#283442\",\"linecolor\":\"#506784\",\"ticks\":\"\",\"title\":{\"standoff\":15},\"zerolinecolor\":\"#283442\",\"zerolinewidth\":2}}},\"xaxis\":{\"anchor\":\"y\",\"domain\":[0.0,1.0],\"title\":{\"text\":\"Year\"}},\"yaxis\":{\"anchor\":\"x\",\"domain\":[0.0,1.0],\"title\":{\"text\":\"Laid_Off_Count\"}},\"legend\":{\"tracegroupgap\":0},\"title\":{\"text\":\"Yearwise No. of layoffs\"}},                        {\"responsive\": true}                    ).then(function(){\n",
              "                            \n",
              "var gd = document.getElementById('41e67da8-9f89-4c25-b15a-b9d70f87d26e');\n",
              "var x = new MutationObserver(function (mutations, observer) {{\n",
              "        var display = window.getComputedStyle(gd).display;\n",
              "        if (!display || display === 'none') {{\n",
              "            console.log([gd, 'removed!']);\n",
              "            Plotly.purge(gd);\n",
              "            observer.disconnect();\n",
              "        }}\n",
              "}});\n",
              "\n",
              "// Listen for the removal of the full notebook cells\n",
              "var notebookContainer = gd.closest('#notebook-container');\n",
              "if (notebookContainer) {{\n",
              "    x.observe(notebookContainer, {childList: true});\n",
              "}}\n",
              "\n",
              "// Listen for the clearing of the current output cell\n",
              "var outputEl = gd.closest('.output');\n",
              "if (outputEl) {{\n",
              "    x.observe(outputEl, {childList: true});\n",
              "}}\n",
              "\n",
              "                        })                };                            </script>        </div>\n",
              "</body>\n",
              "</html>"
            ]
          },
          "metadata": {}
        },
        {
          "output_type": "display_data",
          "data": {
            "text/html": [
              "<html>\n",
              "<head><meta charset=\"utf-8\" /></head>\n",
              "<body>\n",
              "    <div>            <script src=\"https://cdnjs.cloudflare.com/ajax/libs/mathjax/2.7.5/MathJax.js?config=TeX-AMS-MML_SVG\"></script><script type=\"text/javascript\">if (window.MathJax) {MathJax.Hub.Config({SVG: {font: \"STIX-Web\"}});}</script>                <script type=\"text/javascript\">window.PlotlyConfig = {MathJaxConfig: 'local'};</script>\n",
              "        <script src=\"https://cdn.plot.ly/plotly-2.8.3.min.js\"></script>                <div id=\"da76364b-f65f-4916-86bc-b94f72063699\" class=\"plotly-graph-div\" style=\"height:525px; width:100%;\"></div>            <script type=\"text/javascript\">                                    window.PLOTLYENV=window.PLOTLYENV || {};                                    if (document.getElementById(\"da76364b-f65f-4916-86bc-b94f72063699\")) {                    Plotly.newPlot(                        \"da76364b-f65f-4916-86bc-b94f72063699\",                        [{\"domain\":{\"x\":[0.0,1.0],\"y\":[0.0,1.0]},\"hovertemplate\":\"Year=%{label}<br>Laid_Off_Count=%{value}<extra></extra>\",\"labels\":[\"2020\",\"2021\",\"2022\",\"2023\"],\"legendgroup\":\"\",\"name\":\"\",\"showlegend\":true,\"values\":[80998.0,15823.0,159786.0,95508.0],\"type\":\"pie\"}],                        {\"template\":{\"data\":{\"barpolar\":[{\"marker\":{\"line\":{\"color\":\"rgb(17,17,17)\",\"width\":0.5},\"pattern\":{\"fillmode\":\"overlay\",\"size\":10,\"solidity\":0.2}},\"type\":\"barpolar\"}],\"bar\":[{\"error_x\":{\"color\":\"#f2f5fa\"},\"error_y\":{\"color\":\"#f2f5fa\"},\"marker\":{\"line\":{\"color\":\"rgb(17,17,17)\",\"width\":0.5},\"pattern\":{\"fillmode\":\"overlay\",\"size\":10,\"solidity\":0.2}},\"type\":\"bar\"}],\"carpet\":[{\"aaxis\":{\"endlinecolor\":\"#A2B1C6\",\"gridcolor\":\"#506784\",\"linecolor\":\"#506784\",\"minorgridcolor\":\"#506784\",\"startlinecolor\":\"#A2B1C6\"},\"baxis\":{\"endlinecolor\":\"#A2B1C6\",\"gridcolor\":\"#506784\",\"linecolor\":\"#506784\",\"minorgridcolor\":\"#506784\",\"startlinecolor\":\"#A2B1C6\"},\"type\":\"carpet\"}],\"choropleth\":[{\"colorbar\":{\"outlinewidth\":0,\"ticks\":\"\"},\"type\":\"choropleth\"}],\"contourcarpet\":[{\"colorbar\":{\"outlinewidth\":0,\"ticks\":\"\"},\"type\":\"contourcarpet\"}],\"contour\":[{\"colorbar\":{\"outlinewidth\":0,\"ticks\":\"\"},\"colorscale\":[[0.0,\"#0d0887\"],[0.1111111111111111,\"#46039f\"],[0.2222222222222222,\"#7201a8\"],[0.3333333333333333,\"#9c179e\"],[0.4444444444444444,\"#bd3786\"],[0.5555555555555556,\"#d8576b\"],[0.6666666666666666,\"#ed7953\"],[0.7777777777777778,\"#fb9f3a\"],[0.8888888888888888,\"#fdca26\"],[1.0,\"#f0f921\"]],\"type\":\"contour\"}],\"heatmapgl\":[{\"colorbar\":{\"outlinewidth\":0,\"ticks\":\"\"},\"colorscale\":[[0.0,\"#0d0887\"],[0.1111111111111111,\"#46039f\"],[0.2222222222222222,\"#7201a8\"],[0.3333333333333333,\"#9c179e\"],[0.4444444444444444,\"#bd3786\"],[0.5555555555555556,\"#d8576b\"],[0.6666666666666666,\"#ed7953\"],[0.7777777777777778,\"#fb9f3a\"],[0.8888888888888888,\"#fdca26\"],[1.0,\"#f0f921\"]],\"type\":\"heatmapgl\"}],\"heatmap\":[{\"colorbar\":{\"outlinewidth\":0,\"ticks\":\"\"},\"colorscale\":[[0.0,\"#0d0887\"],[0.1111111111111111,\"#46039f\"],[0.2222222222222222,\"#7201a8\"],[0.3333333333333333,\"#9c179e\"],[0.4444444444444444,\"#bd3786\"],[0.5555555555555556,\"#d8576b\"],[0.6666666666666666,\"#ed7953\"],[0.7777777777777778,\"#fb9f3a\"],[0.8888888888888888,\"#fdca26\"],[1.0,\"#f0f921\"]],\"type\":\"heatmap\"}],\"histogram2dcontour\":[{\"colorbar\":{\"outlinewidth\":0,\"ticks\":\"\"},\"colorscale\":[[0.0,\"#0d0887\"],[0.1111111111111111,\"#46039f\"],[0.2222222222222222,\"#7201a8\"],[0.3333333333333333,\"#9c179e\"],[0.4444444444444444,\"#bd3786\"],[0.5555555555555556,\"#d8576b\"],[0.6666666666666666,\"#ed7953\"],[0.7777777777777778,\"#fb9f3a\"],[0.8888888888888888,\"#fdca26\"],[1.0,\"#f0f921\"]],\"type\":\"histogram2dcontour\"}],\"histogram2d\":[{\"colorbar\":{\"outlinewidth\":0,\"ticks\":\"\"},\"colorscale\":[[0.0,\"#0d0887\"],[0.1111111111111111,\"#46039f\"],[0.2222222222222222,\"#7201a8\"],[0.3333333333333333,\"#9c179e\"],[0.4444444444444444,\"#bd3786\"],[0.5555555555555556,\"#d8576b\"],[0.6666666666666666,\"#ed7953\"],[0.7777777777777778,\"#fb9f3a\"],[0.8888888888888888,\"#fdca26\"],[1.0,\"#f0f921\"]],\"type\":\"histogram2d\"}],\"histogram\":[{\"marker\":{\"pattern\":{\"fillmode\":\"overlay\",\"size\":10,\"solidity\":0.2}},\"type\":\"histogram\"}],\"mesh3d\":[{\"colorbar\":{\"outlinewidth\":0,\"ticks\":\"\"},\"type\":\"mesh3d\"}],\"parcoords\":[{\"line\":{\"colorbar\":{\"outlinewidth\":0,\"ticks\":\"\"}},\"type\":\"parcoords\"}],\"pie\":[{\"automargin\":true,\"type\":\"pie\"}],\"scatter3d\":[{\"line\":{\"colorbar\":{\"outlinewidth\":0,\"ticks\":\"\"}},\"marker\":{\"colorbar\":{\"outlinewidth\":0,\"ticks\":\"\"}},\"type\":\"scatter3d\"}],\"scattercarpet\":[{\"marker\":{\"colorbar\":{\"outlinewidth\":0,\"ticks\":\"\"}},\"type\":\"scattercarpet\"}],\"scattergeo\":[{\"marker\":{\"colorbar\":{\"outlinewidth\":0,\"ticks\":\"\"}},\"type\":\"scattergeo\"}],\"scattergl\":[{\"marker\":{\"line\":{\"color\":\"#283442\"}},\"type\":\"scattergl\"}],\"scattermapbox\":[{\"marker\":{\"colorbar\":{\"outlinewidth\":0,\"ticks\":\"\"}},\"type\":\"scattermapbox\"}],\"scatterpolargl\":[{\"marker\":{\"colorbar\":{\"outlinewidth\":0,\"ticks\":\"\"}},\"type\":\"scatterpolargl\"}],\"scatterpolar\":[{\"marker\":{\"colorbar\":{\"outlinewidth\":0,\"ticks\":\"\"}},\"type\":\"scatterpolar\"}],\"scatter\":[{\"marker\":{\"line\":{\"color\":\"#283442\"}},\"type\":\"scatter\"}],\"scatterternary\":[{\"marker\":{\"colorbar\":{\"outlinewidth\":0,\"ticks\":\"\"}},\"type\":\"scatterternary\"}],\"surface\":[{\"colorbar\":{\"outlinewidth\":0,\"ticks\":\"\"},\"colorscale\":[[0.0,\"#0d0887\"],[0.1111111111111111,\"#46039f\"],[0.2222222222222222,\"#7201a8\"],[0.3333333333333333,\"#9c179e\"],[0.4444444444444444,\"#bd3786\"],[0.5555555555555556,\"#d8576b\"],[0.6666666666666666,\"#ed7953\"],[0.7777777777777778,\"#fb9f3a\"],[0.8888888888888888,\"#fdca26\"],[1.0,\"#f0f921\"]],\"type\":\"surface\"}],\"table\":[{\"cells\":{\"fill\":{\"color\":\"#506784\"},\"line\":{\"color\":\"rgb(17,17,17)\"}},\"header\":{\"fill\":{\"color\":\"#2a3f5f\"},\"line\":{\"color\":\"rgb(17,17,17)\"}},\"type\":\"table\"}]},\"layout\":{\"annotationdefaults\":{\"arrowcolor\":\"#f2f5fa\",\"arrowhead\":0,\"arrowwidth\":1},\"autotypenumbers\":\"strict\",\"coloraxis\":{\"colorbar\":{\"outlinewidth\":0,\"ticks\":\"\"}},\"colorscale\":{\"diverging\":[[0,\"#8e0152\"],[0.1,\"#c51b7d\"],[0.2,\"#de77ae\"],[0.3,\"#f1b6da\"],[0.4,\"#fde0ef\"],[0.5,\"#f7f7f7\"],[0.6,\"#e6f5d0\"],[0.7,\"#b8e186\"],[0.8,\"#7fbc41\"],[0.9,\"#4d9221\"],[1,\"#276419\"]],\"sequential\":[[0.0,\"#0d0887\"],[0.1111111111111111,\"#46039f\"],[0.2222222222222222,\"#7201a8\"],[0.3333333333333333,\"#9c179e\"],[0.4444444444444444,\"#bd3786\"],[0.5555555555555556,\"#d8576b\"],[0.6666666666666666,\"#ed7953\"],[0.7777777777777778,\"#fb9f3a\"],[0.8888888888888888,\"#fdca26\"],[1.0,\"#f0f921\"]],\"sequentialminus\":[[0.0,\"#0d0887\"],[0.1111111111111111,\"#46039f\"],[0.2222222222222222,\"#7201a8\"],[0.3333333333333333,\"#9c179e\"],[0.4444444444444444,\"#bd3786\"],[0.5555555555555556,\"#d8576b\"],[0.6666666666666666,\"#ed7953\"],[0.7777777777777778,\"#fb9f3a\"],[0.8888888888888888,\"#fdca26\"],[1.0,\"#f0f921\"]]},\"colorway\":[\"#636efa\",\"#EF553B\",\"#00cc96\",\"#ab63fa\",\"#FFA15A\",\"#19d3f3\",\"#FF6692\",\"#B6E880\",\"#FF97FF\",\"#FECB52\"],\"font\":{\"color\":\"#f2f5fa\"},\"geo\":{\"bgcolor\":\"rgb(17,17,17)\",\"lakecolor\":\"rgb(17,17,17)\",\"landcolor\":\"rgb(17,17,17)\",\"showlakes\":true,\"showland\":true,\"subunitcolor\":\"#506784\"},\"hoverlabel\":{\"align\":\"left\"},\"hovermode\":\"closest\",\"mapbox\":{\"style\":\"dark\"},\"paper_bgcolor\":\"rgb(17,17,17)\",\"plot_bgcolor\":\"rgb(17,17,17)\",\"polar\":{\"angularaxis\":{\"gridcolor\":\"#506784\",\"linecolor\":\"#506784\",\"ticks\":\"\"},\"bgcolor\":\"rgb(17,17,17)\",\"radialaxis\":{\"gridcolor\":\"#506784\",\"linecolor\":\"#506784\",\"ticks\":\"\"}},\"scene\":{\"xaxis\":{\"backgroundcolor\":\"rgb(17,17,17)\",\"gridcolor\":\"#506784\",\"gridwidth\":2,\"linecolor\":\"#506784\",\"showbackground\":true,\"ticks\":\"\",\"zerolinecolor\":\"#C8D4E3\"},\"yaxis\":{\"backgroundcolor\":\"rgb(17,17,17)\",\"gridcolor\":\"#506784\",\"gridwidth\":2,\"linecolor\":\"#506784\",\"showbackground\":true,\"ticks\":\"\",\"zerolinecolor\":\"#C8D4E3\"},\"zaxis\":{\"backgroundcolor\":\"rgb(17,17,17)\",\"gridcolor\":\"#506784\",\"gridwidth\":2,\"linecolor\":\"#506784\",\"showbackground\":true,\"ticks\":\"\",\"zerolinecolor\":\"#C8D4E3\"}},\"shapedefaults\":{\"line\":{\"color\":\"#f2f5fa\"}},\"sliderdefaults\":{\"bgcolor\":\"#C8D4E3\",\"bordercolor\":\"rgb(17,17,17)\",\"borderwidth\":1,\"tickwidth\":0},\"ternary\":{\"aaxis\":{\"gridcolor\":\"#506784\",\"linecolor\":\"#506784\",\"ticks\":\"\"},\"baxis\":{\"gridcolor\":\"#506784\",\"linecolor\":\"#506784\",\"ticks\":\"\"},\"bgcolor\":\"rgb(17,17,17)\",\"caxis\":{\"gridcolor\":\"#506784\",\"linecolor\":\"#506784\",\"ticks\":\"\"}},\"title\":{\"x\":0.05},\"updatemenudefaults\":{\"bgcolor\":\"#506784\",\"borderwidth\":0},\"xaxis\":{\"automargin\":true,\"gridcolor\":\"#283442\",\"linecolor\":\"#506784\",\"ticks\":\"\",\"title\":{\"standoff\":15},\"zerolinecolor\":\"#283442\",\"zerolinewidth\":2},\"yaxis\":{\"automargin\":true,\"gridcolor\":\"#283442\",\"linecolor\":\"#506784\",\"ticks\":\"\",\"title\":{\"standoff\":15},\"zerolinecolor\":\"#283442\",\"zerolinewidth\":2}}},\"legend\":{\"tracegroupgap\":0},\"title\":{\"text\":\"Yearly Layoff percentage\"},\"piecolorway\":[\"rgb(103,0,31)\",\"rgb(178,24,43)\",\"rgb(214,96,77)\",\"rgb(244,165,130)\",\"rgb(253,219,199)\",\"rgb(247,247,247)\",\"rgb(209,229,240)\",\"rgb(146,197,222)\",\"rgb(67,147,195)\",\"rgb(33,102,172)\",\"rgb(5,48,97)\"]},                        {\"responsive\": true}                    ).then(function(){\n",
              "                            \n",
              "var gd = document.getElementById('da76364b-f65f-4916-86bc-b94f72063699');\n",
              "var x = new MutationObserver(function (mutations, observer) {{\n",
              "        var display = window.getComputedStyle(gd).display;\n",
              "        if (!display || display === 'none') {{\n",
              "            console.log([gd, 'removed!']);\n",
              "            Plotly.purge(gd);\n",
              "            observer.disconnect();\n",
              "        }}\n",
              "}});\n",
              "\n",
              "// Listen for the removal of the full notebook cells\n",
              "var notebookContainer = gd.closest('#notebook-container');\n",
              "if (notebookContainer) {{\n",
              "    x.observe(notebookContainer, {childList: true});\n",
              "}}\n",
              "\n",
              "// Listen for the clearing of the current output cell\n",
              "var outputEl = gd.closest('.output');\n",
              "if (outputEl) {{\n",
              "    x.observe(outputEl, {childList: true});\n",
              "}}\n",
              "\n",
              "                        })                };                            </script>        </div>\n",
              "</body>\n",
              "</html>"
            ]
          },
          "metadata": {}
        }
      ]
    },
    {
      "cell_type": "code",
      "source": [
        "#date interval wise employeess laidoff\n",
        "date_intervalwise_laidoff = px.histogram(df.dropna(subset=['Laid_Off_Count']), x='Date', y='Laid_Off_Count', histfunc='sum', text_auto=True,template=\"plotly_dark\")\n",
        "date_intervalwise_laidoff.update_xaxes(categoryorder='total descending')\n",
        "date_intervalwise_laidoff.show()\n",
        "\n",
        "# all_graphs.append(date_intervalwise_laidoff)"
      ],
      "metadata": {
        "colab": {
          "base_uri": "https://localhost:8080/",
          "height": 542
        },
        "id": "YAFHQ4xu4kJD",
        "outputId": "6c686b3e-9d93-4c60-e6ec-ddc4b5dcd41b"
      },
      "execution_count": 46,
      "outputs": [
        {
          "output_type": "display_data",
          "data": {
            "text/html": [
              "<html>\n",
              "<head><meta charset=\"utf-8\" /></head>\n",
              "<body>\n",
              "    <div>            <script src=\"https://cdnjs.cloudflare.com/ajax/libs/mathjax/2.7.5/MathJax.js?config=TeX-AMS-MML_SVG\"></script><script type=\"text/javascript\">if (window.MathJax) {MathJax.Hub.Config({SVG: {font: \"STIX-Web\"}});}</script>                <script type=\"text/javascript\">window.PlotlyConfig = {MathJaxConfig: 'local'};</script>\n",
              "        <script src=\"https://cdn.plot.ly/plotly-2.8.3.min.js\"></script>                <div id=\"5e19e49b-d640-477b-b27e-00b913e7e012\" class=\"plotly-graph-div\" style=\"height:525px; width:100%;\"></div>            <script type=\"text/javascript\">                                    window.PLOTLYENV=window.PLOTLYENV || {};                                    if (document.getElementById(\"5e19e49b-d640-477b-b27e-00b913e7e012\")) {                    Plotly.newPlot(                        \"5e19e49b-d640-477b-b27e-00b913e7e012\",                        [{\"alignmentgroup\":\"True\",\"bingroup\":\"x\",\"histfunc\":\"sum\",\"hovertemplate\":\"Date=%{x}<br>sum of Laid_Off_Count=%{y}<extra></extra>\",\"legendgroup\":\"\",\"marker\":{\"color\":\"#636efa\",\"pattern\":{\"shape\":\"\"}},\"name\":\"\",\"offsetgroup\":\"\",\"orientation\":\"v\",\"showlegend\":false,\"texttemplate\":\"%{value}\",\"x\":[\"2020-03-11T00:00:00\",\"2020-03-12T00:00:00\",\"2020-03-13T00:00:00\",\"2020-03-13T00:00:00\",\"2020-03-16T00:00:00\",\"2020-03-16T00:00:00\",\"2020-03-18T00:00:00\",\"2020-03-19T00:00:00\",\"2020-03-19T00:00:00\",\"2020-03-19T00:00:00\",\"2020-03-19T00:00:00\",\"2020-03-20T00:00:00\",\"2020-03-20T00:00:00\",\"2020-03-20T00:00:00\",\"2020-03-20T00:00:00\",\"2020-03-23T00:00:00\",\"2020-03-23T00:00:00\",\"2020-03-23T00:00:00\",\"2020-03-23T00:00:00\",\"2020-03-23T00:00:00\",\"2020-03-23T00:00:00\",\"2020-03-23T00:00:00\",\"2020-03-23T00:00:00\",\"2020-03-24T00:00:00\",\"2020-03-24T00:00:00\",\"2020-03-24T00:00:00\",\"2020-03-24T00:00:00\",\"2020-03-24T00:00:00\",\"2020-03-25T00:00:00\",\"2020-03-25T00:00:00\",\"2020-03-25T00:00:00\",\"2020-03-25T00:00:00\",\"2020-03-25T00:00:00\",\"2020-03-25T00:00:00\",\"2020-03-25T00:00:00\",\"2020-03-25T00:00:00\",\"2020-03-25T00:00:00\",\"2020-03-25T00:00:00\",\"2020-03-26T00:00:00\",\"2020-03-26T00:00:00\",\"2020-03-26T00:00:00\",\"2020-03-26T00:00:00\",\"2020-03-26T00:00:00\",\"2020-03-26T00:00:00\",\"2020-03-26T00:00:00\",\"2020-03-26T00:00:00\",\"2020-03-27T00:00:00\",\"2020-03-27T00:00:00\",\"2020-03-27T00:00:00\",\"2020-03-27T00:00:00\",\"2020-03-27T00:00:00\",\"2020-03-27T00:00:00\",\"2020-03-27T00:00:00\",\"2020-03-27T00:00:00\",\"2020-03-27T00:00:00\",\"2020-03-27T00:00:00\",\"2020-03-27T00:00:00\",\"2020-03-27T00:00:00\",\"2020-03-27T00:00:00\",\"2020-03-27T00:00:00\",\"2020-03-27T00:00:00\",\"2020-03-27T00:00:00\",\"2020-03-27T00:00:00\",\"2020-03-27T00:00:00\",\"2020-03-27T00:00:00\",\"2020-03-27T00:00:00\",\"2020-03-28T00:00:00\",\"2020-03-28T00:00:00\",\"2020-03-29T00:00:00\",\"2020-03-29T00:00:00\",\"2020-03-29T00:00:00\",\"2020-03-30T00:00:00\",\"2020-03-30T00:00:00\",\"2020-03-30T00:00:00\",\"2020-03-30T00:00:00\",\"2020-03-30T00:00:00\",\"2020-03-30T00:00:00\",\"2020-03-30T00:00:00\",\"2020-03-30T00:00:00\",\"2020-03-30T00:00:00\",\"2020-03-30T00:00:00\",\"2020-03-30T00:00:00\",\"2020-03-30T00:00:00\",\"2020-03-31T00:00:00\",\"2020-03-31T00:00:00\",\"2020-03-31T00:00:00\",\"2020-03-31T00:00:00\",\"2020-03-31T00:00:00\",\"2020-03-31T00:00:00\",\"2020-03-31T00:00:00\",\"2020-03-31T00:00:00\",\"2020-03-31T00:00:00\",\"2020-03-31T00:00:00\",\"2020-04-01T00:00:00\",\"2020-04-01T00:00:00\",\"2020-04-01T00:00:00\",\"2020-04-01T00:00:00\",\"2020-04-01T00:00:00\",\"2020-04-01T00:00:00\",\"2020-04-01T00:00:00\",\"2020-04-01T00:00:00\",\"2020-04-01T00:00:00\",\"2020-04-01T00:00:00\",\"2020-04-01T00:00:00\",\"2020-04-01T00:00:00\",\"2020-04-01T00:00:00\",\"2020-04-01T00:00:00\",\"2020-04-01T00:00:00\",\"2020-04-02T00:00:00\",\"2020-04-02T00:00:00\",\"2020-04-02T00:00:00\",\"2020-04-02T00:00:00\",\"2020-04-02T00:00:00\",\"2020-04-02T00:00:00\",\"2020-04-02T00:00:00\",\"2020-04-02T00:00:00\",\"2020-04-02T00:00:00\",\"2020-04-02T00:00:00\",\"2020-04-02T00:00:00\",\"2020-04-02T00:00:00\",\"2020-04-02T00:00:00\",\"2020-04-02T00:00:00\",\"2020-04-02T00:00:00\",\"2020-04-02T00:00:00\",\"2020-04-02T00:00:00\",\"2020-04-02T00:00:00\",\"2020-04-02T00:00:00\",\"2020-04-02T00:00:00\",\"2020-04-02T00:00:00\",\"2020-04-02T00:00:00\",\"2020-04-03T00:00:00\",\"2020-04-03T00:00:00\",\"2020-04-03T00:00:00\",\"2020-04-03T00:00:00\",\"2020-04-03T00:00:00\",\"2020-04-03T00:00:00\",\"2020-04-03T00:00:00\",\"2020-04-03T00:00:00\",\"2020-04-03T00:00:00\",\"2020-04-03T00:00:00\",\"2020-04-03T00:00:00\",\"2020-04-03T00:00:00\",\"2020-04-03T00:00:00\",\"2020-04-03T00:00:00\",\"2020-04-03T00:00:00\",\"2020-04-03T00:00:00\",\"2020-04-03T00:00:00\",\"2020-04-03T00:00:00\",\"2020-04-03T00:00:00\",\"2020-04-04T00:00:00\",\"2020-04-05T00:00:00\",\"2020-04-06T00:00:00\",\"2020-04-06T00:00:00\",\"2020-04-06T00:00:00\",\"2020-04-06T00:00:00\",\"2020-04-06T00:00:00\",\"2020-04-06T00:00:00\",\"2020-04-06T00:00:00\",\"2020-04-06T00:00:00\",\"2020-04-06T00:00:00\",\"2020-04-07T00:00:00\",\"2020-04-07T00:00:00\",\"2020-04-07T00:00:00\",\"2020-04-07T00:00:00\",\"2020-04-07T00:00:00\",\"2020-04-07T00:00:00\",\"2020-04-07T00:00:00\",\"2020-04-07T00:00:00\",\"2020-04-07T00:00:00\",\"2020-04-07T00:00:00\",\"2020-04-07T00:00:00\",\"2020-04-07T00:00:00\",\"2020-04-07T00:00:00\",\"2020-04-08T00:00:00\",\"2020-04-08T00:00:00\",\"2020-04-08T00:00:00\",\"2020-04-08T00:00:00\",\"2020-04-08T00:00:00\",\"2020-04-08T00:00:00\",\"2020-04-08T00:00:00\",\"2020-04-08T00:00:00\",\"2020-04-08T00:00:00\",\"2020-04-08T00:00:00\",\"2020-04-08T00:00:00\",\"2020-04-08T00:00:00\",\"2020-04-08T00:00:00\",\"2020-04-08T00:00:00\",\"2020-04-08T00:00:00\",\"2020-04-09T00:00:00\",\"2020-04-09T00:00:00\",\"2020-04-09T00:00:00\",\"2020-04-09T00:00:00\",\"2020-04-09T00:00:00\",\"2020-04-09T00:00:00\",\"2020-04-09T00:00:00\",\"2020-04-09T00:00:00\",\"2020-04-09T00:00:00\",\"2020-04-09T00:00:00\",\"2020-04-09T00:00:00\",\"2020-04-10T00:00:00\",\"2020-04-10T00:00:00\",\"2020-04-10T00:00:00\",\"2020-04-10T00:00:00\",\"2020-04-10T00:00:00\",\"2020-04-10T00:00:00\",\"2020-04-10T00:00:00\",\"2020-04-10T00:00:00\",\"2020-04-13T00:00:00\",\"2020-04-13T00:00:00\",\"2020-04-13T00:00:00\",\"2020-04-13T00:00:00\",\"2020-04-13T00:00:00\",\"2020-04-14T00:00:00\",\"2020-04-14T00:00:00\",\"2020-04-14T00:00:00\",\"2020-04-14T00:00:00\",\"2020-04-14T00:00:00\",\"2020-04-14T00:00:00\",\"2020-04-14T00:00:00\",\"2020-04-15T00:00:00\",\"2020-04-15T00:00:00\",\"2020-04-15T00:00:00\",\"2020-04-15T00:00:00\",\"2020-04-15T00:00:00\",\"2020-04-15T00:00:00\",\"2020-04-15T00:00:00\",\"2020-04-15T00:00:00\",\"2020-04-15T00:00:00\",\"2020-04-15T00:00:00\",\"2020-04-16T00:00:00\",\"2020-04-16T00:00:00\",\"2020-04-16T00:00:00\",\"2020-04-17T00:00:00\",\"2020-04-17T00:00:00\",\"2020-04-17T00:00:00\",\"2020-04-17T00:00:00\",\"2020-04-17T00:00:00\",\"2020-04-17T00:00:00\",\"2020-04-17T00:00:00\",\"2020-04-17T00:00:00\",\"2020-04-17T00:00:00\",\"2020-04-17T00:00:00\",\"2020-04-20T00:00:00\",\"2020-04-20T00:00:00\",\"2020-04-20T00:00:00\",\"2020-04-20T00:00:00\",\"2020-04-20T00:00:00\",\"2020-04-20T00:00:00\",\"2020-04-20T00:00:00\",\"2020-04-20T00:00:00\",\"2020-04-21T00:00:00\",\"2020-04-21T00:00:00\",\"2020-04-21T00:00:00\",\"2020-04-21T00:00:00\",\"2020-04-21T00:00:00\",\"2020-04-21T00:00:00\",\"2020-04-21T00:00:00\",\"2020-04-21T00:00:00\",\"2020-04-21T00:00:00\",\"2020-04-21T00:00:00\",\"2020-04-21T00:00:00\",\"2020-04-22T00:00:00\",\"2020-04-22T00:00:00\",\"2020-04-22T00:00:00\",\"2020-04-23T00:00:00\",\"2020-04-23T00:00:00\",\"2020-04-23T00:00:00\",\"2020-04-23T00:00:00\",\"2020-04-23T00:00:00\",\"2020-04-24T00:00:00\",\"2020-04-24T00:00:00\",\"2020-04-24T00:00:00\",\"2020-04-24T00:00:00\",\"2020-04-24T00:00:00\",\"2020-04-24T00:00:00\",\"2020-04-24T00:00:00\",\"2020-04-24T00:00:00\",\"2020-04-25T00:00:00\",\"2020-04-25T00:00:00\",\"2020-04-25T00:00:00\",\"2020-04-27T00:00:00\",\"2020-04-27T00:00:00\",\"2020-04-28T00:00:00\",\"2020-04-28T00:00:00\",\"2020-04-28T00:00:00\",\"2020-04-28T00:00:00\",\"2020-04-28T00:00:00\",\"2020-04-28T00:00:00\",\"2020-04-28T00:00:00\",\"2020-04-29T00:00:00\",\"2020-04-29T00:00:00\",\"2020-04-29T00:00:00\",\"2020-04-29T00:00:00\",\"2020-04-29T00:00:00\",\"2020-04-29T00:00:00\",\"2020-04-30T00:00:00\",\"2020-04-30T00:00:00\",\"2020-05-01T00:00:00\",\"2020-05-01T00:00:00\",\"2020-05-01T00:00:00\",\"2020-05-01T00:00:00\",\"2020-05-01T00:00:00\",\"2020-05-01T00:00:00\",\"2020-05-01T00:00:00\",\"2020-05-03T00:00:00\",\"2020-05-03T00:00:00\",\"2020-05-04T00:00:00\",\"2020-05-04T00:00:00\",\"2020-05-04T00:00:00\",\"2020-05-04T00:00:00\",\"2020-05-04T00:00:00\",\"2020-05-04T00:00:00\",\"2020-05-04T00:00:00\",\"2020-05-05T00:00:00\",\"2020-05-05T00:00:00\",\"2020-05-05T00:00:00\",\"2020-05-05T00:00:00\",\"2020-05-05T00:00:00\",\"2020-05-05T00:00:00\",\"2020-05-06T00:00:00\",\"2020-05-06T00:00:00\",\"2020-05-06T00:00:00\",\"2020-05-06T00:00:00\",\"2020-05-06T00:00:00\",\"2020-05-07T00:00:00\",\"2020-05-07T00:00:00\",\"2020-05-07T00:00:00\",\"2020-05-07T00:00:00\",\"2020-05-07T00:00:00\",\"2020-05-07T00:00:00\",\"2020-05-08T00:00:00\",\"2020-05-11T00:00:00\",\"2020-05-11T00:00:00\",\"2020-05-12T00:00:00\",\"2020-05-12T00:00:00\",\"2020-05-12T00:00:00\",\"2020-05-12T00:00:00\",\"2020-05-12T00:00:00\",\"2020-05-13T00:00:00\",\"2020-05-13T00:00:00\",\"2020-05-13T00:00:00\",\"2020-05-13T00:00:00\",\"2020-05-13T00:00:00\",\"2020-05-14T00:00:00\",\"2020-05-14T00:00:00\",\"2020-05-14T00:00:00\",\"2020-05-14T00:00:00\",\"2020-05-14T00:00:00\",\"2020-05-15T00:00:00\",\"2020-05-15T00:00:00\",\"2020-05-15T00:00:00\",\"2020-05-17T00:00:00\",\"2020-05-18T00:00:00\",\"2020-05-18T00:00:00\",\"2020-05-18T00:00:00\",\"2020-05-18T00:00:00\",\"2020-05-18T00:00:00\",\"2020-05-18T00:00:00\",\"2020-05-19T00:00:00\",\"2020-05-19T00:00:00\",\"2020-05-19T00:00:00\",\"2020-05-20T00:00:00\",\"2020-05-20T00:00:00\",\"2020-05-20T00:00:00\",\"2020-05-20T00:00:00\",\"2020-05-20T00:00:00\",\"2020-05-20T00:00:00\",\"2020-05-21T00:00:00\",\"2020-05-21T00:00:00\",\"2020-05-21T00:00:00\",\"2020-05-22T00:00:00\",\"2020-05-25T00:00:00\",\"2020-05-26T00:00:00\",\"2020-05-26T00:00:00\",\"2020-05-26T00:00:00\",\"2020-05-27T00:00:00\",\"2020-05-27T00:00:00\",\"2020-05-28T00:00:00\",\"2020-05-28T00:00:00\",\"2020-05-28T00:00:00\",\"2020-05-28T00:00:00\",\"2020-05-28T00:00:00\",\"2020-05-29T00:00:00\",\"2020-05-29T00:00:00\",\"2020-06-01T00:00:00\",\"2020-06-01T00:00:00\",\"2020-06-01T00:00:00\",\"2020-06-02T00:00:00\",\"2020-06-02T00:00:00\",\"2020-06-02T00:00:00\",\"2020-06-02T00:00:00\",\"2020-06-02T00:00:00\",\"2020-06-03T00:00:00\",\"2020-06-03T00:00:00\",\"2020-06-03T00:00:00\",\"2020-06-03T00:00:00\",\"2020-06-04T00:00:00\",\"2020-06-04T00:00:00\",\"2020-06-05T00:00:00\",\"2020-06-05T00:00:00\",\"2020-06-09T00:00:00\",\"2020-06-10T00:00:00\",\"2020-06-11T00:00:00\",\"2020-06-11T00:00:00\",\"2020-06-12T00:00:00\",\"2020-06-12T00:00:00\",\"2020-06-16T00:00:00\",\"2020-06-16T00:00:00\",\"2020-06-16T00:00:00\",\"2020-06-16T00:00:00\",\"2020-06-17T00:00:00\",\"2020-06-18T00:00:00\",\"2020-06-19T00:00:00\",\"2020-06-22T00:00:00\",\"2020-06-23T00:00:00\",\"2020-06-23T00:00:00\",\"2020-06-23T00:00:00\",\"2020-06-24T00:00:00\",\"2020-06-24T00:00:00\",\"2020-06-29T00:00:00\",\"2020-06-29T00:00:00\",\"2020-06-29T00:00:00\",\"2020-06-29T00:00:00\",\"2020-06-29T00:00:00\",\"2020-06-30T00:00:00\",\"2020-07-01T00:00:00\",\"2020-07-01T00:00:00\",\"2020-07-01T00:00:00\",\"2020-07-01T00:00:00\",\"2020-07-08T00:00:00\",\"2020-07-09T00:00:00\",\"2020-07-09T00:00:00\",\"2020-07-10T00:00:00\",\"2020-07-13T00:00:00\",\"2020-07-14T00:00:00\",\"2020-07-15T00:00:00\",\"2020-07-17T00:00:00\",\"2020-07-20T00:00:00\",\"2020-07-21T00:00:00\",\"2020-07-23T00:00:00\",\"2020-07-27T00:00:00\",\"2020-07-27T00:00:00\",\"2020-07-28T00:00:00\",\"2020-07-30T00:00:00\",\"2020-07-30T00:00:00\",\"2020-08-05T00:00:00\",\"2020-08-06T00:00:00\",\"2020-08-07T00:00:00\",\"2020-08-08T00:00:00\",\"2020-08-11T00:00:00\",\"2020-08-14T00:00:00\",\"2020-08-19T00:00:00\",\"2020-08-24T00:00:00\",\"2020-08-26T00:00:00\",\"2020-08-31T00:00:00\",\"2020-09-01T00:00:00\",\"2020-09-01T00:00:00\",\"2020-09-09T00:00:00\",\"2020-09-11T00:00:00\",\"2020-09-11T00:00:00\",\"2020-09-29T00:00:00\",\"2020-10-10T00:00:00\",\"2020-10-14T00:00:00\",\"2020-10-23T00:00:00\",\"2020-10-29T00:00:00\",\"2020-10-29T00:00:00\",\"2020-11-01T00:00:00\",\"2020-11-09T00:00:00\",\"2020-11-17T00:00:00\",\"2020-11-17T00:00:00\",\"2020-11-19T00:00:00\",\"2020-12-08T00:00:00\",\"2020-12-16T00:00:00\",\"2020-12-16T00:00:00\",\"2020-12-23T00:00:00\",\"2021-01-06T00:00:00\",\"2021-01-13T00:00:00\",\"2021-01-20T00:00:00\",\"2021-01-21T00:00:00\",\"2021-01-23T00:00:00\",\"2021-01-25T00:00:00\",\"2021-01-27T00:00:00\",\"2021-01-27T00:00:00\",\"2021-02-01T00:00:00\",\"2021-02-03T00:00:00\",\"2021-02-04T00:00:00\",\"2021-02-09T00:00:00\",\"2021-02-09T00:00:00\",\"2021-02-22T00:00:00\",\"2021-02-23T00:00:00\",\"2021-03-09T00:00:00\",\"2021-04-06T00:00:00\",\"2021-04-26T00:00:00\",\"2021-04-29T00:00:00\",\"2021-06-01T00:00:00\",\"2021-07-26T00:00:00\",\"2021-08-05T00:00:00\",\"2021-08-24T00:00:00\",\"2021-08-30T00:00:00\",\"2021-09-14T00:00:00\",\"2021-09-23T00:00:00\",\"2021-10-05T00:00:00\",\"2021-11-02T00:00:00\",\"2021-11-18T00:00:00\",\"2021-12-01T00:00:00\",\"2021-12-22T00:00:00\",\"2022-01-20T00:00:00\",\"2022-01-26T00:00:00\",\"2022-01-26T00:00:00\",\"2022-02-03T00:00:00\",\"2022-02-08T00:00:00\",\"2022-02-10T00:00:00\",\"2022-02-14T00:00:00\",\"2022-02-16T00:00:00\",\"2022-02-17T00:00:00\",\"2022-02-21T00:00:00\",\"2022-02-21T00:00:00\",\"2022-02-24T00:00:00\",\"2022-03-01T00:00:00\",\"2022-03-02T00:00:00\",\"2022-03-03T00:00:00\",\"2022-03-08T00:00:00\",\"2022-03-08T00:00:00\",\"2022-03-15T00:00:00\",\"2022-03-15T00:00:00\",\"2022-03-16T00:00:00\",\"2022-03-17T00:00:00\",\"2022-03-26T00:00:00\",\"2022-03-29T00:00:00\",\"2022-03-29T00:00:00\",\"2022-03-30T00:00:00\",\"2022-03-30T00:00:00\",\"2022-03-31T00:00:00\",\"2022-04-04T00:00:00\",\"2022-04-04T00:00:00\",\"2022-04-05T00:00:00\",\"2022-04-07T00:00:00\",\"2022-04-07T00:00:00\",\"2022-04-08T00:00:00\",\"2022-04-11T00:00:00\",\"2022-04-12T00:00:00\",\"2022-04-14T00:00:00\",\"2022-04-15T00:00:00\",\"2022-04-19T00:00:00\",\"2022-04-19T00:00:00\",\"2022-04-19T00:00:00\",\"2022-04-20T00:00:00\",\"2022-04-20T00:00:00\",\"2022-04-21T00:00:00\",\"2022-04-25T00:00:00\",\"2022-04-26T00:00:00\",\"2022-04-26T00:00:00\",\"2022-04-27T00:00:00\",\"2022-04-28T00:00:00\",\"2022-04-28T00:00:00\",\"2022-04-29T00:00:00\",\"2022-05-01T00:00:00\",\"2022-05-04T00:00:00\",\"2022-05-04T00:00:00\",\"2022-05-04T00:00:00\",\"2022-05-04T00:00:00\",\"2022-05-04T00:00:00\",\"2022-05-04T00:00:00\",\"2022-05-05T00:00:00\",\"2022-05-05T00:00:00\",\"2022-05-05T00:00:00\",\"2022-05-06T00:00:00\",\"2022-05-06T00:00:00\",\"2022-05-09T00:00:00\",\"2022-05-10T00:00:00\",\"2022-05-10T00:00:00\",\"2022-05-10T00:00:00\",\"2022-05-10T00:00:00\",\"2022-05-11T00:00:00\",\"2022-05-12T00:00:00\",\"2022-05-12T00:00:00\",\"2022-05-13T00:00:00\",\"2022-05-14T00:00:00\",\"2022-05-14T00:00:00\",\"2022-05-16T00:00:00\",\"2022-05-17T00:00:00\",\"2022-05-17T00:00:00\",\"2022-05-17T00:00:00\",\"2022-05-18T00:00:00\",\"2022-05-19T00:00:00\",\"2022-05-20T00:00:00\",\"2022-05-20T00:00:00\",\"2022-05-20T00:00:00\",\"2022-05-21T00:00:00\",\"2022-05-23T00:00:00\",\"2022-05-23T00:00:00\",\"2022-05-23T00:00:00\",\"2022-05-23T00:00:00\",\"2022-05-23T00:00:00\",\"2022-05-23T00:00:00\",\"2022-05-24T00:00:00\",\"2022-05-24T00:00:00\",\"2022-05-24T00:00:00\",\"2022-05-25T00:00:00\",\"2022-05-25T00:00:00\",\"2022-05-25T00:00:00\",\"2022-05-25T00:00:00\",\"2022-05-25T00:00:00\",\"2022-05-25T00:00:00\",\"2022-05-26T00:00:00\",\"2022-05-26T00:00:00\",\"2022-05-26T00:00:00\",\"2022-05-26T00:00:00\",\"2022-05-27T00:00:00\",\"2022-05-27T00:00:00\",\"2022-05-27T00:00:00\",\"2022-05-30T00:00:00\",\"2022-05-30T00:00:00\",\"2022-05-30T00:00:00\",\"2022-05-31T00:00:00\",\"2022-05-31T00:00:00\",\"2022-05-31T00:00:00\",\"2022-05-31T00:00:00\",\"2022-05-31T00:00:00\",\"2022-06-01T00:00:00\",\"2022-06-01T00:00:00\",\"2022-06-01T00:00:00\",\"2022-06-01T00:00:00\",\"2022-06-01T00:00:00\",\"2022-06-01T00:00:00\",\"2022-06-01T00:00:00\",\"2022-06-01T00:00:00\",\"2022-06-01T00:00:00\",\"2022-06-02T00:00:00\",\"2022-06-02T00:00:00\",\"2022-06-02T00:00:00\",\"2022-06-02T00:00:00\",\"2022-06-02T00:00:00\",\"2022-06-02T00:00:00\",\"2022-06-02T00:00:00\",\"2022-06-02T00:00:00\",\"2022-06-02T00:00:00\",\"2022-06-02T00:00:00\",\"2022-06-03T00:00:00\",\"2022-06-03T00:00:00\",\"2022-06-03T00:00:00\",\"2022-06-04T00:00:00\",\"2022-06-06T00:00:00\",\"2022-06-06T00:00:00\",\"2022-06-07T00:00:00\",\"2022-06-07T00:00:00\",\"2022-06-07T00:00:00\",\"2022-06-07T00:00:00\",\"2022-06-07T00:00:00\",\"2022-06-07T00:00:00\",\"2022-06-07T00:00:00\",\"2022-06-08T00:00:00\",\"2022-06-08T00:00:00\",\"2022-06-08T00:00:00\",\"2022-06-08T00:00:00\",\"2022-06-09T00:00:00\",\"2022-06-09T00:00:00\",\"2022-06-09T00:00:00\",\"2022-06-09T00:00:00\",\"2022-06-09T00:00:00\",\"2022-06-09T00:00:00\",\"2022-06-09T00:00:00\",\"2022-06-09T00:00:00\",\"2022-06-09T00:00:00\",\"2022-06-10T00:00:00\",\"2022-06-10T00:00:00\",\"2022-06-10T00:00:00\",\"2022-06-10T00:00:00\",\"2022-06-10T00:00:00\",\"2022-06-10T00:00:00\",\"2022-06-13T00:00:00\",\"2022-06-13T00:00:00\",\"2022-06-13T00:00:00\",\"2022-06-14T00:00:00\",\"2022-06-14T00:00:00\",\"2022-06-14T00:00:00\",\"2022-06-14T00:00:00\",\"2022-06-14T00:00:00\",\"2022-06-14T00:00:00\",\"2022-06-14T00:00:00\",\"2022-06-15T00:00:00\",\"2022-06-15T00:00:00\",\"2022-06-15T00:00:00\",\"2022-06-15T00:00:00\",\"2022-06-15T00:00:00\",\"2022-06-15T00:00:00\",\"2022-06-15T00:00:00\",\"2022-06-15T00:00:00\",\"2022-06-15T00:00:00\",\"2022-06-16T00:00:00\",\"2022-06-16T00:00:00\",\"2022-06-16T00:00:00\",\"2022-06-17T00:00:00\",\"2022-06-17T00:00:00\",\"2022-06-17T00:00:00\",\"2022-06-18T00:00:00\",\"2022-06-19T00:00:00\",\"2022-06-19T00:00:00\",\"2022-06-20T00:00:00\",\"2022-06-20T00:00:00\",\"2022-06-20T00:00:00\",\"2022-06-20T00:00:00\",\"2022-06-20T00:00:00\",\"2022-06-20T00:00:00\",\"2022-06-21T00:00:00\",\"2022-06-21T00:00:00\",\"2022-06-21T00:00:00\",\"2022-06-21T00:00:00\",\"2022-06-22T00:00:00\",\"2022-06-22T00:00:00\",\"2022-06-22T00:00:00\",\"2022-06-22T00:00:00\",\"2022-06-22T00:00:00\",\"2022-06-22T00:00:00\",\"2022-06-22T00:00:00\",\"2022-06-22T00:00:00\",\"2022-06-22T00:00:00\",\"2022-06-23T00:00:00\",\"2022-06-23T00:00:00\",\"2022-06-23T00:00:00\",\"2022-06-23T00:00:00\",\"2022-06-23T00:00:00\",\"2022-06-24T00:00:00\",\"2022-06-24T00:00:00\",\"2022-06-24T00:00:00\",\"2022-06-24T00:00:00\",\"2022-06-26T00:00:00\",\"2022-06-27T00:00:00\",\"2022-06-27T00:00:00\",\"2022-06-27T00:00:00\",\"2022-06-27T00:00:00\",\"2022-06-27T00:00:00\",\"2022-06-27T00:00:00\",\"2022-06-28T00:00:00\",\"2022-06-28T00:00:00\",\"2022-06-28T00:00:00\",\"2022-06-28T00:00:00\",\"2022-06-28T00:00:00\",\"2022-06-28T00:00:00\",\"2022-06-28T00:00:00\",\"2022-06-28T00:00:00\",\"2022-06-29T00:00:00\",\"2022-06-29T00:00:00\",\"2022-06-29T00:00:00\",\"2022-06-29T00:00:00\",\"2022-06-29T00:00:00\",\"2022-06-29T00:00:00\",\"2022-06-29T00:00:00\",\"2022-06-29T00:00:00\",\"2022-06-29T00:00:00\",\"2022-06-29T00:00:00\",\"2022-06-29T00:00:00\",\"2022-06-30T00:00:00\",\"2022-06-30T00:00:00\",\"2022-06-30T00:00:00\",\"2022-06-30T00:00:00\",\"2022-06-30T00:00:00\",\"2022-06-30T00:00:00\",\"2022-06-30T00:00:00\",\"2022-06-30T00:00:00\",\"2022-07-01T00:00:00\",\"2022-07-01T00:00:00\",\"2022-07-01T00:00:00\",\"2022-07-01T00:00:00\",\"2022-07-03T00:00:00\",\"2022-07-03T00:00:00\",\"2022-07-04T00:00:00\",\"2022-07-04T00:00:00\",\"2022-07-04T00:00:00\",\"2022-07-04T00:00:00\",\"2022-07-05T00:00:00\",\"2022-07-05T00:00:00\",\"2022-07-05T00:00:00\",\"2022-07-05T00:00:00\",\"2022-07-05T00:00:00\",\"2022-07-05T00:00:00\",\"2022-07-05T00:00:00\",\"2022-07-05T00:00:00\",\"2022-07-05T00:00:00\",\"2022-07-06T00:00:00\",\"2022-07-06T00:00:00\",\"2022-07-06T00:00:00\",\"2022-07-06T00:00:00\",\"2022-07-07T00:00:00\",\"2022-07-07T00:00:00\",\"2022-07-07T00:00:00\",\"2022-07-07T00:00:00\",\"2022-07-08T00:00:00\",\"2022-07-08T00:00:00\",\"2022-07-08T00:00:00\",\"2022-07-11T00:00:00\",\"2022-07-11T00:00:00\",\"2022-07-11T00:00:00\",\"2022-07-12T00:00:00\",\"2022-07-12T00:00:00\",\"2022-07-12T00:00:00\",\"2022-07-12T00:00:00\",\"2022-07-13T00:00:00\",\"2022-07-13T00:00:00\",\"2022-07-13T00:00:00\",\"2022-07-13T00:00:00\",\"2022-07-13T00:00:00\",\"2022-07-13T00:00:00\",\"2022-07-13T00:00:00\",\"2022-07-13T00:00:00\",\"2022-07-14T00:00:00\",\"2022-07-14T00:00:00\",\"2022-07-14T00:00:00\",\"2022-07-14T00:00:00\",\"2022-07-15T00:00:00\",\"2022-07-15T00:00:00\",\"2022-07-15T00:00:00\",\"2022-07-15T00:00:00\",\"2022-07-18T00:00:00\",\"2022-07-18T00:00:00\",\"2022-07-18T00:00:00\",\"2022-07-19T00:00:00\",\"2022-07-19T00:00:00\",\"2022-07-19T00:00:00\",\"2022-07-19T00:00:00\",\"2022-07-19T00:00:00\",\"2022-07-20T00:00:00\",\"2022-07-20T00:00:00\",\"2022-07-20T00:00:00\",\"2022-07-20T00:00:00\",\"2022-07-20T00:00:00\",\"2022-07-20T00:00:00\",\"2022-07-20T00:00:00\",\"2022-07-20T00:00:00\",\"2022-07-20T00:00:00\",\"2022-07-20T00:00:00\",\"2022-07-21T00:00:00\",\"2022-07-21T00:00:00\",\"2022-07-21T00:00:00\",\"2022-07-21T00:00:00\",\"2022-07-21T00:00:00\",\"2022-07-21T00:00:00\",\"2022-07-21T00:00:00\",\"2022-07-22T00:00:00\",\"2022-07-22T00:00:00\",\"2022-07-22T00:00:00\",\"2022-07-22T00:00:00\",\"2022-07-24T00:00:00\",\"2022-07-25T00:00:00\",\"2022-07-25T00:00:00\",\"2022-07-26T00:00:00\",\"2022-07-26T00:00:00\",\"2022-07-26T00:00:00\",\"2022-07-26T00:00:00\",\"2022-07-26T00:00:00\",\"2022-07-26T00:00:00\",\"2022-07-26T00:00:00\",\"2022-07-27T00:00:00\",\"2022-07-27T00:00:00\",\"2022-07-27T00:00:00\",\"2022-07-27T00:00:00\",\"2022-07-28T00:00:00\",\"2022-07-28T00:00:00\",\"2022-07-28T00:00:00\",\"2022-07-28T00:00:00\",\"2022-07-28T00:00:00\",\"2022-07-28T00:00:00\",\"2022-07-29T00:00:00\",\"2022-07-29T00:00:00\",\"2022-07-29T00:00:00\",\"2022-07-29T00:00:00\",\"2022-07-29T00:00:00\",\"2022-07-29T00:00:00\",\"2022-07-31T00:00:00\",\"2022-07-31T00:00:00\",\"2022-08-01T00:00:00\",\"2022-08-02T00:00:00\",\"2022-08-02T00:00:00\",\"2022-08-02T00:00:00\",\"2022-08-02T00:00:00\",\"2022-08-02T00:00:00\",\"2022-08-02T00:00:00\",\"2022-08-02T00:00:00\",\"2022-08-02T00:00:00\",\"2022-08-02T00:00:00\",\"2022-08-02T00:00:00\",\"2022-08-02T00:00:00\",\"2022-08-03T00:00:00\",\"2022-08-03T00:00:00\",\"2022-08-03T00:00:00\",\"2022-08-03T00:00:00\",\"2022-08-04T00:00:00\",\"2022-08-04T00:00:00\",\"2022-08-04T00:00:00\",\"2022-08-04T00:00:00\",\"2022-08-04T00:00:00\",\"2022-08-04T00:00:00\",\"2022-08-04T00:00:00\",\"2022-08-04T00:00:00\",\"2022-08-04T00:00:00\",\"2022-08-05T00:00:00\",\"2022-08-05T00:00:00\",\"2022-08-05T00:00:00\",\"2022-08-08T00:00:00\",\"2022-08-08T00:00:00\",\"2022-08-08T00:00:00\",\"2022-08-08T00:00:00\",\"2022-08-08T00:00:00\",\"2022-08-08T00:00:00\",\"2022-08-09T00:00:00\",\"2022-08-09T00:00:00\",\"2022-08-09T00:00:00\",\"2022-08-09T00:00:00\",\"2022-08-09T00:00:00\",\"2022-08-09T00:00:00\",\"2022-08-09T00:00:00\",\"2022-08-09T00:00:00\",\"2022-08-09T00:00:00\",\"2022-08-09T00:00:00\",\"2022-08-09T00:00:00\",\"2022-08-10T00:00:00\",\"2022-08-10T00:00:00\",\"2022-08-11T00:00:00\",\"2022-08-11T00:00:00\",\"2022-08-11T00:00:00\",\"2022-08-11T00:00:00\",\"2022-08-11T00:00:00\",\"2022-08-11T00:00:00\",\"2022-08-12T00:00:00\",\"2022-08-14T00:00:00\",\"2022-08-15T00:00:00\",\"2022-08-15T00:00:00\",\"2022-08-15T00:00:00\",\"2022-08-16T00:00:00\",\"2022-08-16T00:00:00\",\"2022-08-16T00:00:00\",\"2022-08-17T00:00:00\",\"2022-08-17T00:00:00\",\"2022-08-17T00:00:00\",\"2022-08-17T00:00:00\",\"2022-08-17T00:00:00\",\"2022-08-17T00:00:00\",\"2022-08-18T00:00:00\",\"2022-08-18T00:00:00\",\"2022-08-19T00:00:00\",\"2022-08-19T00:00:00\",\"2022-08-19T00:00:00\",\"2022-08-20T00:00:00\",\"2022-08-21T00:00:00\",\"2022-08-21T00:00:00\",\"2022-08-23T00:00:00\",\"2022-08-23T00:00:00\",\"2022-08-23T00:00:00\",\"2022-08-23T00:00:00\",\"2022-08-23T00:00:00\",\"2022-08-24T00:00:00\",\"2022-08-24T00:00:00\",\"2022-08-25T00:00:00\",\"2022-08-25T00:00:00\",\"2022-08-26T00:00:00\",\"2022-08-26T00:00:00\",\"2022-08-26T00:00:00\",\"2022-08-29T00:00:00\",\"2022-08-29T00:00:00\",\"2022-08-30T00:00:00\",\"2022-08-30T00:00:00\",\"2022-08-30T00:00:00\",\"2022-08-31T00:00:00\",\"2022-08-31T00:00:00\",\"2022-08-31T00:00:00\",\"2022-08-31T00:00:00\",\"2022-08-31T00:00:00\",\"2022-08-31T00:00:00\",\"2022-08-31T00:00:00\",\"2022-08-31T00:00:00\",\"2022-08-31T00:00:00\",\"2022-09-01T00:00:00\",\"2022-09-01T00:00:00\",\"2022-09-01T00:00:00\",\"2022-09-01T00:00:00\",\"2022-09-01T00:00:00\",\"2022-09-02T00:00:00\",\"2022-09-06T00:00:00\",\"2022-09-06T00:00:00\",\"2022-09-07T00:00:00\",\"2022-09-07T00:00:00\",\"2022-09-07T00:00:00\",\"2022-09-07T00:00:00\",\"2022-09-07T00:00:00\",\"2022-09-07T00:00:00\",\"2022-09-07T00:00:00\",\"2022-09-08T00:00:00\",\"2022-09-08T00:00:00\",\"2022-09-08T00:00:00\",\"2022-09-09T00:00:00\",\"2022-09-09T00:00:00\",\"2022-09-09T00:00:00\",\"2022-09-12T00:00:00\",\"2022-09-12T00:00:00\",\"2022-09-12T00:00:00\",\"2022-09-13T00:00:00\",\"2022-09-13T00:00:00\",\"2022-09-13T00:00:00\",\"2022-09-13T00:00:00\",\"2022-09-14T00:00:00\",\"2022-09-14T00:00:00\",\"2022-09-14T00:00:00\",\"2022-09-14T00:00:00\",\"2022-09-15T00:00:00\",\"2022-09-15T00:00:00\",\"2022-09-15T00:00:00\",\"2022-09-16T00:00:00\",\"2022-09-16T00:00:00\",\"2022-09-19T00:00:00\",\"2022-09-19T00:00:00\",\"2022-09-20T00:00:00\",\"2022-09-20T00:00:00\",\"2022-09-20T00:00:00\",\"2022-09-20T00:00:00\",\"2022-09-21T00:00:00\",\"2022-09-22T00:00:00\",\"2022-09-22T00:00:00\",\"2022-09-23T00:00:00\",\"2022-09-23T00:00:00\",\"2022-09-23T00:00:00\",\"2022-09-23T00:00:00\",\"2022-09-27T00:00:00\",\"2022-09-28T00:00:00\",\"2022-09-29T00:00:00\",\"2022-09-29T00:00:00\",\"2022-09-30T00:00:00\",\"2022-10-02T00:00:00\",\"2022-10-04T00:00:00\",\"2022-10-04T00:00:00\",\"2022-10-05T00:00:00\",\"2022-10-06T00:00:00\",\"2022-10-06T00:00:00\",\"2022-10-06T00:00:00\",\"2022-10-06T00:00:00\",\"2022-10-06T00:00:00\",\"2022-10-07T00:00:00\",\"2022-10-07T00:00:00\",\"2022-10-10T00:00:00\",\"2022-10-10T00:00:00\",\"2022-10-10T00:00:00\",\"2022-10-10T00:00:00\",\"2022-10-11T00:00:00\",\"2022-10-11T00:00:00\",\"2022-10-11T00:00:00\",\"2022-10-11T00:00:00\",\"2022-10-11T00:00:00\",\"2022-10-11T00:00:00\",\"2022-10-11T00:00:00\",\"2022-10-12T00:00:00\",\"2022-10-12T00:00:00\",\"2022-10-12T00:00:00\",\"2022-10-12T00:00:00\",\"2022-10-13T00:00:00\",\"2022-10-13T00:00:00\",\"2022-10-14T00:00:00\",\"2022-10-14T00:00:00\",\"2022-10-16T00:00:00\",\"2022-10-17T00:00:00\",\"2022-10-17T00:00:00\",\"2022-10-18T00:00:00\",\"2022-10-18T00:00:00\",\"2022-10-19T00:00:00\",\"2022-10-19T00:00:00\",\"2022-10-19T00:00:00\",\"2022-10-20T00:00:00\",\"2022-10-20T00:00:00\",\"2022-10-20T00:00:00\",\"2022-10-20T00:00:00\",\"2022-10-21T00:00:00\",\"2022-10-21T00:00:00\",\"2022-10-21T00:00:00\",\"2022-10-21T00:00:00\",\"2022-10-23T00:00:00\",\"2022-10-23T00:00:00\",\"2022-10-24T00:00:00\",\"2022-10-24T00:00:00\",\"2022-10-24T00:00:00\",\"2022-10-24T00:00:00\",\"2022-10-24T00:00:00\",\"2022-10-25T00:00:00\",\"2022-10-25T00:00:00\",\"2022-10-25T00:00:00\",\"2022-10-26T00:00:00\",\"2022-10-26T00:00:00\",\"2022-10-26T00:00:00\",\"2022-10-26T00:00:00\",\"2022-10-26T00:00:00\",\"2022-10-27T00:00:00\",\"2022-10-27T00:00:00\",\"2022-10-27T00:00:00\",\"2022-10-28T00:00:00\",\"2022-10-28T00:00:00\",\"2022-10-28T00:00:00\",\"2022-10-31T00:00:00\",\"2022-10-31T00:00:00\",\"2022-10-31T00:00:00\",\"2022-10-31T00:00:00\",\"2022-10-31T00:00:00\",\"2022-11-01T00:00:00\",\"2022-11-01T00:00:00\",\"2022-11-01T00:00:00\",\"2022-11-01T00:00:00\",\"2022-11-01T00:00:00\",\"2022-11-01T00:00:00\",\"2022-11-01T00:00:00\",\"2022-11-01T00:00:00\",\"2022-11-01T00:00:00\",\"2022-11-01T00:00:00\",\"2022-11-01T00:00:00\",\"2022-11-02T00:00:00\",\"2022-11-02T00:00:00\",\"2022-11-02T00:00:00\",\"2022-11-02T00:00:00\",\"2022-11-02T00:00:00\",\"2022-11-02T00:00:00\",\"2022-11-02T00:00:00\",\"2022-11-02T00:00:00\",\"2022-11-03T00:00:00\",\"2022-11-03T00:00:00\",\"2022-11-03T00:00:00\",\"2022-11-03T00:00:00\",\"2022-11-03T00:00:00\",\"2022-11-03T00:00:00\",\"2022-11-04T00:00:00\",\"2022-11-04T00:00:00\",\"2022-11-04T00:00:00\",\"2022-11-04T00:00:00\",\"2022-11-04T00:00:00\",\"2022-11-06T00:00:00\",\"2022-11-06T00:00:00\",\"2022-11-07T00:00:00\",\"2022-11-07T00:00:00\",\"2022-11-07T00:00:00\",\"2022-11-07T00:00:00\",\"2022-11-08T00:00:00\",\"2022-11-08T00:00:00\",\"2022-11-09T00:00:00\",\"2022-11-09T00:00:00\",\"2022-11-09T00:00:00\",\"2022-11-09T00:00:00\",\"2022-11-09T00:00:00\",\"2022-11-09T00:00:00\",\"2022-11-09T00:00:00\",\"2022-11-09T00:00:00\",\"2022-11-09T00:00:00\",\"2022-11-09T00:00:00\",\"2022-11-09T00:00:00\",\"2022-11-10T00:00:00\",\"2022-11-10T00:00:00\",\"2022-11-10T00:00:00\",\"2022-11-10T00:00:00\",\"2022-11-10T00:00:00\",\"2022-11-10T00:00:00\",\"2022-11-10T00:00:00\",\"2022-11-10T00:00:00\",\"2022-11-11T00:00:00\",\"2022-11-11T00:00:00\",\"2022-11-14T00:00:00\",\"2022-11-14T00:00:00\",\"2022-11-14T00:00:00\",\"2022-11-14T00:00:00\",\"2022-11-14T00:00:00\",\"2022-11-14T00:00:00\",\"2022-11-14T00:00:00\",\"2022-11-14T00:00:00\",\"2022-11-14T00:00:00\",\"2022-11-14T00:00:00\",\"2022-11-14T00:00:00\",\"2022-11-14T00:00:00\",\"2022-11-15T00:00:00\",\"2022-11-15T00:00:00\",\"2022-11-15T00:00:00\",\"2022-11-15T00:00:00\",\"2022-11-15T00:00:00\",\"2022-11-15T00:00:00\",\"2022-11-15T00:00:00\",\"2022-11-15T00:00:00\",\"2022-11-15T00:00:00\",\"2022-11-15T00:00:00\",\"2022-11-15T00:00:00\",\"2022-11-16T00:00:00\",\"2022-11-16T00:00:00\",\"2022-11-16T00:00:00\",\"2022-11-16T00:00:00\",\"2022-11-16T00:00:00\",\"2022-11-16T00:00:00\",\"2022-11-16T00:00:00\",\"2022-11-16T00:00:00\",\"2022-11-16T00:00:00\",\"2022-11-17T00:00:00\",\"2022-11-17T00:00:00\",\"2022-11-17T00:00:00\",\"2022-11-17T00:00:00\",\"2022-11-17T00:00:00\",\"2022-11-17T00:00:00\",\"2022-11-17T00:00:00\",\"2022-11-17T00:00:00\",\"2022-11-17T00:00:00\",\"2022-11-18T00:00:00\",\"2022-11-18T00:00:00\",\"2022-11-18T00:00:00\",\"2022-11-18T00:00:00\",\"2022-11-19T00:00:00\",\"2022-11-21T00:00:00\",\"2022-11-22T00:00:00\",\"2022-11-22T00:00:00\",\"2022-11-24T00:00:00\",\"2022-11-24T00:00:00\",\"2022-11-25T00:00:00\",\"2022-11-25T00:00:00\",\"2022-11-25T00:00:00\",\"2022-11-28T00:00:00\",\"2022-11-28T00:00:00\",\"2022-11-28T00:00:00\",\"2022-11-28T00:00:00\",\"2022-11-28T00:00:00\",\"2022-11-28T00:00:00\",\"2022-11-28T00:00:00\",\"2022-11-29T00:00:00\",\"2022-11-29T00:00:00\",\"2022-11-29T00:00:00\",\"2022-11-30T00:00:00\",\"2022-11-30T00:00:00\",\"2022-11-30T00:00:00\",\"2022-11-30T00:00:00\",\"2022-11-30T00:00:00\",\"2022-11-30T00:00:00\",\"2022-11-30T00:00:00\",\"2022-11-30T00:00:00\",\"2022-11-30T00:00:00\",\"2022-11-30T00:00:00\",\"2022-11-30T00:00:00\",\"2022-12-01T00:00:00\",\"2022-12-01T00:00:00\",\"2022-12-01T00:00:00\",\"2022-12-01T00:00:00\",\"2022-12-01T00:00:00\",\"2022-12-02T00:00:00\",\"2022-12-02T00:00:00\",\"2022-12-02T00:00:00\",\"2022-12-03T00:00:00\",\"2022-12-03T00:00:00\",\"2022-12-05T00:00:00\",\"2022-12-05T00:00:00\",\"2022-12-05T00:00:00\",\"2022-12-06T00:00:00\",\"2022-12-06T00:00:00\",\"2022-12-06T00:00:00\",\"2022-12-06T00:00:00\",\"2022-12-06T00:00:00\",\"2022-12-06T00:00:00\",\"2022-12-06T00:00:00\",\"2022-12-06T00:00:00\",\"2022-12-06T00:00:00\",\"2022-12-06T00:00:00\",\"2022-12-07T00:00:00\",\"2022-12-07T00:00:00\",\"2022-12-07T00:00:00\",\"2022-12-07T00:00:00\",\"2022-12-07T00:00:00\",\"2022-12-07T00:00:00\",\"2022-12-07T00:00:00\",\"2022-12-07T00:00:00\",\"2022-12-07T00:00:00\",\"2022-12-07T00:00:00\",\"2022-12-07T00:00:00\",\"2022-12-07T00:00:00\",\"2022-12-08T00:00:00\",\"2022-12-08T00:00:00\",\"2022-12-08T00:00:00\",\"2022-12-08T00:00:00\",\"2022-12-08T00:00:00\",\"2022-12-08T00:00:00\",\"2022-12-08T00:00:00\",\"2022-12-08T00:00:00\",\"2022-12-08T00:00:00\",\"2022-12-08T00:00:00\",\"2022-12-08T00:00:00\",\"2022-12-09T00:00:00\",\"2022-12-09T00:00:00\",\"2022-12-09T00:00:00\",\"2022-12-09T00:00:00\",\"2022-12-09T00:00:00\",\"2022-12-09T00:00:00\",\"2022-12-10T00:00:00\",\"2022-12-10T00:00:00\",\"2022-12-12T00:00:00\",\"2022-12-12T00:00:00\",\"2022-12-12T00:00:00\",\"2022-12-13T00:00:00\",\"2022-12-13T00:00:00\",\"2022-12-13T00:00:00\",\"2022-12-13T00:00:00\",\"2022-12-14T00:00:00\",\"2022-12-14T00:00:00\",\"2022-12-14T00:00:00\",\"2022-12-14T00:00:00\",\"2022-12-14T00:00:00\",\"2022-12-15T00:00:00\",\"2022-12-15T00:00:00\",\"2022-12-15T00:00:00\",\"2022-12-15T00:00:00\",\"2022-12-16T00:00:00\",\"2022-12-16T00:00:00\",\"2022-12-19T00:00:00\",\"2022-12-20T00:00:00\",\"2022-12-20T00:00:00\",\"2022-12-21T00:00:00\",\"2022-12-22T00:00:00\",\"2022-12-23T00:00:00\",\"2022-12-23T00:00:00\",\"2022-12-23T00:00:00\",\"2022-12-26T00:00:00\",\"2023-01-02T00:00:00\",\"2023-01-03T00:00:00\",\"2023-01-03T00:00:00\",\"2023-01-03T00:00:00\",\"2023-01-04T00:00:00\",\"2023-01-04T00:00:00\",\"2023-01-04T00:00:00\",\"2023-01-04T00:00:00\",\"2023-01-04T00:00:00\",\"2023-01-05T00:00:00\",\"2023-01-05T00:00:00\",\"2023-01-05T00:00:00\",\"2023-01-05T00:00:00\",\"2023-01-05T00:00:00\",\"2023-01-05T00:00:00\",\"2023-01-05T00:00:00\",\"2023-01-05T00:00:00\",\"2023-01-05T00:00:00\",\"2023-01-05T00:00:00\",\"2023-01-05T00:00:00\",\"2023-01-06T00:00:00\",\"2023-01-06T00:00:00\",\"2023-01-06T00:00:00\",\"2023-01-08T00:00:00\",\"2023-01-08T00:00:00\",\"2023-01-09T00:00:00\",\"2023-01-10T00:00:00\",\"2023-01-10T00:00:00\",\"2023-01-10T00:00:00\",\"2023-01-10T00:00:00\",\"2023-01-10T00:00:00\",\"2023-01-10T00:00:00\",\"2023-01-10T00:00:00\",\"2023-01-10T00:00:00\",\"2023-01-10T00:00:00\",\"2023-01-10T00:00:00\",\"2023-01-10T00:00:00\",\"2023-01-10T00:00:00\",\"2023-01-11T00:00:00\",\"2023-01-11T00:00:00\",\"2023-01-11T00:00:00\",\"2023-01-11T00:00:00\",\"2023-01-11T00:00:00\",\"2023-01-11T00:00:00\",\"2023-01-11T00:00:00\",\"2023-01-11T00:00:00\",\"2023-01-11T00:00:00\",\"2023-01-11T00:00:00\",\"2023-01-12T00:00:00\",\"2023-01-12T00:00:00\",\"2023-01-12T00:00:00\",\"2023-01-12T00:00:00\",\"2023-01-12T00:00:00\",\"2023-01-12T00:00:00\",\"2023-01-12T00:00:00\",\"2023-01-12T00:00:00\",\"2023-01-12T00:00:00\",\"2023-01-12T00:00:00\",\"2023-01-12T00:00:00\",\"2023-01-13T00:00:00\",\"2023-01-13T00:00:00\",\"2023-01-13T00:00:00\",\"2023-01-13T00:00:00\",\"2023-01-15T00:00:00\",\"2023-01-15T00:00:00\",\"2023-01-15T00:00:00\",\"2023-01-16T00:00:00\",\"2023-01-16T00:00:00\",\"2023-01-16T00:00:00\",\"2023-01-16T00:00:00\",\"2023-01-17T00:00:00\",\"2023-01-17T00:00:00\",\"2023-01-17T00:00:00\",\"2023-01-17T00:00:00\",\"2023-01-17T00:00:00\",\"2023-01-17T00:00:00\",\"2023-01-17T00:00:00\",\"2023-01-17T00:00:00\",\"2023-01-17T00:00:00\",\"2023-01-17T00:00:00\",\"2023-01-18T00:00:00\",\"2023-01-18T00:00:00\",\"2023-01-18T00:00:00\",\"2023-01-18T00:00:00\",\"2023-01-18T00:00:00\",\"2023-01-18T00:00:00\",\"2023-01-18T00:00:00\",\"2023-01-18T00:00:00\",\"2023-01-18T00:00:00\",\"2023-01-18T00:00:00\",\"2023-01-18T00:00:00\",\"2023-01-18T00:00:00\",\"2023-01-18T00:00:00\",\"2023-01-18T00:00:00\",\"2023-01-19T00:00:00\",\"2023-01-19T00:00:00\",\"2023-01-19T00:00:00\",\"2023-01-19T00:00:00\",\"2023-01-19T00:00:00\",\"2023-01-19T00:00:00\",\"2023-01-19T00:00:00\",\"2023-01-20T00:00:00\",\"2023-01-20T00:00:00\",\"2023-01-20T00:00:00\",\"2023-01-20T00:00:00\",\"2023-01-20T00:00:00\",\"2023-01-20T00:00:00\",\"2023-01-20T00:00:00\",\"2023-01-20T00:00:00\",\"2023-01-20T00:00:00\",\"2023-01-20T00:00:00\",\"2023-01-23T00:00:00\",\"2023-01-23T00:00:00\",\"2023-01-23T00:00:00\",\"2023-01-23T00:00:00\",\"2023-01-23T00:00:00\",\"2023-01-23T00:00:00\",\"2023-01-23T00:00:00\",\"2023-01-24T00:00:00\",\"2023-01-24T00:00:00\",\"2023-01-24T00:00:00\",\"2023-01-24T00:00:00\",\"2023-01-24T00:00:00\",\"2023-01-24T00:00:00\",\"2023-01-24T00:00:00\",\"2023-01-25T00:00:00\",\"2023-01-25T00:00:00\",\"2023-01-25T00:00:00\",\"2023-01-25T00:00:00\",\"2023-01-25T00:00:00\",\"2023-01-25T00:00:00\",\"2023-01-25T00:00:00\",\"2023-01-25T00:00:00\",\"2023-01-26T00:00:00\",\"2023-01-26T00:00:00\",\"2023-01-27T00:00:00\",\"2023-01-27T00:00:00\",\"2023-01-27T00:00:00\",\"2023-01-27T00:00:00\",\"2023-01-27T00:00:00\",\"2023-01-27T00:00:00\",\"2023-01-27T00:00:00\",\"2023-01-27T00:00:00\",\"2023-01-28T00:00:00\",\"2023-01-28T00:00:00\",\"2023-01-30T00:00:00\",\"2023-01-30T00:00:00\",\"2023-01-30T00:00:00\",\"2023-01-30T00:00:00\",\"2023-01-30T00:00:00\",\"2023-01-30T00:00:00\",\"2023-01-30T00:00:00\",\"2023-01-30T00:00:00\",\"2023-01-30T00:00:00\",\"2023-01-31T00:00:00\",\"2023-01-31T00:00:00\",\"2023-01-31T00:00:00\",\"2023-01-31T00:00:00\",\"2023-01-31T00:00:00\",\"2023-01-31T00:00:00\",\"2023-01-31T00:00:00\",\"2023-01-31T00:00:00\",\"2023-01-31T00:00:00\",\"2023-01-31T00:00:00\",\"2023-01-31T00:00:00\",\"2023-02-01T00:00:00\",\"2023-02-01T00:00:00\",\"2023-02-01T00:00:00\",\"2023-02-01T00:00:00\",\"2023-02-01T00:00:00\",\"2023-02-01T00:00:00\",\"2023-02-01T00:00:00\",\"2023-02-01T00:00:00\",\"2023-02-01T00:00:00\",\"2023-02-02T00:00:00\",\"2023-02-02T00:00:00\",\"2023-02-02T00:00:00\",\"2023-02-02T00:00:00\",\"2023-02-02T00:00:00\",\"2023-02-02T00:00:00\",\"2023-02-02T00:00:00\",\"2023-02-02T00:00:00\",\"2023-02-02T00:00:00\",\"2023-02-02T00:00:00\",\"2023-02-02T00:00:00\",\"2023-02-03T00:00:00\",\"2023-02-03T00:00:00\",\"2023-02-05T00:00:00\",\"2023-02-05T00:00:00\",\"2023-02-06T00:00:00\",\"2023-02-06T00:00:00\",\"2023-02-06T00:00:00\",\"2023-02-06T00:00:00\",\"2023-02-06T00:00:00\"],\"xaxis\":\"x\",\"y\":[75.0,20.0,8.0,6.0,16.0,130.0,4.0,34.0,50.0,84.0,120.0,784.0,45.0,18.0,30.0,38.0,375.0,150.0,91.0,20.0,20.0,15.0,13.0,400.0,130.0,80.0,87.0,20.0,56.0,300.0,100.0,78.0,75.0,52.0,30.0,12.0,10.0,50.0,250.0,50.0,47.0,200.0,41.0,23.0,13.0,44.0,100.0,451.0,406.0,250.0,227.0,200.0,175.0,130.0,127.0,100.0,78.0,30.0,60.0,47.0,47.0,40.0,30.0,20.0,10.0,75.0,250.0,250.0,10.0,17.0,400.0,250.0,51.0,80.0,70.0,31.0,120.0,30.0,30.0,25.0,20.0,9.0,30.0,349.0,210.0,194.0,108.0,65.0,50.0,20.0,40.0,5.0,17.0,28.0,45.0,46.0,100.0,51.0,52.0,24.0,50.0,20.0,200.0,17.0,18.0,200.0,9.0,15.0,59.0,65.0,70.0,90.0,100.0,154.0,40.0,196.0,240.0,700.0,100.0,39.0,60.0,35.0,35.0,5.0,7.0,23.0,26.0,30.0,30.0,6.0,35.0,60.0,75.0,100.0,120.0,167.0,147.0,300.0,467.0,34.0,140.0,24.0,18.0,19.0,10.0,12.0,14.0,17.0,5.0,50.0,40.0,100.0,77.0,26.0,24.0,100.0,15.0,23.0,60.0,10.0,1300.0,400.0,340.0,100.0,94.0,87.0,236.0,60.0,65.0,30.0,50.0,53.0,46.0,25.0,200.0,89.0,500.0,80.0,48.0,40.0,30.0,21.0,92.0,17.0,18.0,86.0,4.0,11.0,1000.0,165.0,136.0,90.0,90.0,40.0,150.0,25.0,14.0,8.0,36.0,201.0,35.0,28.0,30.0,16.0,6.0,5.0,20.0,17.0,50.0,70.0,100.0,2800.0,45.0,235.0,131.0,58.0,21.0,10.0,15.0,600.0,200.0,200.0,200.0,161.0,100.0,15.0,14.0,13.0,40.0,130.0,65.0,60.0,44.0,200.0,140.0,88.0,47.0,40.0,120.0,30.0,13.0,35.0,300.0,91.0,90.0,90.0,28.0,23.0,10.0,33.0,800.0,460.0,155.0,78.0,500.0,38.0,30.0,13.0,10.0,40.0,19.0,10.0,55.0,1000.0,80.0,100.0,87.0,6.0,70.0,4.0,6.0,10.0,15.0,18.0,19.0,36.0,57.0,500.0,30.0,250.0,20.0,260.0,20.0,27.0,35.0,80.0,367.0,391.0,900.0,300.0,982.0,160.0,80.0,24.0,124.0,81.0,100.0,150.0,95.0,80.0,110.0,35.0,26.0,70.0,50.0,120.0,800.0,536.0,400.0,63.0,60.0,11.0,62.0,1900.0,900.0,135.0,40.0,25.0,31.0,3700.0,130.0,100.0,50.0,50.0,28.0,55.0,60.0,62.0,300.0,500.0,9.0,60.0,28.0,16.0,36.0,65.0,73.0,1300.0,51.0,25.0,19.0,669.0,17.0,150.0,80.0,70.0,30.0,35.0,16.0,500.0,520.0,250.0,3000.0,1100.0,100.0,1500.0,57.0,45.0,10.0,69.0,450.0,39.0,101.0,112.0,221.0,300.0,1400.0,400.0,18.0,70.0,21.0,200.0,50.0,137.0,600.0,62.0,150.0,20.0,36.0,200.0,219.0,270.0,32.0,62.0,1400.0,350.0,24.0,12.0,12.0,14.0,40.0,100.0,22.0,40.0,70.0,120.0,39.0,50.0,46.0,18.0,26.0,10.0,3.0,120.0,63.0,225.0,44.0,70.0,360.0,1500.0,40.0,15.0,200.0,715.0,90.0,430.0,6.0,174.0,451.0,20.0,61.0,100.0,130.0,400.0,17.0,56.0,5.0,12.0,18.0,85.0,100.0,40.0,140.0,63.0,300.0,60.0,120.0,22.0,960.0,64.0,350.0,75.0,180.0,87.0,4375.0,56.0,75.0,150.0,20.0,250.0,30.0,8.0,30.0,1000.0,350.0,22.0,250.0,30.0,240.0,20.0,47.0,250.0,90.0,8.0,82.0,20.0,30.0,30.0,18.0,154.0,5.0,600.0,54.0,120.0,78.0,1800.0,315.0,21.0,1877.0,180.0,800.0,20.0,1800.0,45.0,87.0,13.0,80.0,243.0,200.0,200.0,47.0,160.0,36.0,65.0,2434.0,80.0,1800.0,37.0,30.0,41.0,120.0,22.0,2000.0,70.0,900.0,300.0,330.0,80.0,100.0,57.0,2800.0,138.0,119.0,100.0,120.0,111.0,150.0,30.0,190.0,500.0,100.0,100.0,3000.0,115.0,300.0,150.0,100.0,180.0,100.0,450.0,59.0,350.0,20.0,23.0,75.0,450.0,70.0,1000.0,20.0,150.0,100.0,44.0,10.0,159.0,160.0,200.0,52.0,260.0,180.0,22.0,29.0,340.0,50.0,150.0,25.0,495.0,500.0,25.0,40.0,45.0,87.0,97.0,300.0,72.0,90.0,200.0,62.0,750.0,270.0,200.0,310.0,2500.0,30.0,70.0,32.0,150.0,22.0,24.0,400.0,100.0,90.0,100.0,150.0,424.0,600.0,130.0,70.0,87.0,600.0,30.0,60.0,65.0,80.0,83.0,700.0,40.0,200.0,300.0,75.0,300.0,240.0,50.0,30.0,45.0,50.0,80.0,80.0,200.0,29.0,40.0,145.0,400.0,100.0,100.0,12.0,30.0,44.0,50.0,250.0,500.0,65.0,100.0,34.0,100.0,30.0,31.0,90.0,25.0,250.0,170.0,170.0,140.0,100.0,100.0,30.0,29.0,25.0,59.0,60.0,23.0,21.0,40.0,50.0,60.0,180.0,750.0,750.0,138.0,150.0,40.0,130.0,50.0,150.0,150.0,250.0,950.0,330.0,200.0,90.0,80.0,31.0,26.0,40.0,70.0,260.0,20.0,45.0,60.0,100.0,250.0,250.0,56.0,33.0,24.0,30.0,50.0,75.0,450.0,470.0,1100.0,250.0,159.0,150.0,110.0,60.0,23.0,14.0,10.0,15.0,40.0,45.0,50.0,16.0,69.0,150.0,150.0,191.0,9.0,30.0,30.0,80.0,100.0,101.0,600.0,52.0,40.0,340.0,24.0,23.0,30.0,35.0,35.0,50.0,55.0,70.0,90.0,120.0,22.0,15.0,70.0,8.0,300.0,270.0,90.0,40.0,41.0,43.0,27.0,70.0,170.0,180.0,210.0,300.0,300.0,300.0,120.0,110.0,80.0,50.0,18.0,30.0,350.0,200.0,85.0,80.0,80.0,76.0,60.0,40.0,16.0,13.0,18.0,400.0,170.0,40.0,30.0,30.0,14.0,12.0,20.0,85.0,58.0,15.0,52.0,150.0,540.0,29.0,80.0,18.0,27.0,384.0,120.0,100.0,80.0,30.0,27.0,20.0,13.0,31.0,30.0,35.0,50.0,100.0,30.0,40.0,150.0,150.0,1500.0,156.0,1000.0,24.0,63.0,242.0,150.0,1500.0,100.0,45.0,300.0,262.0,120.0,100.0,100.0,12.0,7.0,70.0,85.0,54.0,42.0,39.0,23.0,24.0,63.0,100.0,94.0,68.0,30.0,28.0,38.0,1000.0,28.0,450.0,390.0,200.0,75.0,60.0,13.0,57.0,15.0,60.0,30.0,23.0,11.0,60.0,63.0,95.0,130.0,140.0,150.0,50.0,45.0,28.0,15.0,120.0,25.0,80.0,60.0,1000.0,90.0,40.0,23.0,20.0,38.0,30.0,30.0,39.0,840.0,136.0,60.0,60.0,45.0,22.0,23.0,22.0,40.0,43.0,50.0,125.0,1000.0,75.0,16.0,58.0,713.0,115.0,100.0,80.0,60.0,90.0,40.0,30.0,23.0,19.0,54.0,149.0,47.0,40.0,13.0,250.0,216.0,80.0,200.0,100.0,80.0,70.0,73.0,50.0,50.0,140.0,31.0,20.0,36.0,63.0,337.0,500.0,500.0,100.0,60.0,50.0,400.0,800.0,270.0,48.0,130.0,12.0,40.0,60.0,30.0,47.0,7.0,30.0,54.0,60.0,90.0,175.0,784.0,11.0,16.0,220.0,250.0,5.0,12.0,80.0,125.0,83.0,50.0,54.0,52.0,74.0,35.0,110.0,40.0,50.0,870.0,13.0,55.0,100.0,29.0,31.0,50.0,138.0,180.0,15.0,140.0,40.0,25.0,80.0,20.0,24.0,95.0,300.0,30.0,38.0,81.0,1280.0,140.0,100.0,70.0,45.0,30.0,29.0,26.0,40.0,12.0,55.0,70.0,90.0,100.0,23.0,40.0,30.0,150.0,60.0,60.0,50.0,45.0,27.0,49.0,23.0,55.0,200.0,350.0,58.0,5.0,11.0,25.0,60.0,100.0,160.0,80.0,100.0,800.0,59.0,30.0,50.0,35.0,70.0,193.0,40.0,190.0,29.0,200.0,271.0,109.0,78.0,75.0,100.0,100.0,110.0,24.0,26.0,70.0,180.0,40.0,671.0,40.0,125.0,78.0,60.0,200.0,40.0,50.0,50.0,51.0,110.0,500.0,2000.0,120.0,85.0,611.0,180.0,67.0,96.0,35.0,55.0,80.0,100.0,136.0,200.0,500.0,150.0,2500.0,130.0,150.0,65.0,90.0,200.0,378.0,24.0,50.0,50.0,84.0,56.0,250.0,32.0,20.0,20.0,23.0,64.0,227.0,120.0,100.0,30.0,43.0,23.0,62.0,400.0,4000.0,100.0,50.0,198.0,17.0,30.0,150.0,400.0,300.0,173.0,94.0,200.0,13.0,84.0,210.0,32.0,100.0,150.0,300.0,60.0,23.0,25.0,30.0,100.0,259.0,226.0,200.0,140.0,70.0,70.0,50.0,24.0,10.0,70.0,550.0,156.0,142.0,134.0,50.0,100.0,10.0,100.0,1000.0,700.0,150.0,100.0,60.0,200.0,3700.0,350.0,200.0,70.0,59.0,25.0,110.0,1000.0,350.0,350.0,190.0,65.0,200.0,80.0,130.0,137.0,11000.0,300.0,862.0,144.0,36.0,25.0,25.0,35.0,1300.0,400.0,100.0,65.0,60.0,40.0,45.0,20.0,60.0,100.0,124.0,500.0,500.0,300.0,170.0,143.0,59.0,51.0,40.0,30.0,20.0,90.0,241.0,180.0,170.0,120.0,100.0,71.0,60.0,50.0,50.0,45.0,31.0,10000.0,4100.0,211.0,120.0,90.0,76.0,200.0,59.0,70.0,200.0,180.0,113.0,72.0,58.0,15.0,34.0,9.0,37.0,105.0,1500.0,300.0,57.0,100.0,93.0,80.0,160.0,20.0,100.0,27.0,70.0,150.0,90.0,500.0,300.0,200.0,67.0,25.0,33.0,100.0,50.0,10.0,70.0,1250.0,1100.0,158.0,134.0,130.0,60.0,45.0,40.0,30.0,53.0,88.0,110.0,100.0,48.0,37.0,47.0,100.0,100.0,150.0,600.0,90.0,65.0,30.0,50.0,515.0,201.0,180.0,175.0,100.0,32.0,16.0,20.0,13.0,385.0,312.0,260.0,237.0,150.0,130.0,235.0,95.0,40.0,30.0,27.0,120.0,60.0,254.0,250.0,198.0,95.0,80.0,43.0,160.0,25.0,30.0,80.0,150.0,113.0,85.0,62.0,600.0,20.0,43.0,20.0,329.0,400.0,35.0,46.0,78.0,95.0,160.0,200.0,100.0,72.0,40.0,50.0,60.0,80.0,90.0,180.0,24.0,30.0,18.0,26.0,65.0,350.0,153.0,50.0,93.0,99.0,150.0,700.0,60.0,76.0,245.0,8000.0,76.0,75.0,8000.0,20.0,40.0,388.0,200.0,104.0,60.0,40.0,30.0,30.0,30.0,25.0,30.0,275.0,40.0,200.0,43.0,50.0,315.0,76.0,950.0,450.0,340.0,120.0,100.0,100.0,60.0,40.0,55.0,40.0,60.0,100.0,640.0,270.0,250.0,123.0,69.0,80.0,40.0,33.0,41.0,225.0,120.0,110.0,104.0,100.0,64.0,115.0,46.0,55.0,111.0,22.0,40.0,140.0,200.0,900.0,120.0,40.0,100.0,500.0,500.0,75.0,50.0,300.0,284.0,206.0,150.0,110.0,100.0,50.0,142.0,30.0,44.0,109.0,137.0,140.0,450.0,275.0,300.0,10000.0,100.0,155.0,100.0,100.0,31.0,70.0,20.0,30.0,1100.0,300.0,115.0,100.0,62.0,46.0,12000.0,1750.0,380.0,92.0,200.0,130.0,47.0,30.0,22.0,31.0,600.0,150.0,50.0,40.0,30.0,20.0,30.0,40.0,1300.0,245.0,50.0,21.0,11.0,16.0,330.0,3900.0,1300.0,360.0,250.0,130.0,130.0,80.0,3000.0,221.0,138.0,100.0,100.0,100.0,29.0,21.0,19.0,73.0,19.0,60.0,343.0,500.0,250.0,1500.0,6000.0,800.0,156.0,65.0,140.0,2000.0,960.0,525.0,500.0,365.0,200.0,150.0,100.0,60.0,54.0,19.0,325.0,150.0,121.0,90.0,56.0,44.0,140.0,17.0,24.0,1500.0,300.0,250.0,127.0,119.0,100.0,125.0,80.0,40.0,38.0,100.0,89.0,90.0,20.0,70.0,20.0,50.0,59.0,300.0,6650.0],\"yaxis\":\"y\",\"type\":\"histogram\"}],                        {\"template\":{\"data\":{\"barpolar\":[{\"marker\":{\"line\":{\"color\":\"rgb(17,17,17)\",\"width\":0.5},\"pattern\":{\"fillmode\":\"overlay\",\"size\":10,\"solidity\":0.2}},\"type\":\"barpolar\"}],\"bar\":[{\"error_x\":{\"color\":\"#f2f5fa\"},\"error_y\":{\"color\":\"#f2f5fa\"},\"marker\":{\"line\":{\"color\":\"rgb(17,17,17)\",\"width\":0.5},\"pattern\":{\"fillmode\":\"overlay\",\"size\":10,\"solidity\":0.2}},\"type\":\"bar\"}],\"carpet\":[{\"aaxis\":{\"endlinecolor\":\"#A2B1C6\",\"gridcolor\":\"#506784\",\"linecolor\":\"#506784\",\"minorgridcolor\":\"#506784\",\"startlinecolor\":\"#A2B1C6\"},\"baxis\":{\"endlinecolor\":\"#A2B1C6\",\"gridcolor\":\"#506784\",\"linecolor\":\"#506784\",\"minorgridcolor\":\"#506784\",\"startlinecolor\":\"#A2B1C6\"},\"type\":\"carpet\"}],\"choropleth\":[{\"colorbar\":{\"outlinewidth\":0,\"ticks\":\"\"},\"type\":\"choropleth\"}],\"contourcarpet\":[{\"colorbar\":{\"outlinewidth\":0,\"ticks\":\"\"},\"type\":\"contourcarpet\"}],\"contour\":[{\"colorbar\":{\"outlinewidth\":0,\"ticks\":\"\"},\"colorscale\":[[0.0,\"#0d0887\"],[0.1111111111111111,\"#46039f\"],[0.2222222222222222,\"#7201a8\"],[0.3333333333333333,\"#9c179e\"],[0.4444444444444444,\"#bd3786\"],[0.5555555555555556,\"#d8576b\"],[0.6666666666666666,\"#ed7953\"],[0.7777777777777778,\"#fb9f3a\"],[0.8888888888888888,\"#fdca26\"],[1.0,\"#f0f921\"]],\"type\":\"contour\"}],\"heatmapgl\":[{\"colorbar\":{\"outlinewidth\":0,\"ticks\":\"\"},\"colorscale\":[[0.0,\"#0d0887\"],[0.1111111111111111,\"#46039f\"],[0.2222222222222222,\"#7201a8\"],[0.3333333333333333,\"#9c179e\"],[0.4444444444444444,\"#bd3786\"],[0.5555555555555556,\"#d8576b\"],[0.6666666666666666,\"#ed7953\"],[0.7777777777777778,\"#fb9f3a\"],[0.8888888888888888,\"#fdca26\"],[1.0,\"#f0f921\"]],\"type\":\"heatmapgl\"}],\"heatmap\":[{\"colorbar\":{\"outlinewidth\":0,\"ticks\":\"\"},\"colorscale\":[[0.0,\"#0d0887\"],[0.1111111111111111,\"#46039f\"],[0.2222222222222222,\"#7201a8\"],[0.3333333333333333,\"#9c179e\"],[0.4444444444444444,\"#bd3786\"],[0.5555555555555556,\"#d8576b\"],[0.6666666666666666,\"#ed7953\"],[0.7777777777777778,\"#fb9f3a\"],[0.8888888888888888,\"#fdca26\"],[1.0,\"#f0f921\"]],\"type\":\"heatmap\"}],\"histogram2dcontour\":[{\"colorbar\":{\"outlinewidth\":0,\"ticks\":\"\"},\"colorscale\":[[0.0,\"#0d0887\"],[0.1111111111111111,\"#46039f\"],[0.2222222222222222,\"#7201a8\"],[0.3333333333333333,\"#9c179e\"],[0.4444444444444444,\"#bd3786\"],[0.5555555555555556,\"#d8576b\"],[0.6666666666666666,\"#ed7953\"],[0.7777777777777778,\"#fb9f3a\"],[0.8888888888888888,\"#fdca26\"],[1.0,\"#f0f921\"]],\"type\":\"histogram2dcontour\"}],\"histogram2d\":[{\"colorbar\":{\"outlinewidth\":0,\"ticks\":\"\"},\"colorscale\":[[0.0,\"#0d0887\"],[0.1111111111111111,\"#46039f\"],[0.2222222222222222,\"#7201a8\"],[0.3333333333333333,\"#9c179e\"],[0.4444444444444444,\"#bd3786\"],[0.5555555555555556,\"#d8576b\"],[0.6666666666666666,\"#ed7953\"],[0.7777777777777778,\"#fb9f3a\"],[0.8888888888888888,\"#fdca26\"],[1.0,\"#f0f921\"]],\"type\":\"histogram2d\"}],\"histogram\":[{\"marker\":{\"pattern\":{\"fillmode\":\"overlay\",\"size\":10,\"solidity\":0.2}},\"type\":\"histogram\"}],\"mesh3d\":[{\"colorbar\":{\"outlinewidth\":0,\"ticks\":\"\"},\"type\":\"mesh3d\"}],\"parcoords\":[{\"line\":{\"colorbar\":{\"outlinewidth\":0,\"ticks\":\"\"}},\"type\":\"parcoords\"}],\"pie\":[{\"automargin\":true,\"type\":\"pie\"}],\"scatter3d\":[{\"line\":{\"colorbar\":{\"outlinewidth\":0,\"ticks\":\"\"}},\"marker\":{\"colorbar\":{\"outlinewidth\":0,\"ticks\":\"\"}},\"type\":\"scatter3d\"}],\"scattercarpet\":[{\"marker\":{\"colorbar\":{\"outlinewidth\":0,\"ticks\":\"\"}},\"type\":\"scattercarpet\"}],\"scattergeo\":[{\"marker\":{\"colorbar\":{\"outlinewidth\":0,\"ticks\":\"\"}},\"type\":\"scattergeo\"}],\"scattergl\":[{\"marker\":{\"line\":{\"color\":\"#283442\"}},\"type\":\"scattergl\"}],\"scattermapbox\":[{\"marker\":{\"colorbar\":{\"outlinewidth\":0,\"ticks\":\"\"}},\"type\":\"scattermapbox\"}],\"scatterpolargl\":[{\"marker\":{\"colorbar\":{\"outlinewidth\":0,\"ticks\":\"\"}},\"type\":\"scatterpolargl\"}],\"scatterpolar\":[{\"marker\":{\"colorbar\":{\"outlinewidth\":0,\"ticks\":\"\"}},\"type\":\"scatterpolar\"}],\"scatter\":[{\"marker\":{\"line\":{\"color\":\"#283442\"}},\"type\":\"scatter\"}],\"scatterternary\":[{\"marker\":{\"colorbar\":{\"outlinewidth\":0,\"ticks\":\"\"}},\"type\":\"scatterternary\"}],\"surface\":[{\"colorbar\":{\"outlinewidth\":0,\"ticks\":\"\"},\"colorscale\":[[0.0,\"#0d0887\"],[0.1111111111111111,\"#46039f\"],[0.2222222222222222,\"#7201a8\"],[0.3333333333333333,\"#9c179e\"],[0.4444444444444444,\"#bd3786\"],[0.5555555555555556,\"#d8576b\"],[0.6666666666666666,\"#ed7953\"],[0.7777777777777778,\"#fb9f3a\"],[0.8888888888888888,\"#fdca26\"],[1.0,\"#f0f921\"]],\"type\":\"surface\"}],\"table\":[{\"cells\":{\"fill\":{\"color\":\"#506784\"},\"line\":{\"color\":\"rgb(17,17,17)\"}},\"header\":{\"fill\":{\"color\":\"#2a3f5f\"},\"line\":{\"color\":\"rgb(17,17,17)\"}},\"type\":\"table\"}]},\"layout\":{\"annotationdefaults\":{\"arrowcolor\":\"#f2f5fa\",\"arrowhead\":0,\"arrowwidth\":1},\"autotypenumbers\":\"strict\",\"coloraxis\":{\"colorbar\":{\"outlinewidth\":0,\"ticks\":\"\"}},\"colorscale\":{\"diverging\":[[0,\"#8e0152\"],[0.1,\"#c51b7d\"],[0.2,\"#de77ae\"],[0.3,\"#f1b6da\"],[0.4,\"#fde0ef\"],[0.5,\"#f7f7f7\"],[0.6,\"#e6f5d0\"],[0.7,\"#b8e186\"],[0.8,\"#7fbc41\"],[0.9,\"#4d9221\"],[1,\"#276419\"]],\"sequential\":[[0.0,\"#0d0887\"],[0.1111111111111111,\"#46039f\"],[0.2222222222222222,\"#7201a8\"],[0.3333333333333333,\"#9c179e\"],[0.4444444444444444,\"#bd3786\"],[0.5555555555555556,\"#d8576b\"],[0.6666666666666666,\"#ed7953\"],[0.7777777777777778,\"#fb9f3a\"],[0.8888888888888888,\"#fdca26\"],[1.0,\"#f0f921\"]],\"sequentialminus\":[[0.0,\"#0d0887\"],[0.1111111111111111,\"#46039f\"],[0.2222222222222222,\"#7201a8\"],[0.3333333333333333,\"#9c179e\"],[0.4444444444444444,\"#bd3786\"],[0.5555555555555556,\"#d8576b\"],[0.6666666666666666,\"#ed7953\"],[0.7777777777777778,\"#fb9f3a\"],[0.8888888888888888,\"#fdca26\"],[1.0,\"#f0f921\"]]},\"colorway\":[\"#636efa\",\"#EF553B\",\"#00cc96\",\"#ab63fa\",\"#FFA15A\",\"#19d3f3\",\"#FF6692\",\"#B6E880\",\"#FF97FF\",\"#FECB52\"],\"font\":{\"color\":\"#f2f5fa\"},\"geo\":{\"bgcolor\":\"rgb(17,17,17)\",\"lakecolor\":\"rgb(17,17,17)\",\"landcolor\":\"rgb(17,17,17)\",\"showlakes\":true,\"showland\":true,\"subunitcolor\":\"#506784\"},\"hoverlabel\":{\"align\":\"left\"},\"hovermode\":\"closest\",\"mapbox\":{\"style\":\"dark\"},\"paper_bgcolor\":\"rgb(17,17,17)\",\"plot_bgcolor\":\"rgb(17,17,17)\",\"polar\":{\"angularaxis\":{\"gridcolor\":\"#506784\",\"linecolor\":\"#506784\",\"ticks\":\"\"},\"bgcolor\":\"rgb(17,17,17)\",\"radialaxis\":{\"gridcolor\":\"#506784\",\"linecolor\":\"#506784\",\"ticks\":\"\"}},\"scene\":{\"xaxis\":{\"backgroundcolor\":\"rgb(17,17,17)\",\"gridcolor\":\"#506784\",\"gridwidth\":2,\"linecolor\":\"#506784\",\"showbackground\":true,\"ticks\":\"\",\"zerolinecolor\":\"#C8D4E3\"},\"yaxis\":{\"backgroundcolor\":\"rgb(17,17,17)\",\"gridcolor\":\"#506784\",\"gridwidth\":2,\"linecolor\":\"#506784\",\"showbackground\":true,\"ticks\":\"\",\"zerolinecolor\":\"#C8D4E3\"},\"zaxis\":{\"backgroundcolor\":\"rgb(17,17,17)\",\"gridcolor\":\"#506784\",\"gridwidth\":2,\"linecolor\":\"#506784\",\"showbackground\":true,\"ticks\":\"\",\"zerolinecolor\":\"#C8D4E3\"}},\"shapedefaults\":{\"line\":{\"color\":\"#f2f5fa\"}},\"sliderdefaults\":{\"bgcolor\":\"#C8D4E3\",\"bordercolor\":\"rgb(17,17,17)\",\"borderwidth\":1,\"tickwidth\":0},\"ternary\":{\"aaxis\":{\"gridcolor\":\"#506784\",\"linecolor\":\"#506784\",\"ticks\":\"\"},\"baxis\":{\"gridcolor\":\"#506784\",\"linecolor\":\"#506784\",\"ticks\":\"\"},\"bgcolor\":\"rgb(17,17,17)\",\"caxis\":{\"gridcolor\":\"#506784\",\"linecolor\":\"#506784\",\"ticks\":\"\"}},\"title\":{\"x\":0.05},\"updatemenudefaults\":{\"bgcolor\":\"#506784\",\"borderwidth\":0},\"xaxis\":{\"automargin\":true,\"gridcolor\":\"#283442\",\"linecolor\":\"#506784\",\"ticks\":\"\",\"title\":{\"standoff\":15},\"zerolinecolor\":\"#283442\",\"zerolinewidth\":2},\"yaxis\":{\"automargin\":true,\"gridcolor\":\"#283442\",\"linecolor\":\"#506784\",\"ticks\":\"\",\"title\":{\"standoff\":15},\"zerolinecolor\":\"#283442\",\"zerolinewidth\":2}}},\"xaxis\":{\"anchor\":\"y\",\"domain\":[0.0,1.0],\"title\":{\"text\":\"Date\"},\"categoryorder\":\"total descending\"},\"yaxis\":{\"anchor\":\"x\",\"domain\":[0.0,1.0],\"title\":{\"text\":\"sum of Laid_Off_Count\"}},\"legend\":{\"tracegroupgap\":0},\"margin\":{\"t\":60},\"barmode\":\"relative\"},                        {\"responsive\": true}                    ).then(function(){\n",
              "                            \n",
              "var gd = document.getElementById('5e19e49b-d640-477b-b27e-00b913e7e012');\n",
              "var x = new MutationObserver(function (mutations, observer) {{\n",
              "        var display = window.getComputedStyle(gd).display;\n",
              "        if (!display || display === 'none') {{\n",
              "            console.log([gd, 'removed!']);\n",
              "            Plotly.purge(gd);\n",
              "            observer.disconnect();\n",
              "        }}\n",
              "}});\n",
              "\n",
              "// Listen for the removal of the full notebook cells\n",
              "var notebookContainer = gd.closest('#notebook-container');\n",
              "if (notebookContainer) {{\n",
              "    x.observe(notebookContainer, {childList: true});\n",
              "}}\n",
              "\n",
              "// Listen for the clearing of the current output cell\n",
              "var outputEl = gd.closest('.output');\n",
              "if (outputEl) {{\n",
              "    x.observe(outputEl, {childList: true});\n",
              "}}\n",
              "\n",
              "                        })                };                            </script>        </div>\n",
              "</body>\n",
              "</html>"
            ]
          },
          "metadata": {}
        }
      ]
    },
    {
      "cell_type": "code",
      "source": [
        "#industry wise laid off\n",
        "df['Industry'].replace({'Unknown':'Other'}, inplace=True)\n",
        "industrywise_laidoff = px.histogram(df.dropna(subset=['Laid_Off_Count']), x='Industry', y='Laid_Off_Count', histfunc='sum', \\\n",
        "                   text_auto=True, title='industry wise layoffs',color_discrete_sequence=px.colors.sequential.RdBu,template=\"plotly_dark\")\n",
        "industrywise_laidoff.update_xaxes(categoryorder='total descending')\n",
        "industrywise_laidoff.show()\n",
        "\n",
        "all_graphs.append(industrywise_laidoff)"
      ],
      "metadata": {
        "colab": {
          "base_uri": "https://localhost:8080/",
          "height": 542
        },
        "id": "sX_NuQeq0WXJ",
        "outputId": "cfa05db2-f4b4-4fbe-d3dd-972d2499b950"
      },
      "execution_count": 47,
      "outputs": [
        {
          "output_type": "display_data",
          "data": {
            "text/html": [
              "<html>\n",
              "<head><meta charset=\"utf-8\" /></head>\n",
              "<body>\n",
              "    <div>            <script src=\"https://cdnjs.cloudflare.com/ajax/libs/mathjax/2.7.5/MathJax.js?config=TeX-AMS-MML_SVG\"></script><script type=\"text/javascript\">if (window.MathJax) {MathJax.Hub.Config({SVG: {font: \"STIX-Web\"}});}</script>                <script type=\"text/javascript\">window.PlotlyConfig = {MathJaxConfig: 'local'};</script>\n",
              "        <script src=\"https://cdn.plot.ly/plotly-2.8.3.min.js\"></script>                <div id=\"c0112511-68d9-4dd1-8cda-16cbe17ad616\" class=\"plotly-graph-div\" style=\"height:525px; width:100%;\"></div>            <script type=\"text/javascript\">                                    window.PLOTLYENV=window.PLOTLYENV || {};                                    if (document.getElementById(\"c0112511-68d9-4dd1-8cda-16cbe17ad616\")) {                    Plotly.newPlot(                        \"c0112511-68d9-4dd1-8cda-16cbe17ad616\",                        [{\"alignmentgroup\":\"True\",\"bingroup\":\"x\",\"histfunc\":\"sum\",\"hovertemplate\":\"Industry=%{x}<br>sum of Laid_Off_Count=%{y}<extra></extra>\",\"legendgroup\":\"\",\"marker\":{\"color\":\"rgb(103,0,31)\",\"pattern\":{\"shape\":\"\"}},\"name\":\"\",\"offsetgroup\":\"\",\"orientation\":\"v\",\"showlegend\":false,\"texttemplate\":\"%{value}\",\"x\":[\"Logistics\",\"Retail\",\"Transportation\",\"Consumer\",\"Support\",\"Travel\",\"Marketing\",\"Travel\",\"Travel\",\"Recruiting\",\"Transportation\",\"Fitness\",\"Travel\",\"Media\",\"Infrastructure\",\"Travel\",\"Real Estate\",\"Real Estate\",\"Retail\",\"Marketing\",\"Data\",\"Recruiting\",\"Finance\",\"Travel\",\"Consumer\",\"Real Estate\",\"Food\",\"Travel\",\"Travel\",\"Travel\",\"Real Estate\",\"Product\",\"Media\",\"Marketing\",\"Media\",\"Product\",\"Data\",\"Education\",\"Retail\",\"Infrastructure\",\"Energy\",\"Travel\",\"Real Estate\",\"Retail\",\"Other\",\"Transportation\",\"Transportation\",\"Aerospace\",\"Transportation\",\"Consumer\",\"Retail\",\"Data\",\"Food\",\"Real Estate\",\"Real Estate\",\"Transportation\",\"Finance\",\"Recruiting\",\"Construction\",\"Finance\",\"Real Estate\",\"Food\",\"Food\",\"Marketing\",\"Retail\",\"Legal\",\"Travel\",\"Real Estate\",\"Consumer\",\"Marketing\",\"Recruiting\",\"Consumer\",\"Finance\",\"Travel\",\"HR\",\"Media\",\"Energy\",\"Other\",\"Transportation\",\"Real Estate\",\"Retail\",\"Food\",\"Logistics\",\"Logistics\",\"Marketing\",\"Consumer\",\"Transportation\",\"Logistics\",\"Real Estate\",\"Recruiting\",\"Marketing\",\"Marketing\",\"Fitness\",\"Transportation\",\"Finance\",\"Recruiting\",\"Healthcare\",\"Media\",\"Marketing\",\"Security\",\"Finance\",\"Marketing\",\"Consumer\",\"Finance\",\"Travel\",\"Travel\",\"Healthcare\",\"Marketing\",\"HR\",\"Retail\",\"Retail\",\"Real Estate\",\"Transportation\",\"Fitness\",\"Transportation\",\"Food\",\"Construction\",\"Fitness\",\"Fitness\",\"Recruiting\",\"Security\",\"HR\",\"Marketing\",\"Food\",\"Education\",\"Marketing\",\"HR\",\"Infrastructure\",\"Media\",\"Finance\",\"Finance\",\"Retail\",\"Logistics\",\"Travel\",\"Transportation\",\"Travel\",\"Retail\",\"Marketing\",\"Fitness\",\"Infrastructure\",\"Transportation\",\"Media\",\"Healthcare\",\"Media\",\"Travel\",\"Retail\",\"Media\",\"Healthcare\",\"Media\",\"Consumer\",\"Aerospace\",\"Marketing\",\"Marketing\",\"Marketing\",\"Support\",\"Finance\",\"Finance\",\"Transportation\",\"Finance\",\"HR\",\"Food\",\"Food\",\"Healthcare\",\"Marketing\",\"Finance\",\"Retail\",\"Real Estate\",\"Retail\",\"Healthcare\",\"Finance\",\"Media\",\"Marketing\",\"HR\",\"Marketing\",\"Retail\",\"Finance\",\"Consumer\",\"Support\",\"Marketing\",\"Real Estate\",\"Marketing\",\"Marketing\",\"Transportation\",\"Product\",\"Recruiting\",\"Recruiting\",\"Food\",\"Consumer\",\"Consumer\",\"Finance\",\"Finance\",\"Data\",\"Data\",\"Support\",\"Legal\",\"Data\",\"Education\",\"Marketing\",\"Retail\",\"Media\",\"Travel\",\"Recruiting\",\"Finance\",\"Construction\",\"Infrastructure\",\"Media\",\"Data\",\"Finance\",\"Logistics\",\"Finance\",\"Transportation\",\"Retail\",\"Consumer\",\"Retail\",\"Food\",\"HR\",\"Consumer\",\"HR\",\"Data\",\"Real Estate\",\"Consumer\",\"Retail\",\"Food\",\"Finance\",\"Finance\",\"Transportation\",\"Retail\",\"Retail\",\"HR\",\"Transportation\",\"Finance\",\"Marketing\",\"Retail\",\"Logistics\",\"Education\",\"Real Estate\",\"Real Estate\",\"Education\",\"Recruiting\",\"Marketing\",\"Security\",\"Food\",\"Travel\",\"Crypto\",\"Marketing\",\"Finance\",\"Transportation\",\"Healthcare\",\"Healthcare\",\"Support\",\"Food\",\"Finance\",\"Consumer\",\"Retail\",\"Finance\",\"Finance\",\"Media\",\"Media\",\"Logistics\",\"Healthcare\",\"Education\",\"Transportation\",\"HR\",\"Consumer\",\"Data\",\"Retail\",\"HR\",\"Marketing\",\"Healthcare\",\"Education\",\"Consumer\",\"Healthcare\",\"Travel\",\"Finance\",\"Marketing\",\"Support\",\"Transportation\",\"Travel\",\"Other\",\"Food\",\"Real Estate\",\"Other\",\"Retail\",\"Finance\",\"Marketing\",\"Data\",\"Food\",\"Finance\",\"Travel\",\"Real Estate\",\"Transportation\",\"Travel\",\"Transportation\",\"Logistics\",\"Food\",\"Consumer\",\"Sales\",\"Travel\",\"Media\",\"Consumer\",\"HR\",\"Finance\",\"Media\",\"Healthcare\",\"Other\",\"Retail\",\"Fitness\",\"Transportation\",\"Finance\",\"Security\",\"HR\",\"Sales\",\"Other\",\"Travel\",\"Consumer\",\"Recruiting\",\"Recruiting\",\"Recruiting\",\"Sales\",\"Transportation\",\"Data\",\"Education\",\"Data\",\"Marketing\",\"Finance\",\"Sales\",\"Finance\",\"Finance\",\"Recruiting\",\"Transportation\",\"Finance\",\"Finance\",\"Real Estate\",\"Education\",\"Recruiting\",\"Data\",\"Real Estate\",\"Finance\",\"Sales\",\"Finance\",\"Product\",\"Retail\",\"Data\",\"Transportation\",\"Media\",\"Marketing\",\"Finance\",\"Transportation\",\"HR\",\"Finance\",\"Food\",\"Real Estate\",\"Transportation\",\"Food\",\"Real Estate\",\"Travel\",\"Infrastructure\",\"Legal\",\"Product\",\"Travel\",\"Retail\",\"Support\",\"Marketing\",\"Finance\",\"Travel\",\"Logistics\",\"Transportation\",\"Marketing\",\"Product\",\"Travel\",\"Other\",\"Transportation\",\"Finance\",\"Education\",\"Transportation\",\"Finance\",\"Education\",\"Retail\",\"HR\",\"Consumer\",\"Transportation\",\"Consumer\",\"Real Estate\",\"Finance\",\"Retail\",\"Travel\",\"Real Estate\",\"Consumer\",\"Data\",\"Finance\",\"Transportation\",\"Transportation\",\"Finance\",\"Transportation\",\"Aerospace\",\"Finance\",\"Product\",\"Security\",\"Media\",\"Finance\",\"Support\",\"Media\",\"Retail\",\"Infrastructure\",\"Finance\",\"Transportation\",\"Healthcare\",\"Data\",\"Transportation\",\"Finance\",\"Finance\",\"Media\",\"Real Estate\",\"Finance\",\"Finance\",\"Transportation\",\"Product\",\"Consumer\",\"Marketing\",\"Infrastructure\",\"Retail\",\"Transportation\",\"Transportation\",\"Construction\",\"Marketing\",\"Real Estate\",\"Consumer\",\"Media\",\"Marketing\",\"Finance\",\"Retail\",\"Finance\",\"Logistics\",\"Consumer\",\"Travel\",\"Marketing\",\"Fitness\",\"Finance\",\"Recruiting\",\"HR\",\"Food\",\"Finance\",\"Construction\",\"Retail\",\"Travel\",\"Sales\",\"Food\",\"Retail\",\"Food\",\"Consumer\",\"Retail\",\"Healthcare\",\"Infrastructure\",\"Sales\",\"Travel\",\"Finance\",\"Media\",\"Transportation\",\"Data\",\"Media\",\"Healthcare\",\"Marketing\",\"Travel\",\"Education\",\"Healthcare\",\"Real Estate\",\"Support\",\"Retail\",\"Healthcare\",\"Healthcare\",\"Finance\",\"Travel\",\"Data\",\"Real Estate\",\"Security\",\"Education\",\"Other\",\"Marketing\",\"Food\",\"Food\",\"Retail\",\"Data\",\"Consumer\",\"Retail\",\"Food\",\"Recruiting\",\"Other\",\"Retail\",\"Transportation\",\"Food\",\"Media\",\"Infrastructure\",\"Media\",\"Education\",\"Construction\",\"HR\",\"Consumer\",\"Education\",\"Security\",\"Education\",\"Other\",\"Product\",\"Real Estate\",\"Data\",\"Real Estate\",\"Food\",\"Finance\",\"Consumer\",\"Food\",\"Real Estate\",\"Fitness\",\"Other\",\"Real Estate\",\"Food\",\"Finance\",\"Transportation\",\"Education\",\"Finance\",\"Retail\",\"Healthcare\",\"Data\",\"Healthcare\",\"Real Estate\",\"Real Estate\",\"Retail\",\"Healthcare\",\"Media\",\"Retail\",\"Education\",\"Food\",\"Data\",\"Retail\",\"Finance\",\"Media\",\"Crypto\",\"Energy\",\"Food\",\"Education\",\"Food\",\"Retail\",\"Transportation\",\"Healthcare\",\"Media\",\"Real Estate\",\"Real Estate\",\"Finance\",\"Finance\",\"Retail\",\"Consumer\",\"Marketing\",\"Retail\",\"Finance\",\"Fitness\",\"Education\",\"Media\",\"Healthcare\",\"Food\",\"Finance\",\"Retail\",\"Finance\",\"Consumer\",\"Energy\",\"Food\",\"Education\",\"Product\",\"Education\",\"Healthcare\",\"Transportation\",\"Transportation\",\"Travel\",\"Finance\",\"Transportation\",\"Security\",\"Data\",\"Education\",\"Fitness\",\"Finance\",\"Healthcare\",\"Retail\",\"Food\",\"Consumer\",\"Healthcare\",\"Media\",\"Education\",\"Transportation\",\"Security\",\"Consumer\",\"Media\",\"Healthcare\",\"Consumer\",\"Other\",\"Data\",\"Crypto\",\"Finance\",\"Finance\",\"Finance\",\"Education\",\"Food\",\"Finance\",\"Security\",\"Finance\",\"Finance\",\"Finance\",\"Finance\",\"Consumer\",\"Food\",\"Crypto\",\"Retail\",\"Finance\",\"Data\",\"Education\",\"Transportation\",\"Finance\",\"Consumer\",\"Education\",\"Transportation\",\"Finance\",\"Infrastructure\",\"Consumer\",\"Transportation\",\"Finance\",\"Education\",\"Product\",\"Security\",\"Travel\",\"Education\",\"Crypto\",\"Consumer\",\"Healthcare\",\"Food\",\"Finance\",\"Construction\",\"Marketing\",\"Crypto\",\"Consumer\",\"Food\",\"Consumer\",\"Logistics\",\"Consumer\",\"Consumer\",\"Food\",\"Education\",\"Other\",\"Finance\",\"Finance\",\"Transportation\",\"Transportation\",\"Transportation\",\"Marketing\",\"Retail\",\"Security\",\"Retail\",\"Healthcare\",\"Transportation\",\"Travel\",\"Security\",\"Retail\",\"Retail\",\"Logistics\",\"Infrastructure\",\"Finance\",\"Education\",\"Retail\",\"Retail\",\"Crypto\",\"Finance\",\"Finance\",\"Healthcare\",\"Retail\",\"Logistics\",\"Crypto\",\"Media\",\"Education\",\"Crypto\",\"HR\",\"Healthcare\",\"Healthcare\",\"Real Estate\",\"Real Estate\",\"Crypto\",\"Retail\",\"Finance\",\"Food\",\"Legal\",\"Media\",\"Other\",\"Media\",\"Logistics\",\"Consumer\",\"Healthcare\",\"Real Estate\",\"Food\",\"Security\",\"Finance\",\"Consumer\",\"Education\",\"Retail\",\"Crypto\",\"Energy\",\"Retail\",\"Food\",\"Retail\",\"Healthcare\",\"Crypto\",\"Support\",\"Marketing\",\"Finance\",\"Product\",\"Food\",\"Sales\",\"Transportation\",\"Transportation\",\"Support\",\"Security\",\"Real Estate\",\"Security\",\"Education\",\"Security\",\"Finance\",\"Security\",\"Marketing\",\"Media\",\"Crypto\",\"Finance\",\"Finance\",\"Finance\",\"Marketing\",\"Data\",\"Crypto\",\"Healthcare\",\"Retail\",\"Data\",\"Marketing\",\"Crypto\",\"Education\",\"Retail\",\"Healthcare\",\"Retail\",\"Healthcare\",\"Healthcare\",\"Data\",\"Education\",\"Other\",\"Consumer\",\"Travel\",\"Data\",\"Transportation\",\"Infrastructure\",\"Transportation\",\"Transportation\",\"Media\",\"Other\",\"Retail\",\"Education\",\"Finance\",\"Security\",\"Retail\",\"Finance\",\"Crypto\",\"Product\",\"Travel\",\"Transportation\",\"Infrastructure\",\"Healthcare\",\"Crypto\",\"Food\",\"Consumer\",\"Consumer\",\"Other\",\"Logistics\",\"Real Estate\",\"Marketing\",\"Finance\",\"Data\",\"Crypto\",\"Security\",\"Finance\",\"Retail\",\"Education\",\"Data\",\"Data\",\"Retail\",\"HR\",\"Marketing\",\"Marketing\",\"Finance\",\"Transportation\",\"Other\",\"Healthcare\",\"Food\",\"Marketing\",\"Healthcare\",\"Other\",\"Food\",\"Food\",\"Healthcare\",\"Marketing\",\"Finance\",\"Fitness\",\"Logistics\",\"Product\",\"Food\",\"Consumer\",\"Transportation\",\"Retail\",\"Finance\",\"HR\",\"Crypto\",\"Real Estate\",\"Marketing\",\"Retail\",\"Logistics\",\"Finance\",\"Healthcare\",\"Crypto\",\"Marketing\",\"HR\",\"Finance\",\"Healthcare\",\"Retail\",\"Healthcare\",\"Food\",\"Real Estate\",\"Finance\",\"Other\",\"HR\",\"Sales\",\"Sales\",\"Transportation\",\"Other\",\"Media\",\"Healthcare\",\"Food\",\"Transportation\",\"Fitness\",\"Security\",\"Media\",\"Crypto\",\"Healthcare\",\"HR\",\"Finance\",\"Healthcare\",\"Support\",\"Healthcare\",\"Other\",\"Other\",\"Retail\",\"Real Estate\",\"Finance\",\"Recruiting\",\"Crypto\",\"Marketing\",\"Marketing\",\"Crypto\",\"Media\",\"Transportation\",\"Real Estate\",\"Education\",\"Finance\",\"Finance\",\"Consumer\",\"Retail\",\"Travel\",\"Marketing\",\"Food\",\"Food\",\"Finance\",\"Transportation\",\"Marketing\",\"HR\",\"Finance\",\"Finance\",\"Security\",\"Education\",\"Product\",\"Sales\",\"Logistics\",\"HR\",\"Logistics\",\"Product\",\"Retail\",\"Logistics\",\"Healthcare\",\"Marketing\",\"Food\",\"HR\",\"Finance\",\"Retail\",\"Education\",\"Consumer\",\"Healthcare\",\"Support\",\"Construction\",\"Education\",\"Support\",\"Retail\",\"Consumer\",\"Marketing\",\"Marketing\",\"Data\",\"Consumer\",\"Transportation\",\"Logistics\",\"Retail\",\"Marketing\",\"Retail\",\"Consumer\",\"Marketing\",\"Healthcare\",\"Infrastructure\",\"Retail\",\"Healthcare\",\"Sales\",\"Healthcare\",\"Finance\",\"Marketing\",\"Education\",\"Recruiting\",\"Healthcare\",\"Retail\",\"Logistics\",\"Healthcare\",\"Healthcare\",\"Fitness\",\"Real Estate\",\"Healthcare\",\"Finance\",\"Healthcare\",\"HR\",\"Data\",\"Healthcare\",\"Security\",\"Other\",\"Finance\",\"Other\",\"Crypto\",\"Crypto\",\"Healthcare\",\"Infrastructure\",\"Crypto\",\"Finance\",\"Retail\",\"Marketing\",\"Security\",\"Security\",\"HR\",\"HR\",\"Other\",\"Retail\",\"Transportation\",\"Finance\",\"Real Estate\",\"Food\",\"Retail\",\"Other\",\"Finance\",\"Security\",\"Healthcare\",\"Retail\",\"Retail\",\"Security\",\"Other\",\"Consumer\",\"Healthcare\",\"Finance\",\"Finance\",\"Sales\",\"Healthcare\",\"Real Estate\",\"Retail\",\"Consumer\",\"Finance\",\"Fitness\",\"Retail\",\"Healthcare\",\"Crypto\",\"Finance\",\"Healthcare\",\"Legal\",\"Food\",\"Food\",\"Transportation\",\"Finance\",\"Product\",\"Sales\",\"Support\",\"Healthcare\",\"Retail\",\"Education\",\"Food\",\"Energy\",\"Media\",\"HR\",\"Data\",\"Transportation\",\"Finance\",\"Healthcare\",\"Media\",\"Marketing\",\"Other\",\"Marketing\",\"Media\",\"Other\",\"HR\",\"Media\",\"Support\",\"Finance\",\"Finance\",\"Healthcare\",\"Transportation\",\"Real Estate\",\"Healthcare\",\"Support\",\"Transportation\",\"Aerospace\",\"Finance\",\"Crypto\",\"Security\",\"Food\",\"Finance\",\"Finance\",\"Real Estate\",\"Sales\",\"Infrastructure\",\"Retail\",\"Transportation\",\"Crypto\",\"Support\",\"Real Estate\",\"Recruiting\",\"Food\",\"Education\",\"Real Estate\",\"Fitness\",\"Crypto\",\"Healthcare\",\"Data\",\"Food\",\"Marketing\",\"Healthcare\",\"Infrastructure\",\"Marketing\",\"Education\",\"Other\",\"Real Estate\",\"Finance\",\"Finance\",\"Healthcare\",\"Sales\",\"Education\",\"Education\",\"Other\",\"Consumer\",\"Sales\",\"Food\",\"Real Estate\",\"Media\",\"Healthcare\",\"Marketing\",\"Retail\",\"Retail\",\"Food\",\"Finance\",\"Security\",\"Sales\",\"Product\",\"Real Estate\",\"Marketing\",\"Sales\",\"Security\",\"Healthcare\",\"Finance\",\"Healthcare\",\"Healthcare\",\"Healthcare\",\"Healthcare\",\"Real Estate\",\"Other\",\"Security\",\"HR\",\"Finance\",\"Finance\",\"Fitness\",\"Real Estate\",\"Transportation\",\"Finance\",\"Security\",\"HR\",\"Finance\",\"Construction\",\"Healthcare\",\"Food\",\"Retail\",\"Healthcare\",\"Legal\",\"Retail\",\"Finance\",\"Finance\",\"Recruiting\",\"Transportation\",\"Travel\",\"Other\",\"Finance\",\"Food\",\"Food\",\"Marketing\",\"Marketing\",\"Consumer\",\"Food\",\"Real Estate\",\"Finance\",\"Finance\",\"Crypto\",\"Food\",\"Finance\",\"Crypto\",\"Security\",\"Finance\",\"Transportation\",\"Finance\",\"Food\",\"Logistics\",\"Finance\",\"Consumer\",\"Retail\",\"Other\",\"Finance\",\"Crypto\",\"Education\",\"Security\",\"Sales\",\"Support\",\"Education\",\"Finance\",\"Healthcare\",\"Other\",\"Consumer\",\"Marketing\",\"Finance\",\"Consumer\",\"Real Estate\",\"Real Estate\",\"Travel\",\"Healthcare\",\"Finance\",\"Marketing\",\"Consumer\",\"Transportation\",\"Consumer\",\"Finance\",\"Data\",\"Crypto\",\"Marketing\",\"Other\",\"Crypto\",\"Logistics\",\"Real Estate\",\"Support\",\"Healthcare\",\"Healthcare\",\"Fitness\",\"Real Estate\",\"Sales\",\"Healthcare\",\"Marketing\",\"Media\",\"Crypto\",\"Transportation\",\"Healthcare\",\"Data\",\"Other\",\"Security\",\"Food\",\"Product\",\"Real Estate\",\"Media\",\"Other\",\"Finance\",\"Consumer\",\"Sales\",\"Retail\",\"Infrastructure\",\"Food\",\"Other\",\"Retail\",\"Other\",\"Marketing\",\"Healthcare\",\"Marketing\",\"Media\",\"Real Estate\",\"Real Estate\",\"Finance\",\"Sales\",\"Finance\",\"Other\",\"Marketing\",\"Finance\",\"Healthcare\",\"Transportation\",\"Transportation\",\"Transportation\",\"Food\",\"Food\",\"Retail\",\"Retail\",\"Crypto\",\"Crypto\",\"Food\",\"Transportation\",\"Media\",\"Education\",\"Other\",\"Consumer\",\"Recruiting\",\"Finance\",\"Other\",\"Crypto\",\"Crypto\",\"Retail\",\"Crypto\",\"Education\",\"Food\",\"Crypto\",\"Finance\",\"Retail\",\"Food\",\"Marketing\",\"Education\",\"Other\",\"Retail\",\"Finance\",\"Education\",\"Retail\",\"Marketing\",\"Product\",\"Sales\",\"Finance\",\"Consumer\",\"Security\",\"Fitness\",\"Travel\",\"Crypto\",\"Security\",\"Finance\",\"Finance\",\"Finance\",\"Hardware\",\"Media\",\"Other\",\"Marketing\",\"Finance\",\"Crypto\",\"Security\",\"Construction\",\"Education\",\"Real Estate\",\"Finance\",\"Transportation\",\"Legal\",\"Transportation\",\"Crypto\",\"Consumer\",\"Retail\",\"Real Estate\",\"Finance\",\"Marketing\",\"Marketing\",\"Product\",\"Food\",\"HR\",\"Finance\",\"Transportation\",\"Healthcare\",\"Transportation\",\"Security\",\"Security\",\"Retail\",\"Transportation\",\"Healthcare\",\"Finance\",\"Marketing\",\"Consumer\",\"Finance\",\"Education\",\"Product\",\"Food\",\"Education\",\"Sales\",\"Marketing\",\"Healthcare\",\"Infrastructure\",\"Consumer\",\"Retail\",\"Education\",\"Transportation\",\"Food\",\"Healthcare\",\"HR\",\"Other\",\"Support\",\"Retail\",\"Data\",\"Finance\",\"Real Estate\",\"Finance\",\"Food\",\"Transportation\",\"Hardware\",\"Real Estate\",\"Retail\",\"Real Estate\",\"Finance\",\"Support\",\"Education\",\"Support\",\"HR\",\"Retail\",\"Data\",\"Media\",\"Sales\",\"Manufacturing\",\"Consumer\",\"Healthcare\",\"Other\",\"Finance\",\"Crypto\",\"Retail\",\"Retail\",\"Support\",\"Hardware\",\"Retail\",\"Data\",\"Crypto\",\"Transportation\",\"Healthcare\",\"Other\",\"Media\",\"Healthcare\",\"Education\",\"Crypto\",\"Data\",\"Finance\",\"Finance\",\"Crypto\",\"Security\",\"Education\",\"HR\",\"Logistics\",\"Media\",\"Consumer\",\"Security\",\"Logistics\",\"Other\",\"Healthcare\",\"Finance\",\"Security\",\"Crypto\",\"Other\",\"Consumer\",\"Healthcare\",\"Finance\",\"Media\",\"Crypto\",\"Finance\",\"Finance\",\"Data\",\"Support\",\"Healthcare\",\"Healthcare\",\"Finance\",\"Education\",\"Healthcare\",\"Other\",\"Transportation\",\"Hardware\",\"Food\",\"Food\",\"Marketing\",\"Consumer\",\"Finance\",\"Food\",\"Finance\",\"Retail\",\"Other\",\"Transportation\",\"Transportation\",\"Other\",\"Construction\",\"Other\",\"Support\",\"Other\",\"Real Estate\",\"Travel\",\"Other\",\"Finance\",\"Security\",\"Transportation\",\"Healthcare\",\"Other\",\"Finance\",\"Support\",\"Other\",\"Security\",\"Healthcare\",\"Marketing\",\"Finance\",\"Fitness\",\"Finance\",\"Real Estate\",\"Other\",\"Retail\",\"Legal\",\"Consumer\",\"Consumer\",\"Retail\",\"Food\",\"Infrastructure\",\"Healthcare\",\"Media\",\"HR\",\"Healthcare\",\"Data\",\"Retail\",\"Media\",\"Logistics\",\"Marketing\",\"Marketing\",\"Security\",\"Marketing\",\"Retail\",\"Sales\",\"Travel\",\"Healthcare\",\"Finance\",\"Product\",\"Marketing\",\"Healthcare\",\"Crypto\",\"Hardware\",\"Hardware\",\"Retail\",\"Real Estate\",\"Legal\",\"Healthcare\",\"Transportation\",\"Other\",\"Data\",\"Retail\",\"Retail\",\"Retail\",\"Other\",\"Crypto\",\"Crypto\",\"Marketing\",\"Transportation\",\"Crypto\",\"Finance\",\"Hardware\",\"Retail\",\"Food\",\"Marketing\",\"Healthcare\",\"Transportation\",\"Food\",\"Retail\",\"Food\",\"Finance\",\"Data\",\"HR\",\"Marketing\",\"Finance\",\"Data\",\"Retail\",\"Finance\",\"Consumer\",\"Transportation\",\"Security\",\"Data\",\"Consumer\",\"Security\",\"Other\",\"Healthcare\",\"Crypto\",\"Consumer\",\"Media\",\"Legal\",\"Education\",\"Security\",\"Other\",\"Healthcare\",\"Other\",\"Food\",\"Security\",\"Crypto\",\"Data\",\"Education\",\"Sales\",\"Crypto\",\"Logistics\",\"Finance\",\"Healthcare\",\"Sales\",\"Media\",\"Marketing\",\"Logistics\",\"Hardware\"],\"xaxis\":\"x\",\"y\":[75.0,20.0,8.0,6.0,16.0,130.0,4.0,34.0,50.0,84.0,120.0,784.0,45.0,18.0,30.0,38.0,375.0,150.0,91.0,20.0,20.0,15.0,13.0,400.0,130.0,80.0,87.0,20.0,56.0,300.0,100.0,78.0,75.0,52.0,30.0,12.0,10.0,50.0,250.0,50.0,47.0,200.0,41.0,23.0,13.0,44.0,100.0,451.0,406.0,250.0,227.0,200.0,175.0,130.0,127.0,100.0,78.0,30.0,60.0,47.0,47.0,40.0,30.0,20.0,10.0,75.0,250.0,250.0,10.0,17.0,400.0,250.0,51.0,80.0,70.0,31.0,120.0,30.0,30.0,25.0,20.0,9.0,30.0,349.0,210.0,194.0,108.0,65.0,50.0,20.0,40.0,5.0,17.0,28.0,45.0,46.0,100.0,51.0,52.0,24.0,50.0,20.0,200.0,17.0,18.0,200.0,9.0,15.0,59.0,65.0,70.0,90.0,100.0,154.0,40.0,196.0,240.0,700.0,100.0,39.0,60.0,35.0,35.0,5.0,7.0,23.0,26.0,30.0,30.0,6.0,35.0,60.0,75.0,100.0,120.0,167.0,147.0,300.0,467.0,34.0,140.0,24.0,18.0,19.0,10.0,12.0,14.0,17.0,5.0,50.0,40.0,100.0,77.0,26.0,24.0,100.0,15.0,23.0,60.0,10.0,1300.0,400.0,340.0,100.0,94.0,87.0,236.0,60.0,65.0,30.0,50.0,53.0,46.0,25.0,200.0,89.0,500.0,80.0,48.0,40.0,30.0,21.0,92.0,17.0,18.0,86.0,4.0,11.0,1000.0,165.0,136.0,90.0,90.0,40.0,150.0,25.0,14.0,8.0,36.0,201.0,35.0,28.0,30.0,16.0,6.0,5.0,20.0,17.0,50.0,70.0,100.0,2800.0,45.0,235.0,131.0,58.0,21.0,10.0,15.0,600.0,200.0,200.0,200.0,161.0,100.0,15.0,14.0,13.0,40.0,130.0,65.0,60.0,44.0,200.0,140.0,88.0,47.0,40.0,120.0,30.0,13.0,35.0,300.0,91.0,90.0,90.0,28.0,23.0,10.0,33.0,800.0,460.0,155.0,78.0,500.0,38.0,30.0,13.0,10.0,40.0,19.0,10.0,55.0,1000.0,80.0,100.0,87.0,6.0,70.0,4.0,6.0,10.0,15.0,18.0,19.0,36.0,57.0,500.0,30.0,250.0,20.0,260.0,20.0,27.0,35.0,80.0,367.0,391.0,900.0,300.0,982.0,160.0,80.0,24.0,124.0,81.0,100.0,150.0,95.0,80.0,110.0,35.0,26.0,70.0,50.0,120.0,800.0,536.0,400.0,63.0,60.0,11.0,62.0,1900.0,900.0,135.0,40.0,25.0,31.0,3700.0,130.0,100.0,50.0,50.0,28.0,55.0,60.0,62.0,300.0,500.0,9.0,60.0,28.0,16.0,36.0,65.0,73.0,1300.0,51.0,25.0,19.0,669.0,17.0,150.0,80.0,70.0,30.0,35.0,16.0,500.0,520.0,250.0,3000.0,1100.0,100.0,1500.0,57.0,45.0,10.0,69.0,450.0,39.0,101.0,112.0,221.0,300.0,1400.0,400.0,18.0,70.0,21.0,200.0,50.0,137.0,600.0,62.0,150.0,20.0,36.0,200.0,219.0,270.0,32.0,62.0,1400.0,350.0,24.0,12.0,12.0,14.0,40.0,100.0,22.0,40.0,70.0,120.0,39.0,50.0,46.0,18.0,26.0,10.0,3.0,120.0,63.0,225.0,44.0,70.0,360.0,1500.0,40.0,15.0,200.0,715.0,90.0,430.0,6.0,174.0,451.0,20.0,61.0,100.0,130.0,400.0,17.0,56.0,5.0,12.0,18.0,85.0,100.0,40.0,140.0,63.0,300.0,60.0,120.0,22.0,960.0,64.0,350.0,75.0,180.0,87.0,4375.0,56.0,75.0,150.0,20.0,250.0,30.0,8.0,30.0,1000.0,350.0,22.0,250.0,30.0,240.0,20.0,47.0,250.0,90.0,8.0,82.0,20.0,30.0,30.0,18.0,154.0,5.0,600.0,54.0,120.0,78.0,1800.0,315.0,21.0,1877.0,180.0,800.0,20.0,1800.0,45.0,87.0,13.0,80.0,243.0,200.0,200.0,47.0,160.0,36.0,65.0,2434.0,80.0,1800.0,37.0,30.0,41.0,120.0,22.0,2000.0,70.0,900.0,300.0,330.0,80.0,100.0,57.0,2800.0,138.0,119.0,100.0,120.0,111.0,150.0,30.0,190.0,500.0,100.0,100.0,3000.0,115.0,300.0,150.0,100.0,180.0,100.0,450.0,59.0,350.0,20.0,23.0,75.0,450.0,70.0,1000.0,20.0,150.0,100.0,44.0,10.0,159.0,160.0,200.0,52.0,260.0,180.0,22.0,29.0,340.0,50.0,150.0,25.0,495.0,500.0,25.0,40.0,45.0,87.0,97.0,300.0,72.0,90.0,200.0,62.0,750.0,270.0,200.0,310.0,2500.0,30.0,70.0,32.0,150.0,22.0,24.0,400.0,100.0,90.0,100.0,150.0,424.0,600.0,130.0,70.0,87.0,600.0,30.0,60.0,65.0,80.0,83.0,700.0,40.0,200.0,300.0,75.0,300.0,240.0,50.0,30.0,45.0,50.0,80.0,80.0,200.0,29.0,40.0,145.0,400.0,100.0,100.0,12.0,30.0,44.0,50.0,250.0,500.0,65.0,100.0,34.0,100.0,30.0,31.0,90.0,25.0,250.0,170.0,170.0,140.0,100.0,100.0,30.0,29.0,25.0,59.0,60.0,23.0,21.0,40.0,50.0,60.0,180.0,750.0,750.0,138.0,150.0,40.0,130.0,50.0,150.0,150.0,250.0,950.0,330.0,200.0,90.0,80.0,31.0,26.0,40.0,70.0,260.0,20.0,45.0,60.0,100.0,250.0,250.0,56.0,33.0,24.0,30.0,50.0,75.0,450.0,470.0,1100.0,250.0,159.0,150.0,110.0,60.0,23.0,14.0,10.0,15.0,40.0,45.0,50.0,16.0,69.0,150.0,150.0,191.0,9.0,30.0,30.0,80.0,100.0,101.0,600.0,52.0,40.0,340.0,24.0,23.0,30.0,35.0,35.0,50.0,55.0,70.0,90.0,120.0,22.0,15.0,70.0,8.0,300.0,270.0,90.0,40.0,41.0,43.0,27.0,70.0,170.0,180.0,210.0,300.0,300.0,300.0,120.0,110.0,80.0,50.0,18.0,30.0,350.0,200.0,85.0,80.0,80.0,76.0,60.0,40.0,16.0,13.0,18.0,400.0,170.0,40.0,30.0,30.0,14.0,12.0,20.0,85.0,58.0,15.0,52.0,150.0,540.0,29.0,80.0,18.0,27.0,384.0,120.0,100.0,80.0,30.0,27.0,20.0,13.0,31.0,30.0,35.0,50.0,100.0,30.0,40.0,150.0,150.0,1500.0,156.0,1000.0,24.0,63.0,242.0,150.0,1500.0,100.0,45.0,300.0,262.0,120.0,100.0,100.0,12.0,7.0,70.0,85.0,54.0,42.0,39.0,23.0,24.0,63.0,100.0,94.0,68.0,30.0,28.0,38.0,1000.0,28.0,450.0,390.0,200.0,75.0,60.0,13.0,57.0,15.0,60.0,30.0,23.0,11.0,60.0,63.0,95.0,130.0,140.0,150.0,50.0,45.0,28.0,15.0,120.0,25.0,80.0,60.0,1000.0,90.0,40.0,23.0,20.0,38.0,30.0,30.0,39.0,840.0,136.0,60.0,60.0,45.0,22.0,23.0,22.0,40.0,43.0,50.0,125.0,1000.0,75.0,16.0,58.0,713.0,115.0,100.0,80.0,60.0,90.0,40.0,30.0,23.0,19.0,54.0,149.0,47.0,40.0,13.0,250.0,216.0,80.0,200.0,100.0,80.0,70.0,73.0,50.0,50.0,140.0,31.0,20.0,36.0,63.0,337.0,500.0,500.0,100.0,60.0,50.0,400.0,800.0,270.0,48.0,130.0,12.0,40.0,60.0,30.0,47.0,7.0,30.0,54.0,60.0,90.0,175.0,784.0,11.0,16.0,220.0,250.0,5.0,12.0,80.0,125.0,83.0,50.0,54.0,52.0,74.0,35.0,110.0,40.0,50.0,870.0,13.0,55.0,100.0,29.0,31.0,50.0,138.0,180.0,15.0,140.0,40.0,25.0,80.0,20.0,24.0,95.0,300.0,30.0,38.0,81.0,1280.0,140.0,100.0,70.0,45.0,30.0,29.0,26.0,40.0,12.0,55.0,70.0,90.0,100.0,23.0,40.0,30.0,150.0,60.0,60.0,50.0,45.0,27.0,49.0,23.0,55.0,200.0,350.0,58.0,5.0,11.0,25.0,60.0,100.0,160.0,80.0,100.0,800.0,59.0,30.0,50.0,35.0,70.0,193.0,40.0,190.0,29.0,200.0,271.0,109.0,78.0,75.0,100.0,100.0,110.0,24.0,26.0,70.0,180.0,40.0,671.0,40.0,125.0,78.0,60.0,200.0,40.0,50.0,50.0,51.0,110.0,500.0,2000.0,120.0,85.0,611.0,180.0,67.0,96.0,35.0,55.0,80.0,100.0,136.0,200.0,500.0,150.0,2500.0,130.0,150.0,65.0,90.0,200.0,378.0,24.0,50.0,50.0,84.0,56.0,250.0,32.0,20.0,20.0,23.0,64.0,227.0,120.0,100.0,30.0,43.0,23.0,62.0,400.0,4000.0,100.0,50.0,198.0,17.0,30.0,150.0,400.0,300.0,173.0,94.0,200.0,13.0,84.0,210.0,32.0,100.0,150.0,300.0,60.0,23.0,25.0,30.0,100.0,259.0,226.0,200.0,140.0,70.0,70.0,50.0,24.0,10.0,70.0,550.0,156.0,142.0,134.0,50.0,100.0,10.0,100.0,1000.0,700.0,150.0,100.0,60.0,200.0,3700.0,350.0,200.0,70.0,59.0,25.0,110.0,1000.0,350.0,350.0,190.0,65.0,200.0,80.0,130.0,137.0,11000.0,300.0,862.0,144.0,36.0,25.0,25.0,35.0,1300.0,400.0,100.0,65.0,60.0,40.0,45.0,20.0,60.0,100.0,124.0,500.0,500.0,300.0,170.0,143.0,59.0,51.0,40.0,30.0,20.0,90.0,241.0,180.0,170.0,120.0,100.0,71.0,60.0,50.0,50.0,45.0,31.0,10000.0,4100.0,211.0,120.0,90.0,76.0,200.0,59.0,70.0,200.0,180.0,113.0,72.0,58.0,15.0,34.0,9.0,37.0,105.0,1500.0,300.0,57.0,100.0,93.0,80.0,160.0,20.0,100.0,27.0,70.0,150.0,90.0,500.0,300.0,200.0,67.0,25.0,33.0,100.0,50.0,10.0,70.0,1250.0,1100.0,158.0,134.0,130.0,60.0,45.0,40.0,30.0,53.0,88.0,110.0,100.0,48.0,37.0,47.0,100.0,100.0,150.0,600.0,90.0,65.0,30.0,50.0,515.0,201.0,180.0,175.0,100.0,32.0,16.0,20.0,13.0,385.0,312.0,260.0,237.0,150.0,130.0,235.0,95.0,40.0,30.0,27.0,120.0,60.0,254.0,250.0,198.0,95.0,80.0,43.0,160.0,25.0,30.0,80.0,150.0,113.0,85.0,62.0,600.0,20.0,43.0,20.0,329.0,400.0,35.0,46.0,78.0,95.0,160.0,200.0,100.0,72.0,40.0,50.0,60.0,80.0,90.0,180.0,24.0,30.0,18.0,26.0,65.0,350.0,153.0,50.0,93.0,99.0,150.0,700.0,60.0,76.0,245.0,8000.0,76.0,75.0,8000.0,20.0,40.0,388.0,200.0,104.0,60.0,40.0,30.0,30.0,30.0,25.0,30.0,275.0,40.0,200.0,43.0,50.0,315.0,76.0,950.0,450.0,340.0,120.0,100.0,100.0,60.0,40.0,55.0,40.0,60.0,100.0,640.0,270.0,250.0,123.0,69.0,80.0,40.0,33.0,41.0,225.0,120.0,110.0,104.0,100.0,64.0,115.0,46.0,55.0,111.0,22.0,40.0,140.0,200.0,900.0,120.0,40.0,100.0,500.0,500.0,75.0,50.0,300.0,284.0,206.0,150.0,110.0,100.0,50.0,142.0,30.0,44.0,109.0,137.0,140.0,450.0,275.0,300.0,10000.0,100.0,155.0,100.0,100.0,31.0,70.0,20.0,30.0,1100.0,300.0,115.0,100.0,62.0,46.0,12000.0,1750.0,380.0,92.0,200.0,130.0,47.0,30.0,22.0,31.0,600.0,150.0,50.0,40.0,30.0,20.0,30.0,40.0,1300.0,245.0,50.0,21.0,11.0,16.0,330.0,3900.0,1300.0,360.0,250.0,130.0,130.0,80.0,3000.0,221.0,138.0,100.0,100.0,100.0,29.0,21.0,19.0,73.0,19.0,60.0,343.0,500.0,250.0,1500.0,6000.0,800.0,156.0,65.0,140.0,2000.0,960.0,525.0,500.0,365.0,200.0,150.0,100.0,60.0,54.0,19.0,325.0,150.0,121.0,90.0,56.0,44.0,140.0,17.0,24.0,1500.0,300.0,250.0,127.0,119.0,100.0,125.0,80.0,40.0,38.0,100.0,89.0,90.0,20.0,70.0,20.0,50.0,59.0,300.0,6650.0],\"yaxis\":\"y\",\"type\":\"histogram\"}],                        {\"template\":{\"data\":{\"barpolar\":[{\"marker\":{\"line\":{\"color\":\"rgb(17,17,17)\",\"width\":0.5},\"pattern\":{\"fillmode\":\"overlay\",\"size\":10,\"solidity\":0.2}},\"type\":\"barpolar\"}],\"bar\":[{\"error_x\":{\"color\":\"#f2f5fa\"},\"error_y\":{\"color\":\"#f2f5fa\"},\"marker\":{\"line\":{\"color\":\"rgb(17,17,17)\",\"width\":0.5},\"pattern\":{\"fillmode\":\"overlay\",\"size\":10,\"solidity\":0.2}},\"type\":\"bar\"}],\"carpet\":[{\"aaxis\":{\"endlinecolor\":\"#A2B1C6\",\"gridcolor\":\"#506784\",\"linecolor\":\"#506784\",\"minorgridcolor\":\"#506784\",\"startlinecolor\":\"#A2B1C6\"},\"baxis\":{\"endlinecolor\":\"#A2B1C6\",\"gridcolor\":\"#506784\",\"linecolor\":\"#506784\",\"minorgridcolor\":\"#506784\",\"startlinecolor\":\"#A2B1C6\"},\"type\":\"carpet\"}],\"choropleth\":[{\"colorbar\":{\"outlinewidth\":0,\"ticks\":\"\"},\"type\":\"choropleth\"}],\"contourcarpet\":[{\"colorbar\":{\"outlinewidth\":0,\"ticks\":\"\"},\"type\":\"contourcarpet\"}],\"contour\":[{\"colorbar\":{\"outlinewidth\":0,\"ticks\":\"\"},\"colorscale\":[[0.0,\"#0d0887\"],[0.1111111111111111,\"#46039f\"],[0.2222222222222222,\"#7201a8\"],[0.3333333333333333,\"#9c179e\"],[0.4444444444444444,\"#bd3786\"],[0.5555555555555556,\"#d8576b\"],[0.6666666666666666,\"#ed7953\"],[0.7777777777777778,\"#fb9f3a\"],[0.8888888888888888,\"#fdca26\"],[1.0,\"#f0f921\"]],\"type\":\"contour\"}],\"heatmapgl\":[{\"colorbar\":{\"outlinewidth\":0,\"ticks\":\"\"},\"colorscale\":[[0.0,\"#0d0887\"],[0.1111111111111111,\"#46039f\"],[0.2222222222222222,\"#7201a8\"],[0.3333333333333333,\"#9c179e\"],[0.4444444444444444,\"#bd3786\"],[0.5555555555555556,\"#d8576b\"],[0.6666666666666666,\"#ed7953\"],[0.7777777777777778,\"#fb9f3a\"],[0.8888888888888888,\"#fdca26\"],[1.0,\"#f0f921\"]],\"type\":\"heatmapgl\"}],\"heatmap\":[{\"colorbar\":{\"outlinewidth\":0,\"ticks\":\"\"},\"colorscale\":[[0.0,\"#0d0887\"],[0.1111111111111111,\"#46039f\"],[0.2222222222222222,\"#7201a8\"],[0.3333333333333333,\"#9c179e\"],[0.4444444444444444,\"#bd3786\"],[0.5555555555555556,\"#d8576b\"],[0.6666666666666666,\"#ed7953\"],[0.7777777777777778,\"#fb9f3a\"],[0.8888888888888888,\"#fdca26\"],[1.0,\"#f0f921\"]],\"type\":\"heatmap\"}],\"histogram2dcontour\":[{\"colorbar\":{\"outlinewidth\":0,\"ticks\":\"\"},\"colorscale\":[[0.0,\"#0d0887\"],[0.1111111111111111,\"#46039f\"],[0.2222222222222222,\"#7201a8\"],[0.3333333333333333,\"#9c179e\"],[0.4444444444444444,\"#bd3786\"],[0.5555555555555556,\"#d8576b\"],[0.6666666666666666,\"#ed7953\"],[0.7777777777777778,\"#fb9f3a\"],[0.8888888888888888,\"#fdca26\"],[1.0,\"#f0f921\"]],\"type\":\"histogram2dcontour\"}],\"histogram2d\":[{\"colorbar\":{\"outlinewidth\":0,\"ticks\":\"\"},\"colorscale\":[[0.0,\"#0d0887\"],[0.1111111111111111,\"#46039f\"],[0.2222222222222222,\"#7201a8\"],[0.3333333333333333,\"#9c179e\"],[0.4444444444444444,\"#bd3786\"],[0.5555555555555556,\"#d8576b\"],[0.6666666666666666,\"#ed7953\"],[0.7777777777777778,\"#fb9f3a\"],[0.8888888888888888,\"#fdca26\"],[1.0,\"#f0f921\"]],\"type\":\"histogram2d\"}],\"histogram\":[{\"marker\":{\"pattern\":{\"fillmode\":\"overlay\",\"size\":10,\"solidity\":0.2}},\"type\":\"histogram\"}],\"mesh3d\":[{\"colorbar\":{\"outlinewidth\":0,\"ticks\":\"\"},\"type\":\"mesh3d\"}],\"parcoords\":[{\"line\":{\"colorbar\":{\"outlinewidth\":0,\"ticks\":\"\"}},\"type\":\"parcoords\"}],\"pie\":[{\"automargin\":true,\"type\":\"pie\"}],\"scatter3d\":[{\"line\":{\"colorbar\":{\"outlinewidth\":0,\"ticks\":\"\"}},\"marker\":{\"colorbar\":{\"outlinewidth\":0,\"ticks\":\"\"}},\"type\":\"scatter3d\"}],\"scattercarpet\":[{\"marker\":{\"colorbar\":{\"outlinewidth\":0,\"ticks\":\"\"}},\"type\":\"scattercarpet\"}],\"scattergeo\":[{\"marker\":{\"colorbar\":{\"outlinewidth\":0,\"ticks\":\"\"}},\"type\":\"scattergeo\"}],\"scattergl\":[{\"marker\":{\"line\":{\"color\":\"#283442\"}},\"type\":\"scattergl\"}],\"scattermapbox\":[{\"marker\":{\"colorbar\":{\"outlinewidth\":0,\"ticks\":\"\"}},\"type\":\"scattermapbox\"}],\"scatterpolargl\":[{\"marker\":{\"colorbar\":{\"outlinewidth\":0,\"ticks\":\"\"}},\"type\":\"scatterpolargl\"}],\"scatterpolar\":[{\"marker\":{\"colorbar\":{\"outlinewidth\":0,\"ticks\":\"\"}},\"type\":\"scatterpolar\"}],\"scatter\":[{\"marker\":{\"line\":{\"color\":\"#283442\"}},\"type\":\"scatter\"}],\"scatterternary\":[{\"marker\":{\"colorbar\":{\"outlinewidth\":0,\"ticks\":\"\"}},\"type\":\"scatterternary\"}],\"surface\":[{\"colorbar\":{\"outlinewidth\":0,\"ticks\":\"\"},\"colorscale\":[[0.0,\"#0d0887\"],[0.1111111111111111,\"#46039f\"],[0.2222222222222222,\"#7201a8\"],[0.3333333333333333,\"#9c179e\"],[0.4444444444444444,\"#bd3786\"],[0.5555555555555556,\"#d8576b\"],[0.6666666666666666,\"#ed7953\"],[0.7777777777777778,\"#fb9f3a\"],[0.8888888888888888,\"#fdca26\"],[1.0,\"#f0f921\"]],\"type\":\"surface\"}],\"table\":[{\"cells\":{\"fill\":{\"color\":\"#506784\"},\"line\":{\"color\":\"rgb(17,17,17)\"}},\"header\":{\"fill\":{\"color\":\"#2a3f5f\"},\"line\":{\"color\":\"rgb(17,17,17)\"}},\"type\":\"table\"}]},\"layout\":{\"annotationdefaults\":{\"arrowcolor\":\"#f2f5fa\",\"arrowhead\":0,\"arrowwidth\":1},\"autotypenumbers\":\"strict\",\"coloraxis\":{\"colorbar\":{\"outlinewidth\":0,\"ticks\":\"\"}},\"colorscale\":{\"diverging\":[[0,\"#8e0152\"],[0.1,\"#c51b7d\"],[0.2,\"#de77ae\"],[0.3,\"#f1b6da\"],[0.4,\"#fde0ef\"],[0.5,\"#f7f7f7\"],[0.6,\"#e6f5d0\"],[0.7,\"#b8e186\"],[0.8,\"#7fbc41\"],[0.9,\"#4d9221\"],[1,\"#276419\"]],\"sequential\":[[0.0,\"#0d0887\"],[0.1111111111111111,\"#46039f\"],[0.2222222222222222,\"#7201a8\"],[0.3333333333333333,\"#9c179e\"],[0.4444444444444444,\"#bd3786\"],[0.5555555555555556,\"#d8576b\"],[0.6666666666666666,\"#ed7953\"],[0.7777777777777778,\"#fb9f3a\"],[0.8888888888888888,\"#fdca26\"],[1.0,\"#f0f921\"]],\"sequentialminus\":[[0.0,\"#0d0887\"],[0.1111111111111111,\"#46039f\"],[0.2222222222222222,\"#7201a8\"],[0.3333333333333333,\"#9c179e\"],[0.4444444444444444,\"#bd3786\"],[0.5555555555555556,\"#d8576b\"],[0.6666666666666666,\"#ed7953\"],[0.7777777777777778,\"#fb9f3a\"],[0.8888888888888888,\"#fdca26\"],[1.0,\"#f0f921\"]]},\"colorway\":[\"#636efa\",\"#EF553B\",\"#00cc96\",\"#ab63fa\",\"#FFA15A\",\"#19d3f3\",\"#FF6692\",\"#B6E880\",\"#FF97FF\",\"#FECB52\"],\"font\":{\"color\":\"#f2f5fa\"},\"geo\":{\"bgcolor\":\"rgb(17,17,17)\",\"lakecolor\":\"rgb(17,17,17)\",\"landcolor\":\"rgb(17,17,17)\",\"showlakes\":true,\"showland\":true,\"subunitcolor\":\"#506784\"},\"hoverlabel\":{\"align\":\"left\"},\"hovermode\":\"closest\",\"mapbox\":{\"style\":\"dark\"},\"paper_bgcolor\":\"rgb(17,17,17)\",\"plot_bgcolor\":\"rgb(17,17,17)\",\"polar\":{\"angularaxis\":{\"gridcolor\":\"#506784\",\"linecolor\":\"#506784\",\"ticks\":\"\"},\"bgcolor\":\"rgb(17,17,17)\",\"radialaxis\":{\"gridcolor\":\"#506784\",\"linecolor\":\"#506784\",\"ticks\":\"\"}},\"scene\":{\"xaxis\":{\"backgroundcolor\":\"rgb(17,17,17)\",\"gridcolor\":\"#506784\",\"gridwidth\":2,\"linecolor\":\"#506784\",\"showbackground\":true,\"ticks\":\"\",\"zerolinecolor\":\"#C8D4E3\"},\"yaxis\":{\"backgroundcolor\":\"rgb(17,17,17)\",\"gridcolor\":\"#506784\",\"gridwidth\":2,\"linecolor\":\"#506784\",\"showbackground\":true,\"ticks\":\"\",\"zerolinecolor\":\"#C8D4E3\"},\"zaxis\":{\"backgroundcolor\":\"rgb(17,17,17)\",\"gridcolor\":\"#506784\",\"gridwidth\":2,\"linecolor\":\"#506784\",\"showbackground\":true,\"ticks\":\"\",\"zerolinecolor\":\"#C8D4E3\"}},\"shapedefaults\":{\"line\":{\"color\":\"#f2f5fa\"}},\"sliderdefaults\":{\"bgcolor\":\"#C8D4E3\",\"bordercolor\":\"rgb(17,17,17)\",\"borderwidth\":1,\"tickwidth\":0},\"ternary\":{\"aaxis\":{\"gridcolor\":\"#506784\",\"linecolor\":\"#506784\",\"ticks\":\"\"},\"baxis\":{\"gridcolor\":\"#506784\",\"linecolor\":\"#506784\",\"ticks\":\"\"},\"bgcolor\":\"rgb(17,17,17)\",\"caxis\":{\"gridcolor\":\"#506784\",\"linecolor\":\"#506784\",\"ticks\":\"\"}},\"title\":{\"x\":0.05},\"updatemenudefaults\":{\"bgcolor\":\"#506784\",\"borderwidth\":0},\"xaxis\":{\"automargin\":true,\"gridcolor\":\"#283442\",\"linecolor\":\"#506784\",\"ticks\":\"\",\"title\":{\"standoff\":15},\"zerolinecolor\":\"#283442\",\"zerolinewidth\":2},\"yaxis\":{\"automargin\":true,\"gridcolor\":\"#283442\",\"linecolor\":\"#506784\",\"ticks\":\"\",\"title\":{\"standoff\":15},\"zerolinecolor\":\"#283442\",\"zerolinewidth\":2}}},\"xaxis\":{\"anchor\":\"y\",\"domain\":[0.0,1.0],\"title\":{\"text\":\"Industry\"},\"categoryorder\":\"total descending\"},\"yaxis\":{\"anchor\":\"x\",\"domain\":[0.0,1.0],\"title\":{\"text\":\"sum of Laid_Off_Count\"}},\"legend\":{\"tracegroupgap\":0},\"title\":{\"text\":\"industry wise layoffs\"},\"barmode\":\"relative\"},                        {\"responsive\": true}                    ).then(function(){\n",
              "                            \n",
              "var gd = document.getElementById('c0112511-68d9-4dd1-8cda-16cbe17ad616');\n",
              "var x = new MutationObserver(function (mutations, observer) {{\n",
              "        var display = window.getComputedStyle(gd).display;\n",
              "        if (!display || display === 'none') {{\n",
              "            console.log([gd, 'removed!']);\n",
              "            Plotly.purge(gd);\n",
              "            observer.disconnect();\n",
              "        }}\n",
              "}});\n",
              "\n",
              "// Listen for the removal of the full notebook cells\n",
              "var notebookContainer = gd.closest('#notebook-container');\n",
              "if (notebookContainer) {{\n",
              "    x.observe(notebookContainer, {childList: true});\n",
              "}}\n",
              "\n",
              "// Listen for the clearing of the current output cell\n",
              "var outputEl = gd.closest('.output');\n",
              "if (outputEl) {{\n",
              "    x.observe(outputEl, {childList: true});\n",
              "}}\n",
              "\n",
              "                        })                };                            </script>        </div>\n",
              "</body>\n",
              "</html>"
            ]
          },
          "metadata": {}
        }
      ]
    },
    {
      "cell_type": "code",
      "source": [
        "### continent wise layoffs\n",
        "continent = pd.read_csv('continents2.csv')[['name','alpha-3','region']]\n",
        "continent = continent.set_index('name')\n",
        "\n",
        "continent = continent.to_dict()#['region']\n",
        "df['Country_iso_code'] = df['Country'].map(continent['alpha-3'])\n",
        "df['Continent'] = df['Country'].map(continent['region'])\n",
        "\n",
        "### continent wise layoff\n",
        "continentwise_layoff = px.histogram(df.dropna(subset=['Laid_Off_Count']), y='Continent', x='Laid_Off_Count', histfunc='sum', \\\n",
        "                   text_auto=True, title='Continent wise layoffs',color_discrete_sequence=px.colors.sequential.RdBu,template=\"plotly_dark\")\n",
        "continentwise_layoff.update_yaxes(categoryorder='total ascending')\n",
        "continentwise_layoff.show()\n",
        "\n",
        "all_graphs.append(continentwise_layoff)"
      ],
      "metadata": {
        "id": "U7JEfpxP9sPE",
        "colab": {
          "base_uri": "https://localhost:8080/",
          "height": 542
        },
        "outputId": "7ae9dd99-db00-4bb2-e3a1-ce9698c12bbb"
      },
      "execution_count": 48,
      "outputs": [
        {
          "output_type": "display_data",
          "data": {
            "text/html": [
              "<html>\n",
              "<head><meta charset=\"utf-8\" /></head>\n",
              "<body>\n",
              "    <div>            <script src=\"https://cdnjs.cloudflare.com/ajax/libs/mathjax/2.7.5/MathJax.js?config=TeX-AMS-MML_SVG\"></script><script type=\"text/javascript\">if (window.MathJax) {MathJax.Hub.Config({SVG: {font: \"STIX-Web\"}});}</script>                <script type=\"text/javascript\">window.PlotlyConfig = {MathJaxConfig: 'local'};</script>\n",
              "        <script src=\"https://cdn.plot.ly/plotly-2.8.3.min.js\"></script>                <div id=\"49efc7a9-bd98-4588-960b-9e51bdb7d653\" class=\"plotly-graph-div\" style=\"height:525px; width:100%;\"></div>            <script type=\"text/javascript\">                                    window.PLOTLYENV=window.PLOTLYENV || {};                                    if (document.getElementById(\"49efc7a9-bd98-4588-960b-9e51bdb7d653\")) {                    Plotly.newPlot(                        \"49efc7a9-bd98-4588-960b-9e51bdb7d653\",                        [{\"alignmentgroup\":\"True\",\"bingroup\":\"y\",\"histfunc\":\"sum\",\"hovertemplate\":\"sum of Laid_Off_Count=%{x}<br>Continent=%{y}<extra></extra>\",\"legendgroup\":\"\",\"marker\":{\"color\":\"rgb(103,0,31)\",\"pattern\":{\"shape\":\"\"}},\"name\":\"\",\"offsetgroup\":\"\",\"orientation\":\"h\",\"showlegend\":false,\"texttemplate\":\"%{value}\",\"x\":[75.0,20.0,8.0,6.0,16.0,130.0,4.0,34.0,50.0,84.0,120.0,784.0,45.0,18.0,30.0,38.0,375.0,150.0,91.0,20.0,20.0,15.0,13.0,400.0,130.0,80.0,87.0,20.0,56.0,300.0,100.0,78.0,75.0,52.0,30.0,12.0,10.0,50.0,250.0,50.0,47.0,200.0,41.0,23.0,13.0,44.0,100.0,451.0,406.0,250.0,227.0,200.0,175.0,130.0,127.0,100.0,78.0,30.0,60.0,47.0,47.0,40.0,30.0,20.0,10.0,75.0,250.0,250.0,10.0,17.0,400.0,250.0,51.0,80.0,70.0,31.0,120.0,30.0,30.0,25.0,20.0,9.0,30.0,349.0,210.0,194.0,108.0,65.0,50.0,20.0,40.0,5.0,17.0,28.0,45.0,46.0,100.0,51.0,52.0,24.0,50.0,20.0,200.0,17.0,18.0,200.0,9.0,15.0,59.0,65.0,70.0,90.0,100.0,154.0,40.0,196.0,240.0,700.0,100.0,39.0,60.0,35.0,35.0,5.0,7.0,23.0,26.0,30.0,30.0,6.0,35.0,60.0,75.0,100.0,120.0,167.0,147.0,300.0,467.0,34.0,140.0,24.0,18.0,19.0,10.0,12.0,14.0,17.0,5.0,50.0,40.0,100.0,77.0,26.0,24.0,100.0,15.0,23.0,60.0,10.0,1300.0,400.0,340.0,100.0,94.0,87.0,236.0,60.0,65.0,30.0,50.0,53.0,46.0,25.0,200.0,89.0,500.0,80.0,48.0,40.0,30.0,21.0,92.0,17.0,18.0,86.0,4.0,11.0,1000.0,165.0,136.0,90.0,90.0,40.0,150.0,25.0,14.0,8.0,36.0,201.0,35.0,28.0,30.0,16.0,6.0,5.0,20.0,17.0,50.0,70.0,100.0,2800.0,45.0,235.0,131.0,58.0,21.0,10.0,15.0,600.0,200.0,200.0,200.0,161.0,100.0,15.0,14.0,13.0,40.0,130.0,65.0,60.0,44.0,200.0,140.0,88.0,47.0,40.0,120.0,30.0,13.0,35.0,300.0,91.0,90.0,90.0,28.0,23.0,10.0,33.0,800.0,460.0,155.0,78.0,500.0,38.0,30.0,13.0,10.0,40.0,19.0,10.0,55.0,1000.0,80.0,100.0,87.0,6.0,70.0,4.0,6.0,10.0,15.0,18.0,19.0,36.0,57.0,500.0,30.0,250.0,20.0,260.0,20.0,27.0,35.0,80.0,367.0,391.0,900.0,300.0,982.0,160.0,80.0,24.0,124.0,81.0,100.0,150.0,95.0,80.0,110.0,35.0,26.0,70.0,50.0,120.0,800.0,536.0,400.0,63.0,60.0,11.0,62.0,1900.0,900.0,135.0,40.0,25.0,31.0,3700.0,130.0,100.0,50.0,50.0,28.0,55.0,60.0,62.0,300.0,500.0,9.0,60.0,28.0,16.0,36.0,65.0,73.0,1300.0,51.0,25.0,19.0,669.0,17.0,150.0,80.0,70.0,30.0,35.0,16.0,500.0,520.0,250.0,3000.0,1100.0,100.0,1500.0,57.0,45.0,10.0,69.0,450.0,39.0,101.0,112.0,221.0,300.0,1400.0,400.0,18.0,70.0,21.0,200.0,50.0,137.0,600.0,62.0,150.0,20.0,36.0,200.0,219.0,270.0,32.0,62.0,1400.0,350.0,24.0,12.0,12.0,14.0,40.0,100.0,22.0,40.0,70.0,120.0,39.0,50.0,46.0,18.0,26.0,10.0,3.0,120.0,63.0,225.0,44.0,70.0,360.0,1500.0,40.0,15.0,200.0,715.0,90.0,430.0,6.0,174.0,451.0,20.0,61.0,100.0,130.0,400.0,17.0,56.0,5.0,12.0,18.0,85.0,100.0,40.0,140.0,63.0,300.0,60.0,120.0,22.0,960.0,64.0,350.0,75.0,180.0,87.0,4375.0,56.0,75.0,150.0,20.0,250.0,30.0,8.0,30.0,1000.0,350.0,22.0,250.0,30.0,240.0,20.0,47.0,250.0,90.0,8.0,82.0,20.0,30.0,30.0,18.0,154.0,5.0,600.0,54.0,120.0,78.0,1800.0,315.0,21.0,1877.0,180.0,800.0,20.0,1800.0,45.0,87.0,13.0,80.0,243.0,200.0,200.0,47.0,160.0,36.0,65.0,2434.0,80.0,1800.0,37.0,30.0,41.0,120.0,22.0,2000.0,70.0,900.0,300.0,330.0,80.0,100.0,57.0,2800.0,138.0,119.0,100.0,120.0,111.0,150.0,30.0,190.0,500.0,100.0,100.0,3000.0,115.0,300.0,150.0,100.0,180.0,100.0,450.0,59.0,350.0,20.0,23.0,75.0,450.0,70.0,1000.0,20.0,150.0,100.0,44.0,10.0,159.0,160.0,200.0,52.0,260.0,180.0,22.0,29.0,340.0,50.0,150.0,25.0,495.0,500.0,25.0,40.0,45.0,87.0,97.0,300.0,72.0,90.0,200.0,62.0,750.0,270.0,200.0,310.0,2500.0,30.0,70.0,32.0,150.0,22.0,24.0,400.0,100.0,90.0,100.0,150.0,424.0,600.0,130.0,70.0,87.0,600.0,30.0,60.0,65.0,80.0,83.0,700.0,40.0,200.0,300.0,75.0,300.0,240.0,50.0,30.0,45.0,50.0,80.0,80.0,200.0,29.0,40.0,145.0,400.0,100.0,100.0,12.0,30.0,44.0,50.0,250.0,500.0,65.0,100.0,34.0,100.0,30.0,31.0,90.0,25.0,250.0,170.0,170.0,140.0,100.0,100.0,30.0,29.0,25.0,59.0,60.0,23.0,21.0,40.0,50.0,60.0,180.0,750.0,750.0,138.0,150.0,40.0,130.0,50.0,150.0,150.0,250.0,950.0,330.0,200.0,90.0,80.0,31.0,26.0,40.0,70.0,260.0,20.0,45.0,60.0,100.0,250.0,250.0,56.0,33.0,24.0,30.0,50.0,75.0,450.0,470.0,1100.0,250.0,159.0,150.0,110.0,60.0,23.0,14.0,10.0,15.0,40.0,45.0,50.0,16.0,69.0,150.0,150.0,191.0,9.0,30.0,30.0,80.0,100.0,101.0,600.0,52.0,40.0,340.0,24.0,23.0,30.0,35.0,35.0,50.0,55.0,70.0,90.0,120.0,22.0,15.0,70.0,8.0,300.0,270.0,90.0,40.0,41.0,43.0,27.0,70.0,170.0,180.0,210.0,300.0,300.0,300.0,120.0,110.0,80.0,50.0,18.0,30.0,350.0,200.0,85.0,80.0,80.0,76.0,60.0,40.0,16.0,13.0,18.0,400.0,170.0,40.0,30.0,30.0,14.0,12.0,20.0,85.0,58.0,15.0,52.0,150.0,540.0,29.0,80.0,18.0,27.0,384.0,120.0,100.0,80.0,30.0,27.0,20.0,13.0,31.0,30.0,35.0,50.0,100.0,30.0,40.0,150.0,150.0,1500.0,156.0,1000.0,24.0,63.0,242.0,150.0,1500.0,100.0,45.0,300.0,262.0,120.0,100.0,100.0,12.0,7.0,70.0,85.0,54.0,42.0,39.0,23.0,24.0,63.0,100.0,94.0,68.0,30.0,28.0,38.0,1000.0,28.0,450.0,390.0,200.0,75.0,60.0,13.0,57.0,15.0,60.0,30.0,23.0,11.0,60.0,63.0,95.0,130.0,140.0,150.0,50.0,45.0,28.0,15.0,120.0,25.0,80.0,60.0,1000.0,90.0,40.0,23.0,20.0,38.0,30.0,30.0,39.0,840.0,136.0,60.0,60.0,45.0,22.0,23.0,22.0,40.0,43.0,50.0,125.0,1000.0,75.0,16.0,58.0,713.0,115.0,100.0,80.0,60.0,90.0,40.0,30.0,23.0,19.0,54.0,149.0,47.0,40.0,13.0,250.0,216.0,80.0,200.0,100.0,80.0,70.0,73.0,50.0,50.0,140.0,31.0,20.0,36.0,63.0,337.0,500.0,500.0,100.0,60.0,50.0,400.0,800.0,270.0,48.0,130.0,12.0,40.0,60.0,30.0,47.0,7.0,30.0,54.0,60.0,90.0,175.0,784.0,11.0,16.0,220.0,250.0,5.0,12.0,80.0,125.0,83.0,50.0,54.0,52.0,74.0,35.0,110.0,40.0,50.0,870.0,13.0,55.0,100.0,29.0,31.0,50.0,138.0,180.0,15.0,140.0,40.0,25.0,80.0,20.0,24.0,95.0,300.0,30.0,38.0,81.0,1280.0,140.0,100.0,70.0,45.0,30.0,29.0,26.0,40.0,12.0,55.0,70.0,90.0,100.0,23.0,40.0,30.0,150.0,60.0,60.0,50.0,45.0,27.0,49.0,23.0,55.0,200.0,350.0,58.0,5.0,11.0,25.0,60.0,100.0,160.0,80.0,100.0,800.0,59.0,30.0,50.0,35.0,70.0,193.0,40.0,190.0,29.0,200.0,271.0,109.0,78.0,75.0,100.0,100.0,110.0,24.0,26.0,70.0,180.0,40.0,671.0,40.0,125.0,78.0,60.0,200.0,40.0,50.0,50.0,51.0,110.0,500.0,2000.0,120.0,85.0,611.0,180.0,67.0,96.0,35.0,55.0,80.0,100.0,136.0,200.0,500.0,150.0,2500.0,130.0,150.0,65.0,90.0,200.0,378.0,24.0,50.0,50.0,84.0,56.0,250.0,32.0,20.0,20.0,23.0,64.0,227.0,120.0,100.0,30.0,43.0,23.0,62.0,400.0,4000.0,100.0,50.0,198.0,17.0,30.0,150.0,400.0,300.0,173.0,94.0,200.0,13.0,84.0,210.0,32.0,100.0,150.0,300.0,60.0,23.0,25.0,30.0,100.0,259.0,226.0,200.0,140.0,70.0,70.0,50.0,24.0,10.0,70.0,550.0,156.0,142.0,134.0,50.0,100.0,10.0,100.0,1000.0,700.0,150.0,100.0,60.0,200.0,3700.0,350.0,200.0,70.0,59.0,25.0,110.0,1000.0,350.0,350.0,190.0,65.0,200.0,80.0,130.0,137.0,11000.0,300.0,862.0,144.0,36.0,25.0,25.0,35.0,1300.0,400.0,100.0,65.0,60.0,40.0,45.0,20.0,60.0,100.0,124.0,500.0,500.0,300.0,170.0,143.0,59.0,51.0,40.0,30.0,20.0,90.0,241.0,180.0,170.0,120.0,100.0,71.0,60.0,50.0,50.0,45.0,31.0,10000.0,4100.0,211.0,120.0,90.0,76.0,200.0,59.0,70.0,200.0,180.0,113.0,72.0,58.0,15.0,34.0,9.0,37.0,105.0,1500.0,300.0,57.0,100.0,93.0,80.0,160.0,20.0,100.0,27.0,70.0,150.0,90.0,500.0,300.0,200.0,67.0,25.0,33.0,100.0,50.0,10.0,70.0,1250.0,1100.0,158.0,134.0,130.0,60.0,45.0,40.0,30.0,53.0,88.0,110.0,100.0,48.0,37.0,47.0,100.0,100.0,150.0,600.0,90.0,65.0,30.0,50.0,515.0,201.0,180.0,175.0,100.0,32.0,16.0,20.0,13.0,385.0,312.0,260.0,237.0,150.0,130.0,235.0,95.0,40.0,30.0,27.0,120.0,60.0,254.0,250.0,198.0,95.0,80.0,43.0,160.0,25.0,30.0,80.0,150.0,113.0,85.0,62.0,600.0,20.0,43.0,20.0,329.0,400.0,35.0,46.0,78.0,95.0,160.0,200.0,100.0,72.0,40.0,50.0,60.0,80.0,90.0,180.0,24.0,30.0,18.0,26.0,65.0,350.0,153.0,50.0,93.0,99.0,150.0,700.0,60.0,76.0,245.0,8000.0,76.0,75.0,8000.0,20.0,40.0,388.0,200.0,104.0,60.0,40.0,30.0,30.0,30.0,25.0,30.0,275.0,40.0,200.0,43.0,50.0,315.0,76.0,950.0,450.0,340.0,120.0,100.0,100.0,60.0,40.0,55.0,40.0,60.0,100.0,640.0,270.0,250.0,123.0,69.0,80.0,40.0,33.0,41.0,225.0,120.0,110.0,104.0,100.0,64.0,115.0,46.0,55.0,111.0,22.0,40.0,140.0,200.0,900.0,120.0,40.0,100.0,500.0,500.0,75.0,50.0,300.0,284.0,206.0,150.0,110.0,100.0,50.0,142.0,30.0,44.0,109.0,137.0,140.0,450.0,275.0,300.0,10000.0,100.0,155.0,100.0,100.0,31.0,70.0,20.0,30.0,1100.0,300.0,115.0,100.0,62.0,46.0,12000.0,1750.0,380.0,92.0,200.0,130.0,47.0,30.0,22.0,31.0,600.0,150.0,50.0,40.0,30.0,20.0,30.0,40.0,1300.0,245.0,50.0,21.0,11.0,16.0,330.0,3900.0,1300.0,360.0,250.0,130.0,130.0,80.0,3000.0,221.0,138.0,100.0,100.0,100.0,29.0,21.0,19.0,73.0,19.0,60.0,343.0,500.0,250.0,1500.0,6000.0,800.0,156.0,65.0,140.0,2000.0,960.0,525.0,500.0,365.0,200.0,150.0,100.0,60.0,54.0,19.0,325.0,150.0,121.0,90.0,56.0,44.0,140.0,17.0,24.0,1500.0,300.0,250.0,127.0,119.0,100.0,125.0,80.0,40.0,38.0,100.0,89.0,90.0,20.0,70.0,20.0,50.0,59.0,300.0,6650.0],\"xaxis\":\"x\",\"y\":[\"Americas\",\"Americas\",\"Americas\",\"Americas\",\"Americas\",\"Americas\",\"Americas\",\"Americas\",\"Americas\",\"Americas\",\"Asia\",\"Americas\",\"Americas\",\"Americas\",\"Americas\",\"Americas\",\"Americas\",\"Americas\",\"Americas\",\"Americas\",\"Americas\",\"Americas\",\"Americas\",\"Americas\",\"Americas\",\"Americas\",\"Americas\",\"Americas\",\"Americas\",\"Americas\",\"Americas\",\"Americas\",\"Americas\",\"Americas\",\"Americas\",\"Americas\",\"Americas\",\"Americas\",\"Americas\",\"Americas\",\"Americas\",\"Asia\",\"Americas\",\"Americas\",\"Americas\",\"Americas\",\"Americas\",\"Europe\",\"Americas\",\"Asia\",\"Americas\",\"Americas\",\"Americas\",\"Americas\",\"Americas\",\"Americas\",\"Americas\",\"Americas\",\"Americas\",\"Americas\",\"Americas\",\"Americas\",\"Americas\",\"Americas\",\"Americas\",\"Americas\",\"Asia\",\"Americas\",\"Americas\",\"Americas\",\"Americas\",\"Americas\",\"Americas\",\"Asia\",\"Asia\",\"Americas\",\"Americas\",\"Americas\",\"Europe\",\"Americas\",\"Americas\",\"Americas\",\"Americas\",\"Americas\",\"Americas\",\"Americas\",\"Americas\",\"Americas\",\"Americas\",\"Americas\",\"Americas\",\"Americas\",\"Americas\",\"Americas\",\"Asia\",\"Americas\",\"Americas\",\"Europe\",\"Americas\",\"Asia\",\"Americas\",\"Americas\",\"Americas\",\"Americas\",\"Americas\",\"Asia\",\"Americas\",\"Americas\",\"Americas\",\"Americas\",\"Americas\",\"Americas\",\"Europe\",\"Americas\",\"Asia\",\"Americas\",\"Americas\",\"Americas\",\"Europe\",\"Americas\",\"Americas\",\"Americas\",\"Americas\",\"Americas\",\"Americas\",\"Americas\",\"Americas\",\"Americas\",\"Americas\",\"Asia\",\"Americas\",\"Americas\",\"Americas\",\"Asia\",\"Americas\",\"Americas\",\"Americas\",\"Americas\",\"Americas\",\"Americas\",\"Americas\",\"Americas\",\"Americas\",\"Americas\",\"Americas\",\"Americas\",\"Americas\",\"Americas\",\"Americas\",\"Asia\",\"Americas\",\"Americas\",\"Americas\",\"Americas\",\"Americas\",\"Americas\",\"Americas\",\"Americas\",\"Americas\",\"Americas\",\"Americas\",\"Americas\",\"Americas\",\"Americas\",\"Americas\",\"Americas\",\"Americas\",\"Americas\",\"Americas\",\"Americas\",\"Americas\",\"Americas\",\"Americas\",\"Americas\",\"Asia\",\"Americas\",\"Americas\",\"Europe\",\"Americas\",\"Americas\",\"Americas\",\"Americas\",\"Americas\",\"Americas\",\"Americas\",\"Americas\",\"Americas\",\"Americas\",\"Americas\",\"Americas\",\"Americas\",\"Americas\",\"Americas\",\"Americas\",\"Americas\",\"Americas\",\"Americas\",\"Europe\",\"Americas\",\"Americas\",\"Americas\",\"Americas\",\"Americas\",\"Americas\",\"Americas\",\"Americas\",\"Americas\",\"Americas\",\"Americas\",\"Americas\",\"Americas\",\"Americas\",\"Americas\",\"Americas\",\"Americas\",\"Americas\",\"Americas\",\"Americas\",\"Americas\",\"Americas\",\"Americas\",\"Asia\",\"Americas\",\"Americas\",\"Asia\",\"Americas\",\"Americas\",\"Americas\",\"Americas\",\"Americas\",\"Asia\",\"Asia\",\"Asia\",\"Asia\",\"Americas\",\"Americas\",\"Americas\",\"Europe\",\"Americas\",\"Americas\",\"Americas\",\"Americas\",\"Asia\",\"Americas\",\"Americas\",\"Americas\",\"Americas\",\"Americas\",\"Americas\",\"Americas\",\"Asia\",\"Americas\",\"Americas\",\"Americas\",\"Asia\",\"Americas\",\"Americas\",\"Americas\",\"Asia\",\"Americas\",\"Americas\",\"Americas\",\"Americas\",\"Americas\",\"Americas\",\"Americas\",\"Americas\",\"Americas\",\"Americas\",\"Americas\",\"Americas\",\"Americas\",\"Europe\",\"Americas\",\"Americas\",\"Americas\",\"Americas\",\"Americas\",\"Americas\",\"Asia\",\"Americas\",\"Americas\",\"Americas\",\"Americas\",\"Americas\",\"Americas\",\"Europe\",\"Africa\",\"Americas\",\"Americas\",\"Americas\",\"Americas\",\"Americas\",\"Americas\",\"Americas\",\"Americas\",\"Americas\",\"Europe\",\"Europe\",\"Americas\",\"Americas\",\"Europe\",\"Americas\",\"Americas\",\"Americas\",\"Asia\",\"Asia\",\"Asia\",\"Asia\",\"Europe\",\"Oceania\",\"Americas\",\"Americas\",\"Americas\",\"Americas\",\"Americas\",\"Americas\",\"Americas\",\"Europe\",\"Americas\",\"Americas\",\"Americas\",\"Americas\",\"Americas\",\"Americas\",\"Americas\",\"Americas\",\"Europe\",\"Americas\",\"Americas\",\"Americas\",\"Europe\",\"Americas\",\"Americas\",\"Americas\",\"Americas\",\"Americas\",\"Americas\",\"Americas\",\"Americas\",\"Americas\",\"Americas\",\"Americas\",\"Americas\",\"Americas\",\"Americas\",\"Americas\",\"Americas\",\"Americas\",\"Asia\",\"Asia\",\"Asia\",\"Americas\",\"Asia\",\"Asia\",\"Asia\",\"Americas\",\"Americas\",\"Europe\",\"Europe\",\"Asia\",\"Americas\",\"Asia\",\"Americas\",\"Americas\",\"Americas\",\"Asia\",\"Americas\",\"Americas\",\"Asia\",\"Europe\",\"Asia\",\"Americas\",\"Americas\",\"Asia\",\"Americas\",\"Americas\",\"Americas\",\"Oceania\",\"Americas\",\"Americas\",\"Asia\",\"Americas\",\"Americas\",\"Americas\",\"Asia\",\"Americas\",\"Americas\",\"Americas\",\"Americas\",\"Americas\",\"Europe\",\"Americas\",\"Americas\",\"Americas\",\"Europe\",\"Americas\",\"Americas\",\"Americas\",\"Americas\",\"Americas\",\"Americas\",\"Americas\",\"Europe\",\"Americas\",\"Europe\",\"Americas\",\"Americas\",\"Asia\",\"Asia\",\"Asia\",\"Americas\",\"Europe\",\"Americas\",\"Americas\",\"Asia\",\"Americas\",\"Americas\",\"Americas\",\"Americas\",\"Americas\",\"Europe\",\"Asia\",\"Americas\",\"Americas\",\"Americas\",\"Americas\",\"Americas\",\"Americas\",\"Americas\",\"Asia\",\"Asia\",\"Asia\",\"Americas\",\"Europe\",\"Americas\",\"Asia\",\"Americas\",\"Americas\",\"Americas\",\"Asia\",\"Europe\",\"Americas\",\"Americas\",\"Europe\",\"Americas\",\"Americas\",\"Americas\",\"Asia\",\"Americas\",\"Americas\",\"Europe\",\"Oceania\",\"Americas\",\"Asia\",\"Asia\",\"Americas\",\"Americas\",\"Americas\",\"Europe\",\"Americas\",\"Asia\",\"Europe\",\"Americas\",\"Americas\",\"Americas\",\"Americas\",\"Americas\",\"Americas\",\"Americas\",\"Americas\",\"Asia\",\"Americas\",\"Americas\",\"Americas\",\"Asia\",\"Americas\",\"Asia\",\"Americas\",\"Americas\",\"Americas\",\"Europe\",\"Asia\",\"Americas\",\"Europe\",\"Americas\",\"Americas\",\"Americas\",\"Asia\",\"Asia\",\"Americas\",\"Americas\",\"Americas\",\"Americas\",\"Americas\",\"Asia\",\"Asia\",\"Americas\",\"Americas\",\"Americas\",\"Americas\",\"Americas\",\"Americas\",\"Americas\",\"Americas\",\"Europe\",\"Americas\",\"Americas\",\"Americas\",\"Americas\",\"Americas\",\"Americas\",\"Americas\",\"Americas\",\"Europe\",\"Americas\",\"Asia\",\"Asia\",\"Americas\",\"Asia\",\"Americas\",\"Americas\",\"Americas\",\"Americas\",\"Asia\",\"Americas\",\"Europe\",\"Asia\",\"Americas\",\"Americas\",\"Europe\",\"Asia\",\"Asia\",\"Americas\",\"Africa\",\"Americas\",\"Americas\",\"Asia\",\"Americas\",\"Asia\",\"Americas\",\"Americas\",\"Americas\",\"Americas\",\"Americas\",\"Americas\",\"Americas\",\"Americas\",\"Asia\",\"Americas\",\"Americas\",\"Americas\",\"Americas\",\"Americas\",\"Americas\",\"Americas\",\"Asia\",\"Americas\",\"Americas\",\"Americas\",\"Americas\",\"Americas\",\"Oceania\",\"Americas\",\"Americas\",\"Asia\",\"Americas\",\"Americas\",\"Americas\",\"Europe\",\"Americas\",\"Americas\",\"Americas\",\"Americas\",\"Americas\",\"Americas\",\"Americas\",\"Americas\",\"Europe\",\"Americas\",\"Americas\",\"Europe\",\"Americas\",\"Asia\",\"Asia\",\"Americas\",\"Americas\",\"Americas\",\"Asia\",\"Americas\",\"Americas\",\"Asia\",\"Americas\",\"Americas\",\"Europe\",\"Americas\",\"Asia\",\"Europe\",\"Americas\",\"Americas\",\"Americas\",\"Europe\",\"Americas\",\"Europe\",\"Europe\",\"Europe\",\"Americas\",\"Americas\",\"Europe\",\"Asia\",\"Asia\",\"Asia\",\"Americas\",\"Asia\",\"Americas\",\"Asia\",\"Americas\",\"Americas\",\"Asia\",\"Europe\",\"Europe\",\"Asia\",\"Americas\",\"Americas\",\"Europe\",\"Americas\",\"Americas\",\"Americas\",\"Americas\",\"Americas\",\"Americas\",\"Asia\",\"Oceania\",\"Americas\",\"Americas\",\"Americas\",\"Americas\",\"Americas\",\"Americas\",\"Americas\",\"Americas\",\"Asia\",\"Americas\",\"Americas\",\"Asia\",\"Europe\",\"Europe\",\"Americas\",\"Asia\",\"Americas\",\"Americas\",\"Asia\",\"Americas\",\"Americas\",\"Americas\",\"Americas\",\"Americas\",\"Europe\",\"Americas\",\"Americas\",\"Asia\",\"Americas\",\"Americas\",\"Europe\",\"Asia\",\"Americas\",\"Europe\",\"Americas\",\"Europe\",\"Asia\",\"Americas\",\"Americas\",\"Americas\",\"Americas\",\"Americas\",\"Asia\",\"Americas\",\"Americas\",\"Americas\",\"Americas\",\"Europe\",\"Americas\",\"Americas\",\"Americas\",\"Asia\",\"Americas\",\"Asia\",\"Americas\",\"Europe\",\"Asia\",\"Americas\",\"Americas\",\"Americas\",\"Americas\",\"Asia\",\"Asia\",\"Asia\",\"Asia\",\"Oceania\",\"Americas\",\"Asia\",\"Asia\",\"Americas\",\"Asia\",\"Americas\",\"Americas\",\"Americas\",\"Americas\",\"Americas\",\"Americas\",\"Americas\",\"Americas\",\"Americas\",\"Americas\",\"Americas\",\"Americas\",\"Americas\",\"Americas\",\"Americas\",\"Americas\",\"Americas\",\"Americas\",\"Europe\",\"Americas\",\"Americas\",\"Americas\",\"Americas\",\"Americas\",\"Oceania\",\"Americas\",\"Asia\",\"Americas\",\"Americas\",\"Asia\",\"Asia\",\"Americas\",\"Americas\",\"Americas\",\"Asia\",\"Oceania\",\"Asia\",\"Asia\",\"Americas\",\"Americas\",\"Americas\",\"Americas\",\"Americas\",\"Americas\",\"Asia\",\"Americas\",\"Americas\",\"Europe\",\"Americas\",\"Asia\",\"Americas\",\"Americas\",\"Americas\",\"Europe\",\"Americas\",\"Americas\",\"Americas\",\"Americas\",\"Americas\",\"Americas\",\"Americas\",\"Europe\",\"Europe\",\"Asia\",\"Europe\",\"Oceania\",\"Americas\",\"Americas\",\"Asia\",\"Americas\",\"Asia\",\"Americas\",\"Americas\",\"Asia\",\"Americas\",\"Americas\",\"Americas\",\"Americas\",\"Americas\",\"Americas\",\"Americas\",\"Americas\",\"Americas\",\"Asia\",\"Americas\",\"Americas\",\"Americas\",\"Americas\",\"Europe\",\"Asia\",\"Americas\",\"Europe\",\"Americas\",\"Africa\",\"Americas\",\"Americas\",\"Europe\",\"Americas\",\"Americas\",\"Americas\",\"Americas\",\"Europe\",\"Americas\",\"Americas\",\"Americas\",\"Americas\",\"Americas\",\"Americas\",\"Asia\",\"Americas\",\"Americas\",\"Americas\",\"Europe\",\"Americas\",\"Americas\",\"Europe\",\"Americas\",\"Europe\",\"Americas\",\"Americas\",\"Americas\",\"Americas\",\"Americas\",\"Americas\",\"Americas\",\"Asia\",\"Americas\",\"Americas\",\"Americas\",\"Americas\",\"Americas\",\"Americas\",\"Americas\",\"Europe\",\"Americas\",\"Americas\",\"Americas\",\"Americas\",\"Asia\",\"Americas\",\"Americas\",\"Asia\",\"Americas\",\"Europe\",\"Oceania\",\"Americas\",\"Oceania\",\"Americas\",\"Asia\",\"Americas\",\"Americas\",\"Americas\",\"Americas\",\"Americas\",\"Americas\",\"Oceania\",\"Americas\",\"Americas\",\"Americas\",\"Americas\",\"Americas\",\"Americas\",\"Americas\",\"Asia\",\"Oceania\",\"Asia\",\"Americas\",\"Americas\",\"Americas\",\"Asia\",\"Americas\",\"Americas\",\"Americas\",\"Americas\",\"Africa\",\"Americas\",\"Americas\",\"Africa\",\"Americas\",\"Americas\",\"Americas\",\"Americas\",\"Americas\",\"Americas\",\"Asia\",\"Americas\",\"Americas\",\"Americas\",\"Americas\",\"Americas\",\"Americas\",\"Americas\",\"Americas\",\"Americas\",\"Asia\",\"Americas\",\"Americas\",\"Americas\",\"Americas\",\"Americas\",\"Asia\",\"Americas\",\"Oceania\",\"Americas\",\"Americas\",\"Americas\",\"Americas\",\"Americas\",\"Americas\",\"Americas\",\"Americas\",\"Europe\",\"Americas\",\"Oceania\",\"Americas\",\"Africa\",\"Americas\",\"Americas\",\"Americas\",\"Americas\",\"Asia\",\"Americas\",\"Americas\",\"Americas\",\"Americas\",\"Asia\",\"Americas\",\"Americas\",\"Americas\",\"Americas\",\"Americas\",\"Americas\",\"Oceania\",\"Americas\",\"Americas\",\"Asia\",\"Americas\",\"Americas\",\"Americas\",\"Americas\",\"Asia\",\"Americas\",\"Americas\",\"Americas\",\"Americas\",\"Europe\",\"Americas\",\"Americas\",\"Americas\",\"Americas\",\"Americas\",\"Americas\",\"Americas\",\"Americas\",\"Asia\",\"Americas\",\"Europe\",\"Americas\",\"Americas\",\"Americas\",\"Europe\",\"Americas\",\"Americas\",\"Americas\",\"Americas\",\"Europe\",\"Asia\",\"Europe\",\"Europe\",\"Americas\",\"Americas\",\"Americas\",\"Africa\",\"Americas\",\"Asia\",\"Europe\",\"Europe\",\"Europe\",\"Asia\",\"Americas\",\"Americas\",\"Americas\",\"Americas\",\"Asia\",\"Europe\",\"Americas\",\"Oceania\",\"Americas\",\"Asia\",\"Americas\",\"Americas\",\"Europe\",\"Americas\",\"Americas\",\"Americas\",\"Americas\",\"Europe\",\"Americas\",\"Europe\",\"Americas\",\"Europe\",\"Americas\",\"Americas\",\"Asia\",\"Americas\",\"Asia\",\"Americas\",\"Americas\",\"Americas\",\"Americas\",\"Americas\",\"Europe\",\"Americas\",\"Americas\",\"Americas\",\"Europe\",\"Americas\",\"Americas\",\"Americas\",\"Americas\",\"Europe\",\"Americas\",\"Asia\",\"Americas\",\"Americas\",\"Americas\",\"Americas\",\"Americas\",\"Americas\",\"Americas\",\"Asia\",\"Americas\",\"Americas\",\"Americas\",\"Americas\",\"Americas\",\"Americas\",\"Europe\",\"Americas\",\"Europe\",\"Americas\",\"Americas\",\"Americas\",\"Americas\",\"Americas\",\"Asia\",\"Asia\",\"Europe\",\"Americas\",\"Americas\",\"Americas\",\"Americas\",\"Americas\",\"Europe\",\"Americas\",\"Americas\",\"Americas\",\"Americas\",\"Americas\",\"Europe\",\"Americas\",\"Americas\",\"Americas\",\"Americas\",\"Americas\",\"Americas\",\"Asia\",\"Europe\",\"Asia\",\"Asia\",\"Americas\",\"Europe\",\"Europe\",\"Americas\",\"Americas\",\"Asia\",\"Americas\",\"Americas\",\"Americas\",\"Americas\",\"Americas\",\"Americas\",\"Americas\",\"Americas\",\"Americas\",\"Americas\",\"Americas\",\"Americas\",\"Americas\",\"Europe\",\"Americas\",\"Asia\",\"Americas\",\"Americas\",\"Americas\",\"Americas\",\"Americas\",\"Americas\",\"Americas\",\"Europe\",\"Europe\",\"Americas\",\"Americas\",\"Americas\",\"Europe\",\"Americas\",\"Americas\",\"Americas\",\"Americas\",\"Americas\",\"Europe\",\"Americas\",\"Asia\",\"Americas\",\"Americas\",\"Americas\",\"Europe\",\"Americas\",\"Americas\",\"Americas\",\"Asia\",\"Europe\",\"Asia\",\"Americas\",\"Europe\",\"Americas\",\"Americas\",\"Americas\",\"Asia\",\"Americas\",\"Americas\",\"Americas\",\"Americas\",\"Americas\",\"Americas\",\"Americas\",\"Americas\",\"Americas\",\"Americas\",\"Asia\",\"Asia\",\"Americas\",\"Americas\",\"Asia\",\"Americas\",\"Americas\",\"Americas\",\"Americas\",\"Americas\",\"Americas\",\"Americas\",\"Americas\",\"Americas\",\"Americas\",\"Americas\",\"Americas\",\"Americas\",\"Americas\",\"Europe\",\"Americas\",\"Americas\",\"Americas\",\"Africa\",\"Africa\",\"Americas\",\"Americas\",\"Americas\",\"Americas\",\"Oceania\",\"Americas\",\"Americas\",\"Americas\",\"Europe\",\"Americas\",\"Europe\",\"Americas\",\"Americas\",\"Americas\",\"Africa\",\"Americas\",\"Americas\",\"Americas\",\"Europe\",\"Americas\",\"Americas\",\"Americas\",\"Americas\",\"Americas\",\"Europe\",\"Americas\",\"Americas\",\"Americas\",\"Europe\",\"Americas\",\"Americas\",\"Americas\",\"Americas\",\"Europe\",\"Asia\",\"Americas\",\"Asia\",\"Asia\",\"Africa\",\"Americas\",\"Africa\",\"Europe\",\"Asia\",\"Americas\",\"Europe\",\"Americas\",\"Asia\",\"Asia\",\"Europe\",\"Americas\",\"Americas\",\"Europe\",\"Oceania\",\"Europe\",\"Americas\",\"Americas\",\"Americas\",\"Asia\",\"Americas\",\"Americas\",\"Asia\",\"Americas\",\"Europe\",\"Americas\",\"Americas\",\"Asia\",\"Americas\",\"Americas\",\"Americas\",\"Americas\",\"Asia\",\"Asia\",\"Asia\",\"Asia\",\"Oceania\",\"Americas\",\"Asia\",\"Americas\",\"Americas\",\"Americas\",\"Americas\",\"Americas\",\"Americas\",\"Americas\",\"Europe\",\"Asia\",\"Americas\",\"Asia\",\"Americas\",\"Americas\",\"Americas\",\"Americas\",\"Americas\",\"Americas\",\"Americas\",\"Americas\",\"Americas\",\"Americas\",\"Americas\",\"Americas\",\"Americas\",\"Asia\",\"Asia\",\"Americas\",\"Asia\",\"Americas\",\"Americas\",\"Americas\",\"Americas\",\"Europe\",\"Europe\",\"Americas\",\"Europe\",\"Europe\",\"Asia\",\"Americas\",\"Americas\",\"Europe\",\"Americas\",\"Americas\",\"Americas\",\"Americas\",\"Americas\",\"Americas\",\"Americas\",\"Asia\",\"Europe\",\"Americas\",\"Americas\",\"Americas\",\"Americas\",\"Americas\",\"Americas\",\"Americas\",\"Americas\",\"Europe\",\"Americas\",\"Americas\",\"Asia\",\"Americas\",\"Americas\",\"Europe\",\"Europe\",\"Oceania\",\"Europe\",\"Americas\",\"Asia\",\"Americas\",\"Americas\",\"Americas\",\"Americas\",\"Americas\",\"Americas\",\"Americas\",\"Americas\",\"Americas\",\"Americas\",\"Americas\",\"Americas\",\"Asia\",\"Americas\",\"Americas\",\"Asia\",\"Asia\",\"Asia\",\"Asia\",\"Asia\",\"Americas\",\"Americas\",\"Europe\",\"Americas\",\"Americas\",\"Americas\",\"Americas\",\"Americas\",\"Oceania\",\"Americas\",\"Americas\",\"Asia\",\"Asia\",\"Americas\",\"Asia\",\"Americas\",\"Americas\",\"Americas\",\"Americas\",\"Americas\",\"Americas\",\"Americas\",\"Asia\",\"Americas\",\"Americas\",\"Americas\",\"Americas\",\"Americas\",\"Europe\",\"Americas\",\"Asia\",\"Americas\",\"Asia\",\"Americas\",\"Americas\",\"Americas\",\"Americas\",\"Americas\",\"Americas\",\"Asia\",\"Asia\",\"Asia\",\"Asia\",\"Americas\",\"Asia\",\"Americas\",\"Asia\",\"Americas\",\"Americas\",\"Americas\",\"Europe\",\"Americas\",\"Americas\",\"Americas\",\"Americas\",\"Asia\",\"Americas\",\"Americas\",\"Americas\",\"Americas\",\"Americas\",\"Americas\",\"Americas\",\"Americas\",\"Americas\",\"Americas\",\"Americas\",\"Americas\",\"Americas\",\"Europe\",\"Americas\",\"Americas\",\"Americas\",\"Americas\",\"Americas\",\"Americas\",\"Americas\",\"Americas\",\"Americas\",\"Americas\",\"Americas\",\"Asia\",\"Americas\",\"Asia\",\"Americas\",\"Americas\",\"Americas\",\"Americas\",\"Americas\",\"Europe\",\"Americas\",\"Asia\",\"Americas\",\"Americas\",\"Americas\",\"Oceania\",\"Americas\",\"Americas\",\"Americas\",\"Americas\",\"Europe\",\"Americas\",\"Americas\",\"Europe\",\"Americas\",\"Americas\",\"Americas\",\"Americas\",\"Americas\",\"Americas\",\"Europe\",\"Europe\",\"Americas\",\"Americas\",\"Asia\",\"Americas\",\"Americas\",\"Asia\",\"Americas\",\"Americas\",\"Europe\",\"Americas\",\"Americas\",\"Americas\",\"Americas\",\"Europe\",\"Europe\",\"Europe\",\"Europe\",\"Europe\",\"Europe\",\"Americas\",\"Americas\",\"Americas\",\"Americas\",\"Americas\",\"Americas\",\"Europe\",\"Americas\",\"Europe\",\"Americas\",\"Africa\",\"Asia\",\"Americas\",\"Americas\",\"Americas\",\"Americas\",\"Americas\",\"Americas\",\"Americas\",\"Americas\",\"Americas\",\"Asia\",\"Americas\",\"Americas\",\"Americas\",\"Americas\",\"Americas\",\"Europe\",\"Americas\",\"Americas\",\"Americas\",\"Americas\",\"Americas\",\"Asia\",\"Asia\",\"Americas\",\"Americas\",\"Asia\",\"Americas\",\"Americas\",\"Americas\"],\"yaxis\":\"y\",\"type\":\"histogram\"}],                        {\"template\":{\"data\":{\"barpolar\":[{\"marker\":{\"line\":{\"color\":\"rgb(17,17,17)\",\"width\":0.5},\"pattern\":{\"fillmode\":\"overlay\",\"size\":10,\"solidity\":0.2}},\"type\":\"barpolar\"}],\"bar\":[{\"error_x\":{\"color\":\"#f2f5fa\"},\"error_y\":{\"color\":\"#f2f5fa\"},\"marker\":{\"line\":{\"color\":\"rgb(17,17,17)\",\"width\":0.5},\"pattern\":{\"fillmode\":\"overlay\",\"size\":10,\"solidity\":0.2}},\"type\":\"bar\"}],\"carpet\":[{\"aaxis\":{\"endlinecolor\":\"#A2B1C6\",\"gridcolor\":\"#506784\",\"linecolor\":\"#506784\",\"minorgridcolor\":\"#506784\",\"startlinecolor\":\"#A2B1C6\"},\"baxis\":{\"endlinecolor\":\"#A2B1C6\",\"gridcolor\":\"#506784\",\"linecolor\":\"#506784\",\"minorgridcolor\":\"#506784\",\"startlinecolor\":\"#A2B1C6\"},\"type\":\"carpet\"}],\"choropleth\":[{\"colorbar\":{\"outlinewidth\":0,\"ticks\":\"\"},\"type\":\"choropleth\"}],\"contourcarpet\":[{\"colorbar\":{\"outlinewidth\":0,\"ticks\":\"\"},\"type\":\"contourcarpet\"}],\"contour\":[{\"colorbar\":{\"outlinewidth\":0,\"ticks\":\"\"},\"colorscale\":[[0.0,\"#0d0887\"],[0.1111111111111111,\"#46039f\"],[0.2222222222222222,\"#7201a8\"],[0.3333333333333333,\"#9c179e\"],[0.4444444444444444,\"#bd3786\"],[0.5555555555555556,\"#d8576b\"],[0.6666666666666666,\"#ed7953\"],[0.7777777777777778,\"#fb9f3a\"],[0.8888888888888888,\"#fdca26\"],[1.0,\"#f0f921\"]],\"type\":\"contour\"}],\"heatmapgl\":[{\"colorbar\":{\"outlinewidth\":0,\"ticks\":\"\"},\"colorscale\":[[0.0,\"#0d0887\"],[0.1111111111111111,\"#46039f\"],[0.2222222222222222,\"#7201a8\"],[0.3333333333333333,\"#9c179e\"],[0.4444444444444444,\"#bd3786\"],[0.5555555555555556,\"#d8576b\"],[0.6666666666666666,\"#ed7953\"],[0.7777777777777778,\"#fb9f3a\"],[0.8888888888888888,\"#fdca26\"],[1.0,\"#f0f921\"]],\"type\":\"heatmapgl\"}],\"heatmap\":[{\"colorbar\":{\"outlinewidth\":0,\"ticks\":\"\"},\"colorscale\":[[0.0,\"#0d0887\"],[0.1111111111111111,\"#46039f\"],[0.2222222222222222,\"#7201a8\"],[0.3333333333333333,\"#9c179e\"],[0.4444444444444444,\"#bd3786\"],[0.5555555555555556,\"#d8576b\"],[0.6666666666666666,\"#ed7953\"],[0.7777777777777778,\"#fb9f3a\"],[0.8888888888888888,\"#fdca26\"],[1.0,\"#f0f921\"]],\"type\":\"heatmap\"}],\"histogram2dcontour\":[{\"colorbar\":{\"outlinewidth\":0,\"ticks\":\"\"},\"colorscale\":[[0.0,\"#0d0887\"],[0.1111111111111111,\"#46039f\"],[0.2222222222222222,\"#7201a8\"],[0.3333333333333333,\"#9c179e\"],[0.4444444444444444,\"#bd3786\"],[0.5555555555555556,\"#d8576b\"],[0.6666666666666666,\"#ed7953\"],[0.7777777777777778,\"#fb9f3a\"],[0.8888888888888888,\"#fdca26\"],[1.0,\"#f0f921\"]],\"type\":\"histogram2dcontour\"}],\"histogram2d\":[{\"colorbar\":{\"outlinewidth\":0,\"ticks\":\"\"},\"colorscale\":[[0.0,\"#0d0887\"],[0.1111111111111111,\"#46039f\"],[0.2222222222222222,\"#7201a8\"],[0.3333333333333333,\"#9c179e\"],[0.4444444444444444,\"#bd3786\"],[0.5555555555555556,\"#d8576b\"],[0.6666666666666666,\"#ed7953\"],[0.7777777777777778,\"#fb9f3a\"],[0.8888888888888888,\"#fdca26\"],[1.0,\"#f0f921\"]],\"type\":\"histogram2d\"}],\"histogram\":[{\"marker\":{\"pattern\":{\"fillmode\":\"overlay\",\"size\":10,\"solidity\":0.2}},\"type\":\"histogram\"}],\"mesh3d\":[{\"colorbar\":{\"outlinewidth\":0,\"ticks\":\"\"},\"type\":\"mesh3d\"}],\"parcoords\":[{\"line\":{\"colorbar\":{\"outlinewidth\":0,\"ticks\":\"\"}},\"type\":\"parcoords\"}],\"pie\":[{\"automargin\":true,\"type\":\"pie\"}],\"scatter3d\":[{\"line\":{\"colorbar\":{\"outlinewidth\":0,\"ticks\":\"\"}},\"marker\":{\"colorbar\":{\"outlinewidth\":0,\"ticks\":\"\"}},\"type\":\"scatter3d\"}],\"scattercarpet\":[{\"marker\":{\"colorbar\":{\"outlinewidth\":0,\"ticks\":\"\"}},\"type\":\"scattercarpet\"}],\"scattergeo\":[{\"marker\":{\"colorbar\":{\"outlinewidth\":0,\"ticks\":\"\"}},\"type\":\"scattergeo\"}],\"scattergl\":[{\"marker\":{\"line\":{\"color\":\"#283442\"}},\"type\":\"scattergl\"}],\"scattermapbox\":[{\"marker\":{\"colorbar\":{\"outlinewidth\":0,\"ticks\":\"\"}},\"type\":\"scattermapbox\"}],\"scatterpolargl\":[{\"marker\":{\"colorbar\":{\"outlinewidth\":0,\"ticks\":\"\"}},\"type\":\"scatterpolargl\"}],\"scatterpolar\":[{\"marker\":{\"colorbar\":{\"outlinewidth\":0,\"ticks\":\"\"}},\"type\":\"scatterpolar\"}],\"scatter\":[{\"marker\":{\"line\":{\"color\":\"#283442\"}},\"type\":\"scatter\"}],\"scatterternary\":[{\"marker\":{\"colorbar\":{\"outlinewidth\":0,\"ticks\":\"\"}},\"type\":\"scatterternary\"}],\"surface\":[{\"colorbar\":{\"outlinewidth\":0,\"ticks\":\"\"},\"colorscale\":[[0.0,\"#0d0887\"],[0.1111111111111111,\"#46039f\"],[0.2222222222222222,\"#7201a8\"],[0.3333333333333333,\"#9c179e\"],[0.4444444444444444,\"#bd3786\"],[0.5555555555555556,\"#d8576b\"],[0.6666666666666666,\"#ed7953\"],[0.7777777777777778,\"#fb9f3a\"],[0.8888888888888888,\"#fdca26\"],[1.0,\"#f0f921\"]],\"type\":\"surface\"}],\"table\":[{\"cells\":{\"fill\":{\"color\":\"#506784\"},\"line\":{\"color\":\"rgb(17,17,17)\"}},\"header\":{\"fill\":{\"color\":\"#2a3f5f\"},\"line\":{\"color\":\"rgb(17,17,17)\"}},\"type\":\"table\"}]},\"layout\":{\"annotationdefaults\":{\"arrowcolor\":\"#f2f5fa\",\"arrowhead\":0,\"arrowwidth\":1},\"autotypenumbers\":\"strict\",\"coloraxis\":{\"colorbar\":{\"outlinewidth\":0,\"ticks\":\"\"}},\"colorscale\":{\"diverging\":[[0,\"#8e0152\"],[0.1,\"#c51b7d\"],[0.2,\"#de77ae\"],[0.3,\"#f1b6da\"],[0.4,\"#fde0ef\"],[0.5,\"#f7f7f7\"],[0.6,\"#e6f5d0\"],[0.7,\"#b8e186\"],[0.8,\"#7fbc41\"],[0.9,\"#4d9221\"],[1,\"#276419\"]],\"sequential\":[[0.0,\"#0d0887\"],[0.1111111111111111,\"#46039f\"],[0.2222222222222222,\"#7201a8\"],[0.3333333333333333,\"#9c179e\"],[0.4444444444444444,\"#bd3786\"],[0.5555555555555556,\"#d8576b\"],[0.6666666666666666,\"#ed7953\"],[0.7777777777777778,\"#fb9f3a\"],[0.8888888888888888,\"#fdca26\"],[1.0,\"#f0f921\"]],\"sequentialminus\":[[0.0,\"#0d0887\"],[0.1111111111111111,\"#46039f\"],[0.2222222222222222,\"#7201a8\"],[0.3333333333333333,\"#9c179e\"],[0.4444444444444444,\"#bd3786\"],[0.5555555555555556,\"#d8576b\"],[0.6666666666666666,\"#ed7953\"],[0.7777777777777778,\"#fb9f3a\"],[0.8888888888888888,\"#fdca26\"],[1.0,\"#f0f921\"]]},\"colorway\":[\"#636efa\",\"#EF553B\",\"#00cc96\",\"#ab63fa\",\"#FFA15A\",\"#19d3f3\",\"#FF6692\",\"#B6E880\",\"#FF97FF\",\"#FECB52\"],\"font\":{\"color\":\"#f2f5fa\"},\"geo\":{\"bgcolor\":\"rgb(17,17,17)\",\"lakecolor\":\"rgb(17,17,17)\",\"landcolor\":\"rgb(17,17,17)\",\"showlakes\":true,\"showland\":true,\"subunitcolor\":\"#506784\"},\"hoverlabel\":{\"align\":\"left\"},\"hovermode\":\"closest\",\"mapbox\":{\"style\":\"dark\"},\"paper_bgcolor\":\"rgb(17,17,17)\",\"plot_bgcolor\":\"rgb(17,17,17)\",\"polar\":{\"angularaxis\":{\"gridcolor\":\"#506784\",\"linecolor\":\"#506784\",\"ticks\":\"\"},\"bgcolor\":\"rgb(17,17,17)\",\"radialaxis\":{\"gridcolor\":\"#506784\",\"linecolor\":\"#506784\",\"ticks\":\"\"}},\"scene\":{\"xaxis\":{\"backgroundcolor\":\"rgb(17,17,17)\",\"gridcolor\":\"#506784\",\"gridwidth\":2,\"linecolor\":\"#506784\",\"showbackground\":true,\"ticks\":\"\",\"zerolinecolor\":\"#C8D4E3\"},\"yaxis\":{\"backgroundcolor\":\"rgb(17,17,17)\",\"gridcolor\":\"#506784\",\"gridwidth\":2,\"linecolor\":\"#506784\",\"showbackground\":true,\"ticks\":\"\",\"zerolinecolor\":\"#C8D4E3\"},\"zaxis\":{\"backgroundcolor\":\"rgb(17,17,17)\",\"gridcolor\":\"#506784\",\"gridwidth\":2,\"linecolor\":\"#506784\",\"showbackground\":true,\"ticks\":\"\",\"zerolinecolor\":\"#C8D4E3\"}},\"shapedefaults\":{\"line\":{\"color\":\"#f2f5fa\"}},\"sliderdefaults\":{\"bgcolor\":\"#C8D4E3\",\"bordercolor\":\"rgb(17,17,17)\",\"borderwidth\":1,\"tickwidth\":0},\"ternary\":{\"aaxis\":{\"gridcolor\":\"#506784\",\"linecolor\":\"#506784\",\"ticks\":\"\"},\"baxis\":{\"gridcolor\":\"#506784\",\"linecolor\":\"#506784\",\"ticks\":\"\"},\"bgcolor\":\"rgb(17,17,17)\",\"caxis\":{\"gridcolor\":\"#506784\",\"linecolor\":\"#506784\",\"ticks\":\"\"}},\"title\":{\"x\":0.05},\"updatemenudefaults\":{\"bgcolor\":\"#506784\",\"borderwidth\":0},\"xaxis\":{\"automargin\":true,\"gridcolor\":\"#283442\",\"linecolor\":\"#506784\",\"ticks\":\"\",\"title\":{\"standoff\":15},\"zerolinecolor\":\"#283442\",\"zerolinewidth\":2},\"yaxis\":{\"automargin\":true,\"gridcolor\":\"#283442\",\"linecolor\":\"#506784\",\"ticks\":\"\",\"title\":{\"standoff\":15},\"zerolinecolor\":\"#283442\",\"zerolinewidth\":2}}},\"xaxis\":{\"anchor\":\"y\",\"domain\":[0.0,1.0],\"title\":{\"text\":\"sum of Laid_Off_Count\"}},\"yaxis\":{\"anchor\":\"x\",\"domain\":[0.0,1.0],\"title\":{\"text\":\"Continent\"},\"categoryorder\":\"total ascending\"},\"legend\":{\"tracegroupgap\":0},\"title\":{\"text\":\"Continent wise layoffs\"},\"barmode\":\"relative\"},                        {\"responsive\": true}                    ).then(function(){\n",
              "                            \n",
              "var gd = document.getElementById('49efc7a9-bd98-4588-960b-9e51bdb7d653');\n",
              "var x = new MutationObserver(function (mutations, observer) {{\n",
              "        var display = window.getComputedStyle(gd).display;\n",
              "        if (!display || display === 'none') {{\n",
              "            console.log([gd, 'removed!']);\n",
              "            Plotly.purge(gd);\n",
              "            observer.disconnect();\n",
              "        }}\n",
              "}});\n",
              "\n",
              "// Listen for the removal of the full notebook cells\n",
              "var notebookContainer = gd.closest('#notebook-container');\n",
              "if (notebookContainer) {{\n",
              "    x.observe(notebookContainer, {childList: true});\n",
              "}}\n",
              "\n",
              "// Listen for the clearing of the current output cell\n",
              "var outputEl = gd.closest('.output');\n",
              "if (outputEl) {{\n",
              "    x.observe(outputEl, {childList: true});\n",
              "}}\n",
              "\n",
              "                        })                };                            </script>        </div>\n",
              "</body>\n",
              "</html>"
            ]
          },
          "metadata": {}
        }
      ]
    },
    {
      "cell_type": "code",
      "source": [
        "# year wise#country wise layoff\n",
        "# country_wise_layoff = df.groupby(['Country','Country_iso_code','Year'])['Laid_Off_Count'].sum().sort_index(level=[0,1,2])\\\n",
        "# .groupby(level=0).cumsum().reset_index()\n",
        "# country_wise_layoff.sort_values(by='Year',inplace=True)\n",
        "# #country wise layoffs\n",
        "# countrywise_layoff = px.choropleth(country_wise_layoff, locations='Country_iso_code', hover_name='Country', color='Laid_Off_Count',\\\n",
        "#               animation_frame = 'Year',\\\n",
        "#               range_color=(country_wise_layoff['Laid_Off_Count'].min(),country_wise_layoff['Laid_Off_Count'].max()),\\\n",
        "#               color_continuous_scale=px.colors.sequential.Plasma[::-1], title='Yearly Country wise Cumulative LayOffs')\n",
        "# # fig.write_image('yes.png')\n",
        "# countrywise_layoff.show(renderer=\"colab\")\n",
        "\n",
        "# all_graphs.append(countrywise_layoff)\n",
        "\n",
        "#overall country wise layoff\n",
        "country_wise_layoff = df.groupby(['Country','Country_iso_code'])['Laid_Off_Count'].sum().sort_index(level=[0,1]).reset_index()\n",
        "# country_wise_layoff.sort_values(by='Year',inplace=True)\n",
        "#country wise layoffs\n",
        "countrywise_layoff = px.choropleth(country_wise_layoff, locations='Country_iso_code', hover_name='Country', color='Laid_Off_Count',\\\n",
        "              range_color=(country_wise_layoff['Laid_Off_Count'].min(),country_wise_layoff['Laid_Off_Count'].max()),\\\n",
        "              color_continuous_scale=px.colors.sequential.Turbo, title='Country wise Total LayOffs',template=\"plotly_dark\")\n",
        "# fig.write_image('yes.png')\n",
        "countrywise_layoff.show(renderer=\"colab\")\n",
        "\n",
        "all_graphs.append(countrywise_layoff)"
      ],
      "metadata": {
        "colab": {
          "base_uri": "https://localhost:8080/",
          "height": 542
        },
        "id": "UwT_utFcNTPM",
        "outputId": "fe527e8e-9207-4162-feda-11b21c53896f"
      },
      "execution_count": 49,
      "outputs": [
        {
          "output_type": "display_data",
          "data": {
            "text/html": [
              "<html>\n",
              "<head><meta charset=\"utf-8\" /></head>\n",
              "<body>\n",
              "    <div>            <script src=\"https://cdnjs.cloudflare.com/ajax/libs/mathjax/2.7.5/MathJax.js?config=TeX-AMS-MML_SVG\"></script><script type=\"text/javascript\">if (window.MathJax) {MathJax.Hub.Config({SVG: {font: \"STIX-Web\"}});}</script>                <script type=\"text/javascript\">window.PlotlyConfig = {MathJaxConfig: 'local'};</script>\n",
              "        <script src=\"https://cdn.plot.ly/plotly-2.8.3.min.js\"></script>                <div id=\"26c9871b-6c94-4150-9ac1-51d35ae6de8e\" class=\"plotly-graph-div\" style=\"height:525px; width:100%;\"></div>            <script type=\"text/javascript\">                                    window.PLOTLYENV=window.PLOTLYENV || {};                                    if (document.getElementById(\"26c9871b-6c94-4150-9ac1-51d35ae6de8e\")) {                    Plotly.newPlot(                        \"26c9871b-6c94-4150-9ac1-51d35ae6de8e\",                        [{\"coloraxis\":\"coloraxis\",\"geo\":\"geo\",\"hovertemplate\":\"<b>%{hovertext}</b><br><br>Country_iso_code=%{location}<br>Laid_Off_Count=%{z}<extra></extra>\",\"hovertext\":[\"Argentina\",\"Australia\",\"Austria\",\"Bahrain\",\"Belgium\",\"Brazil\",\"Bulgaria\",\"Canada\",\"Chile\",\"China\",\"Colombia\",\"Czech Republic\",\"Denmark\",\"Egypt\",\"Estonia\",\"Finland\",\"France\",\"Germany\",\"Ghana\",\"Greece\",\"Hong Kong\",\"Hungary\",\"India\",\"Indonesia\",\"Ireland\",\"Israel\",\"Kenya\",\"Lithuania\",\"Luxembourg\",\"Malaysia\",\"Mexico\",\"Myanmar\",\"Netherlands\",\"New Zealand\",\"Nigeria\",\"Norway\",\"Pakistan\",\"Peru\",\"Poland\",\"Portugal\",\"Romania\",\"Russia\",\"Senegal\",\"Seychelles\",\"Singapore\",\"South Africa\",\"South Korea\",\"Spain\",\"Sweden\",\"Switzerland\",\"Thailand\",\"Turkey\",\"United Arab Emirates\",\"United Kingdom\",\"United States\",\"Uruguay\",\"Vietnam\"],\"locations\":[\"ARG\",\"AUS\",\"AUT\",\"BHR\",\"BEL\",\"BRA\",\"BGR\",\"CAN\",\"CHL\",\"CHN\",\"COL\",\"CZE\",\"DNK\",\"EGY\",\"EST\",\"FIN\",\"FRA\",\"DEU\",\"GHA\",\"GRC\",\"HKG\",\"HUN\",\"IND\",\"IDN\",\"IRL\",\"ISR\",\"KEN\",\"LTU\",\"LUX\",\"MYS\",\"MEX\",\"MMR\",\"NLD\",\"NZL\",\"NGA\",\"NOR\",\"PAK\",\"PER\",\"POL\",\"PRT\",\"ROU\",\"RUS\",\"SEN\",\"SYC\",\"SGP\",\"ZAF\",\"PRK\",\"ESP\",\"SWE\",\"CHE\",\"THA\",\"TUR\",\"ARE\",\"GBR\",\"USA\",\"URY\",\"VNM\"],\"name\":\"\",\"z\":[323.0,1464.0,570.0,0.0,0.0,9342.0,120.0,6259.0,30.0,5605.0,130.0,0.0,240.0,0.0,267.0,250.0,93.0,8251.0,0.0,0.0,730.0,0.0,35203.0,3161.0,230.0,3097.0,349.0,60.0,45.0,100.0,270.0,200.0,17220.0,45.0,565.0,140.0,0.0,0.0,25.0,115.0,140.0,400.0,300.0,75.0,5935.0,0.0,0.0,250.0,2764.0,62.0,55.0,0.0,995.0,6598.0,240042.0,0.0,0.0],\"type\":\"choropleth\"}],                        {\"template\":{\"data\":{\"barpolar\":[{\"marker\":{\"line\":{\"color\":\"rgb(17,17,17)\",\"width\":0.5},\"pattern\":{\"fillmode\":\"overlay\",\"size\":10,\"solidity\":0.2}},\"type\":\"barpolar\"}],\"bar\":[{\"error_x\":{\"color\":\"#f2f5fa\"},\"error_y\":{\"color\":\"#f2f5fa\"},\"marker\":{\"line\":{\"color\":\"rgb(17,17,17)\",\"width\":0.5},\"pattern\":{\"fillmode\":\"overlay\",\"size\":10,\"solidity\":0.2}},\"type\":\"bar\"}],\"carpet\":[{\"aaxis\":{\"endlinecolor\":\"#A2B1C6\",\"gridcolor\":\"#506784\",\"linecolor\":\"#506784\",\"minorgridcolor\":\"#506784\",\"startlinecolor\":\"#A2B1C6\"},\"baxis\":{\"endlinecolor\":\"#A2B1C6\",\"gridcolor\":\"#506784\",\"linecolor\":\"#506784\",\"minorgridcolor\":\"#506784\",\"startlinecolor\":\"#A2B1C6\"},\"type\":\"carpet\"}],\"choropleth\":[{\"colorbar\":{\"outlinewidth\":0,\"ticks\":\"\"},\"type\":\"choropleth\"}],\"contourcarpet\":[{\"colorbar\":{\"outlinewidth\":0,\"ticks\":\"\"},\"type\":\"contourcarpet\"}],\"contour\":[{\"colorbar\":{\"outlinewidth\":0,\"ticks\":\"\"},\"colorscale\":[[0.0,\"#0d0887\"],[0.1111111111111111,\"#46039f\"],[0.2222222222222222,\"#7201a8\"],[0.3333333333333333,\"#9c179e\"],[0.4444444444444444,\"#bd3786\"],[0.5555555555555556,\"#d8576b\"],[0.6666666666666666,\"#ed7953\"],[0.7777777777777778,\"#fb9f3a\"],[0.8888888888888888,\"#fdca26\"],[1.0,\"#f0f921\"]],\"type\":\"contour\"}],\"heatmapgl\":[{\"colorbar\":{\"outlinewidth\":0,\"ticks\":\"\"},\"colorscale\":[[0.0,\"#0d0887\"],[0.1111111111111111,\"#46039f\"],[0.2222222222222222,\"#7201a8\"],[0.3333333333333333,\"#9c179e\"],[0.4444444444444444,\"#bd3786\"],[0.5555555555555556,\"#d8576b\"],[0.6666666666666666,\"#ed7953\"],[0.7777777777777778,\"#fb9f3a\"],[0.8888888888888888,\"#fdca26\"],[1.0,\"#f0f921\"]],\"type\":\"heatmapgl\"}],\"heatmap\":[{\"colorbar\":{\"outlinewidth\":0,\"ticks\":\"\"},\"colorscale\":[[0.0,\"#0d0887\"],[0.1111111111111111,\"#46039f\"],[0.2222222222222222,\"#7201a8\"],[0.3333333333333333,\"#9c179e\"],[0.4444444444444444,\"#bd3786\"],[0.5555555555555556,\"#d8576b\"],[0.6666666666666666,\"#ed7953\"],[0.7777777777777778,\"#fb9f3a\"],[0.8888888888888888,\"#fdca26\"],[1.0,\"#f0f921\"]],\"type\":\"heatmap\"}],\"histogram2dcontour\":[{\"colorbar\":{\"outlinewidth\":0,\"ticks\":\"\"},\"colorscale\":[[0.0,\"#0d0887\"],[0.1111111111111111,\"#46039f\"],[0.2222222222222222,\"#7201a8\"],[0.3333333333333333,\"#9c179e\"],[0.4444444444444444,\"#bd3786\"],[0.5555555555555556,\"#d8576b\"],[0.6666666666666666,\"#ed7953\"],[0.7777777777777778,\"#fb9f3a\"],[0.8888888888888888,\"#fdca26\"],[1.0,\"#f0f921\"]],\"type\":\"histogram2dcontour\"}],\"histogram2d\":[{\"colorbar\":{\"outlinewidth\":0,\"ticks\":\"\"},\"colorscale\":[[0.0,\"#0d0887\"],[0.1111111111111111,\"#46039f\"],[0.2222222222222222,\"#7201a8\"],[0.3333333333333333,\"#9c179e\"],[0.4444444444444444,\"#bd3786\"],[0.5555555555555556,\"#d8576b\"],[0.6666666666666666,\"#ed7953\"],[0.7777777777777778,\"#fb9f3a\"],[0.8888888888888888,\"#fdca26\"],[1.0,\"#f0f921\"]],\"type\":\"histogram2d\"}],\"histogram\":[{\"marker\":{\"pattern\":{\"fillmode\":\"overlay\",\"size\":10,\"solidity\":0.2}},\"type\":\"histogram\"}],\"mesh3d\":[{\"colorbar\":{\"outlinewidth\":0,\"ticks\":\"\"},\"type\":\"mesh3d\"}],\"parcoords\":[{\"line\":{\"colorbar\":{\"outlinewidth\":0,\"ticks\":\"\"}},\"type\":\"parcoords\"}],\"pie\":[{\"automargin\":true,\"type\":\"pie\"}],\"scatter3d\":[{\"line\":{\"colorbar\":{\"outlinewidth\":0,\"ticks\":\"\"}},\"marker\":{\"colorbar\":{\"outlinewidth\":0,\"ticks\":\"\"}},\"type\":\"scatter3d\"}],\"scattercarpet\":[{\"marker\":{\"colorbar\":{\"outlinewidth\":0,\"ticks\":\"\"}},\"type\":\"scattercarpet\"}],\"scattergeo\":[{\"marker\":{\"colorbar\":{\"outlinewidth\":0,\"ticks\":\"\"}},\"type\":\"scattergeo\"}],\"scattergl\":[{\"marker\":{\"line\":{\"color\":\"#283442\"}},\"type\":\"scattergl\"}],\"scattermapbox\":[{\"marker\":{\"colorbar\":{\"outlinewidth\":0,\"ticks\":\"\"}},\"type\":\"scattermapbox\"}],\"scatterpolargl\":[{\"marker\":{\"colorbar\":{\"outlinewidth\":0,\"ticks\":\"\"}},\"type\":\"scatterpolargl\"}],\"scatterpolar\":[{\"marker\":{\"colorbar\":{\"outlinewidth\":0,\"ticks\":\"\"}},\"type\":\"scatterpolar\"}],\"scatter\":[{\"marker\":{\"line\":{\"color\":\"#283442\"}},\"type\":\"scatter\"}],\"scatterternary\":[{\"marker\":{\"colorbar\":{\"outlinewidth\":0,\"ticks\":\"\"}},\"type\":\"scatterternary\"}],\"surface\":[{\"colorbar\":{\"outlinewidth\":0,\"ticks\":\"\"},\"colorscale\":[[0.0,\"#0d0887\"],[0.1111111111111111,\"#46039f\"],[0.2222222222222222,\"#7201a8\"],[0.3333333333333333,\"#9c179e\"],[0.4444444444444444,\"#bd3786\"],[0.5555555555555556,\"#d8576b\"],[0.6666666666666666,\"#ed7953\"],[0.7777777777777778,\"#fb9f3a\"],[0.8888888888888888,\"#fdca26\"],[1.0,\"#f0f921\"]],\"type\":\"surface\"}],\"table\":[{\"cells\":{\"fill\":{\"color\":\"#506784\"},\"line\":{\"color\":\"rgb(17,17,17)\"}},\"header\":{\"fill\":{\"color\":\"#2a3f5f\"},\"line\":{\"color\":\"rgb(17,17,17)\"}},\"type\":\"table\"}]},\"layout\":{\"annotationdefaults\":{\"arrowcolor\":\"#f2f5fa\",\"arrowhead\":0,\"arrowwidth\":1},\"autotypenumbers\":\"strict\",\"coloraxis\":{\"colorbar\":{\"outlinewidth\":0,\"ticks\":\"\"}},\"colorscale\":{\"diverging\":[[0,\"#8e0152\"],[0.1,\"#c51b7d\"],[0.2,\"#de77ae\"],[0.3,\"#f1b6da\"],[0.4,\"#fde0ef\"],[0.5,\"#f7f7f7\"],[0.6,\"#e6f5d0\"],[0.7,\"#b8e186\"],[0.8,\"#7fbc41\"],[0.9,\"#4d9221\"],[1,\"#276419\"]],\"sequential\":[[0.0,\"#0d0887\"],[0.1111111111111111,\"#46039f\"],[0.2222222222222222,\"#7201a8\"],[0.3333333333333333,\"#9c179e\"],[0.4444444444444444,\"#bd3786\"],[0.5555555555555556,\"#d8576b\"],[0.6666666666666666,\"#ed7953\"],[0.7777777777777778,\"#fb9f3a\"],[0.8888888888888888,\"#fdca26\"],[1.0,\"#f0f921\"]],\"sequentialminus\":[[0.0,\"#0d0887\"],[0.1111111111111111,\"#46039f\"],[0.2222222222222222,\"#7201a8\"],[0.3333333333333333,\"#9c179e\"],[0.4444444444444444,\"#bd3786\"],[0.5555555555555556,\"#d8576b\"],[0.6666666666666666,\"#ed7953\"],[0.7777777777777778,\"#fb9f3a\"],[0.8888888888888888,\"#fdca26\"],[1.0,\"#f0f921\"]]},\"colorway\":[\"#636efa\",\"#EF553B\",\"#00cc96\",\"#ab63fa\",\"#FFA15A\",\"#19d3f3\",\"#FF6692\",\"#B6E880\",\"#FF97FF\",\"#FECB52\"],\"font\":{\"color\":\"#f2f5fa\"},\"geo\":{\"bgcolor\":\"rgb(17,17,17)\",\"lakecolor\":\"rgb(17,17,17)\",\"landcolor\":\"rgb(17,17,17)\",\"showlakes\":true,\"showland\":true,\"subunitcolor\":\"#506784\"},\"hoverlabel\":{\"align\":\"left\"},\"hovermode\":\"closest\",\"mapbox\":{\"style\":\"dark\"},\"paper_bgcolor\":\"rgb(17,17,17)\",\"plot_bgcolor\":\"rgb(17,17,17)\",\"polar\":{\"angularaxis\":{\"gridcolor\":\"#506784\",\"linecolor\":\"#506784\",\"ticks\":\"\"},\"bgcolor\":\"rgb(17,17,17)\",\"radialaxis\":{\"gridcolor\":\"#506784\",\"linecolor\":\"#506784\",\"ticks\":\"\"}},\"scene\":{\"xaxis\":{\"backgroundcolor\":\"rgb(17,17,17)\",\"gridcolor\":\"#506784\",\"gridwidth\":2,\"linecolor\":\"#506784\",\"showbackground\":true,\"ticks\":\"\",\"zerolinecolor\":\"#C8D4E3\"},\"yaxis\":{\"backgroundcolor\":\"rgb(17,17,17)\",\"gridcolor\":\"#506784\",\"gridwidth\":2,\"linecolor\":\"#506784\",\"showbackground\":true,\"ticks\":\"\",\"zerolinecolor\":\"#C8D4E3\"},\"zaxis\":{\"backgroundcolor\":\"rgb(17,17,17)\",\"gridcolor\":\"#506784\",\"gridwidth\":2,\"linecolor\":\"#506784\",\"showbackground\":true,\"ticks\":\"\",\"zerolinecolor\":\"#C8D4E3\"}},\"shapedefaults\":{\"line\":{\"color\":\"#f2f5fa\"}},\"sliderdefaults\":{\"bgcolor\":\"#C8D4E3\",\"bordercolor\":\"rgb(17,17,17)\",\"borderwidth\":1,\"tickwidth\":0},\"ternary\":{\"aaxis\":{\"gridcolor\":\"#506784\",\"linecolor\":\"#506784\",\"ticks\":\"\"},\"baxis\":{\"gridcolor\":\"#506784\",\"linecolor\":\"#506784\",\"ticks\":\"\"},\"bgcolor\":\"rgb(17,17,17)\",\"caxis\":{\"gridcolor\":\"#506784\",\"linecolor\":\"#506784\",\"ticks\":\"\"}},\"title\":{\"x\":0.05},\"updatemenudefaults\":{\"bgcolor\":\"#506784\",\"borderwidth\":0},\"xaxis\":{\"automargin\":true,\"gridcolor\":\"#283442\",\"linecolor\":\"#506784\",\"ticks\":\"\",\"title\":{\"standoff\":15},\"zerolinecolor\":\"#283442\",\"zerolinewidth\":2},\"yaxis\":{\"automargin\":true,\"gridcolor\":\"#283442\",\"linecolor\":\"#506784\",\"ticks\":\"\",\"title\":{\"standoff\":15},\"zerolinecolor\":\"#283442\",\"zerolinewidth\":2}}},\"geo\":{\"domain\":{\"x\":[0.0,1.0],\"y\":[0.0,1.0]},\"center\":{}},\"coloraxis\":{\"colorbar\":{\"title\":{\"text\":\"Laid_Off_Count\"}},\"colorscale\":[[0.0,\"#30123b\"],[0.07142857142857142,\"#4145ab\"],[0.14285714285714285,\"#4675ed\"],[0.21428571428571427,\"#39a2fc\"],[0.2857142857142857,\"#1bcfd4\"],[0.35714285714285715,\"#24eca6\"],[0.42857142857142855,\"#61fc6c\"],[0.5,\"#a4fc3b\"],[0.5714285714285714,\"#d1e834\"],[0.6428571428571429,\"#f3c63a\"],[0.7142857142857143,\"#fe9b2d\"],[0.7857142857142857,\"#f36315\"],[0.8571428571428571,\"#d93806\"],[0.9285714285714286,\"#b11901\"],[1.0,\"#7a0402\"]],\"cmin\":0.0,\"cmax\":240042.0},\"legend\":{\"tracegroupgap\":0},\"title\":{\"text\":\"Country wise Total LayOffs\"}},                        {\"responsive\": true}                    ).then(function(){\n",
              "                            \n",
              "var gd = document.getElementById('26c9871b-6c94-4150-9ac1-51d35ae6de8e');\n",
              "var x = new MutationObserver(function (mutations, observer) {{\n",
              "        var display = window.getComputedStyle(gd).display;\n",
              "        if (!display || display === 'none') {{\n",
              "            console.log([gd, 'removed!']);\n",
              "            Plotly.purge(gd);\n",
              "            observer.disconnect();\n",
              "        }}\n",
              "}});\n",
              "\n",
              "// Listen for the removal of the full notebook cells\n",
              "var notebookContainer = gd.closest('#notebook-container');\n",
              "if (notebookContainer) {{\n",
              "    x.observe(notebookContainer, {childList: true});\n",
              "}}\n",
              "\n",
              "// Listen for the clearing of the current output cell\n",
              "var outputEl = gd.closest('.output');\n",
              "if (outputEl) {{\n",
              "    x.observe(outputEl, {childList: true});\n",
              "}}\n",
              "\n",
              "                        })                };                            </script>        </div>\n",
              "</body>\n",
              "</html>"
            ]
          },
          "metadata": {}
        }
      ]
    },
    {
      "cell_type": "code",
      "source": [
        "country_wise_layoff = country_wise_layoff.merge(df[['Country_iso_code','Continent']], on='Country_iso_code')\n",
        "country_wise_layoff"
      ],
      "metadata": {
        "colab": {
          "base_uri": "https://localhost:8080/",
          "height": 424
        },
        "id": "gQVWlPcoR_lj",
        "outputId": "965c3461-c1e3-413a-9eb2-0854c76b2eea"
      },
      "execution_count": 50,
      "outputs": [
        {
          "output_type": "execute_result",
          "data": {
            "text/plain": [
              "            Country Country_iso_code  Laid_Off_Count Continent\n",
              "0         Argentina              ARG           323.0  Americas\n",
              "1         Argentina              ARG           323.0  Americas\n",
              "2         Argentina              ARG           323.0  Americas\n",
              "3         Argentina              ARG           323.0  Americas\n",
              "4         Argentina              ARG           323.0  Americas\n",
              "...             ...              ...             ...       ...\n",
              "2187  United States              USA        240042.0  Americas\n",
              "2188        Uruguay              URY             0.0  Americas\n",
              "2189        Vietnam              VNM             0.0      Asia\n",
              "2190        Vietnam              VNM             0.0      Asia\n",
              "2191        Vietnam              VNM             0.0      Asia\n",
              "\n",
              "[2192 rows x 4 columns]"
            ],
            "text/html": [
              "\n",
              "  <div id=\"df-cfd03dbb-c0c8-4c29-b889-9251404d8a93\">\n",
              "    <div class=\"colab-df-container\">\n",
              "      <div>\n",
              "<style scoped>\n",
              "    .dataframe tbody tr th:only-of-type {\n",
              "        vertical-align: middle;\n",
              "    }\n",
              "\n",
              "    .dataframe tbody tr th {\n",
              "        vertical-align: top;\n",
              "    }\n",
              "\n",
              "    .dataframe thead th {\n",
              "        text-align: right;\n",
              "    }\n",
              "</style>\n",
              "<table border=\"1\" class=\"dataframe\">\n",
              "  <thead>\n",
              "    <tr style=\"text-align: right;\">\n",
              "      <th></th>\n",
              "      <th>Country</th>\n",
              "      <th>Country_iso_code</th>\n",
              "      <th>Laid_Off_Count</th>\n",
              "      <th>Continent</th>\n",
              "    </tr>\n",
              "  </thead>\n",
              "  <tbody>\n",
              "    <tr>\n",
              "      <th>0</th>\n",
              "      <td>Argentina</td>\n",
              "      <td>ARG</td>\n",
              "      <td>323.0</td>\n",
              "      <td>Americas</td>\n",
              "    </tr>\n",
              "    <tr>\n",
              "      <th>1</th>\n",
              "      <td>Argentina</td>\n",
              "      <td>ARG</td>\n",
              "      <td>323.0</td>\n",
              "      <td>Americas</td>\n",
              "    </tr>\n",
              "    <tr>\n",
              "      <th>2</th>\n",
              "      <td>Argentina</td>\n",
              "      <td>ARG</td>\n",
              "      <td>323.0</td>\n",
              "      <td>Americas</td>\n",
              "    </tr>\n",
              "    <tr>\n",
              "      <th>3</th>\n",
              "      <td>Argentina</td>\n",
              "      <td>ARG</td>\n",
              "      <td>323.0</td>\n",
              "      <td>Americas</td>\n",
              "    </tr>\n",
              "    <tr>\n",
              "      <th>4</th>\n",
              "      <td>Argentina</td>\n",
              "      <td>ARG</td>\n",
              "      <td>323.0</td>\n",
              "      <td>Americas</td>\n",
              "    </tr>\n",
              "    <tr>\n",
              "      <th>...</th>\n",
              "      <td>...</td>\n",
              "      <td>...</td>\n",
              "      <td>...</td>\n",
              "      <td>...</td>\n",
              "    </tr>\n",
              "    <tr>\n",
              "      <th>2187</th>\n",
              "      <td>United States</td>\n",
              "      <td>USA</td>\n",
              "      <td>240042.0</td>\n",
              "      <td>Americas</td>\n",
              "    </tr>\n",
              "    <tr>\n",
              "      <th>2188</th>\n",
              "      <td>Uruguay</td>\n",
              "      <td>URY</td>\n",
              "      <td>0.0</td>\n",
              "      <td>Americas</td>\n",
              "    </tr>\n",
              "    <tr>\n",
              "      <th>2189</th>\n",
              "      <td>Vietnam</td>\n",
              "      <td>VNM</td>\n",
              "      <td>0.0</td>\n",
              "      <td>Asia</td>\n",
              "    </tr>\n",
              "    <tr>\n",
              "      <th>2190</th>\n",
              "      <td>Vietnam</td>\n",
              "      <td>VNM</td>\n",
              "      <td>0.0</td>\n",
              "      <td>Asia</td>\n",
              "    </tr>\n",
              "    <tr>\n",
              "      <th>2191</th>\n",
              "      <td>Vietnam</td>\n",
              "      <td>VNM</td>\n",
              "      <td>0.0</td>\n",
              "      <td>Asia</td>\n",
              "    </tr>\n",
              "  </tbody>\n",
              "</table>\n",
              "<p>2192 rows × 4 columns</p>\n",
              "</div>\n",
              "      <button class=\"colab-df-convert\" onclick=\"convertToInteractive('df-cfd03dbb-c0c8-4c29-b889-9251404d8a93')\"\n",
              "              title=\"Convert this dataframe to an interactive table.\"\n",
              "              style=\"display:none;\">\n",
              "        \n",
              "  <svg xmlns=\"http://www.w3.org/2000/svg\" height=\"24px\"viewBox=\"0 0 24 24\"\n",
              "       width=\"24px\">\n",
              "    <path d=\"M0 0h24v24H0V0z\" fill=\"none\"/>\n",
              "    <path d=\"M18.56 5.44l.94 2.06.94-2.06 2.06-.94-2.06-.94-.94-2.06-.94 2.06-2.06.94zm-11 1L8.5 8.5l.94-2.06 2.06-.94-2.06-.94L8.5 2.5l-.94 2.06-2.06.94zm10 10l.94 2.06.94-2.06 2.06-.94-2.06-.94-.94-2.06-.94 2.06-2.06.94z\"/><path d=\"M17.41 7.96l-1.37-1.37c-.4-.4-.92-.59-1.43-.59-.52 0-1.04.2-1.43.59L10.3 9.45l-7.72 7.72c-.78.78-.78 2.05 0 2.83L4 21.41c.39.39.9.59 1.41.59.51 0 1.02-.2 1.41-.59l7.78-7.78 2.81-2.81c.8-.78.8-2.07 0-2.86zM5.41 20L4 18.59l7.72-7.72 1.47 1.35L5.41 20z\"/>\n",
              "  </svg>\n",
              "      </button>\n",
              "      \n",
              "  <style>\n",
              "    .colab-df-container {\n",
              "      display:flex;\n",
              "      flex-wrap:wrap;\n",
              "      gap: 12px;\n",
              "    }\n",
              "\n",
              "    .colab-df-convert {\n",
              "      background-color: #E8F0FE;\n",
              "      border: none;\n",
              "      border-radius: 50%;\n",
              "      cursor: pointer;\n",
              "      display: none;\n",
              "      fill: #1967D2;\n",
              "      height: 32px;\n",
              "      padding: 0 0 0 0;\n",
              "      width: 32px;\n",
              "    }\n",
              "\n",
              "    .colab-df-convert:hover {\n",
              "      background-color: #E2EBFA;\n",
              "      box-shadow: 0px 1px 2px rgba(60, 64, 67, 0.3), 0px 1px 3px 1px rgba(60, 64, 67, 0.15);\n",
              "      fill: #174EA6;\n",
              "    }\n",
              "\n",
              "    [theme=dark] .colab-df-convert {\n",
              "      background-color: #3B4455;\n",
              "      fill: #D2E3FC;\n",
              "    }\n",
              "\n",
              "    [theme=dark] .colab-df-convert:hover {\n",
              "      background-color: #434B5C;\n",
              "      box-shadow: 0px 1px 3px 1px rgba(0, 0, 0, 0.15);\n",
              "      filter: drop-shadow(0px 1px 2px rgba(0, 0, 0, 0.3));\n",
              "      fill: #FFFFFF;\n",
              "    }\n",
              "  </style>\n",
              "\n",
              "      <script>\n",
              "        const buttonEl =\n",
              "          document.querySelector('#df-cfd03dbb-c0c8-4c29-b889-9251404d8a93 button.colab-df-convert');\n",
              "        buttonEl.style.display =\n",
              "          google.colab.kernel.accessAllowed ? 'block' : 'none';\n",
              "\n",
              "        async function convertToInteractive(key) {\n",
              "          const element = document.querySelector('#df-cfd03dbb-c0c8-4c29-b889-9251404d8a93');\n",
              "          const dataTable =\n",
              "            await google.colab.kernel.invokeFunction('convertToInteractive',\n",
              "                                                     [key], {});\n",
              "          if (!dataTable) return;\n",
              "\n",
              "          const docLinkHtml = 'Like what you see? Visit the ' +\n",
              "            '<a target=\"_blank\" href=https://colab.research.google.com/notebooks/data_table.ipynb>data table notebook</a>'\n",
              "            + ' to learn more about interactive tables.';\n",
              "          element.innerHTML = '';\n",
              "          dataTable['output_type'] = 'display_data';\n",
              "          await google.colab.output.renderOutput(dataTable, element);\n",
              "          const docLink = document.createElement('div');\n",
              "          docLink.innerHTML = docLinkHtml;\n",
              "          element.appendChild(docLink);\n",
              "        }\n",
              "      </script>\n",
              "    </div>\n",
              "  </div>\n",
              "  "
            ]
          },
          "metadata": {},
          "execution_count": 50
        }
      ]
    },
    {
      "cell_type": "code",
      "source": [
        "continents = country_wise_layoff.Continent.unique()#.values\n",
        "# print(continents.shape)\n",
        "continent_country_layoffs = make_subplots(rows=continents.shape[0]//2+continents.shape[0]%2, cols=2,\\\n",
        "                    subplot_titles=continents)\n",
        "# print(fig)\n",
        "i,j=1,1\n",
        "for cont in continents:\n",
        "    tmp_df = country_wise_layoff[country_wise_layoff['Continent']==cont]\n",
        "    tmp_df = tmp_df.groupby('Country')['Laid_Off_Count'].sum().reset_index()\n",
        "    continent_country_layoffs.add_trace(\n",
        "        go.Bar(x=tmp_df['Country'].values, y=tmp_df['Laid_Off_Count'].values,text=tmp_df['Laid_Off_Count']),\n",
        "        row=i, col=j\n",
        "    )\n",
        "    j+=1\n",
        "    if j==3:\n",
        "      i+=1\n",
        "      j=1\n",
        "\n",
        "\n",
        "continent_country_layoffs.update_layout(height=800, width=1000, title_text=\"Continets & Country wise Layoffs\",showlegend=False)\n",
        "continent_country_layoffs.show()\n",
        "\n",
        "all_graphs.append(continent_country_layoffs)"
      ],
      "metadata": {
        "colab": {
          "base_uri": "https://localhost:8080/",
          "height": 817
        },
        "id": "KtzEPg5ZmCB3",
        "outputId": "e117d46e-2bea-4520-c651-c22ab6b2d728"
      },
      "execution_count": 51,
      "outputs": [
        {
          "output_type": "display_data",
          "data": {
            "text/html": [
              "<html>\n",
              "<head><meta charset=\"utf-8\" /></head>\n",
              "<body>\n",
              "    <div>            <script src=\"https://cdnjs.cloudflare.com/ajax/libs/mathjax/2.7.5/MathJax.js?config=TeX-AMS-MML_SVG\"></script><script type=\"text/javascript\">if (window.MathJax) {MathJax.Hub.Config({SVG: {font: \"STIX-Web\"}});}</script>                <script type=\"text/javascript\">window.PlotlyConfig = {MathJaxConfig: 'local'};</script>\n",
              "        <script src=\"https://cdn.plot.ly/plotly-2.8.3.min.js\"></script>                <div id=\"6f5aeed0-71e7-45be-9907-d06d9d5b2169\" class=\"plotly-graph-div\" style=\"height:800px; width:1000px;\"></div>            <script type=\"text/javascript\">                                    window.PLOTLYENV=window.PLOTLYENV || {};                                    if (document.getElementById(\"6f5aeed0-71e7-45be-9907-d06d9d5b2169\")) {                    Plotly.newPlot(                        \"6f5aeed0-71e7-45be-9907-d06d9d5b2169\",                        [{\"text\":[1938.0,635256.0,613382.0,90.0,520.0,1080.0,0.0,344460270.0,0.0],\"x\":[\"Argentina\",\"Brazil\",\"Canada\",\"Chile\",\"Colombia\",\"Mexico\",\"Peru\",\"United States\",\"Uruguay\"],\"y\":[1938.0,635256.0,613382.0,90.0,520.0,1080.0,0.0,344460270.0,0.0],\"type\":\"bar\",\"xaxis\":\"x\",\"yaxis\":\"y\"},{\"text\":[65880.0,90.0],\"x\":[\"Australia\",\"New Zealand\"],\"y\":[65880.0,90.0],\"type\":\"bar\",\"xaxis\":\"x2\",\"yaxis\":\"y2\"},{\"text\":[1710.0,0.0,120.0,0.0,960.0,1068.0,750.0,186.0,536315.0,0.0,0.0,920.0,60.0,135.0,223860.0,560.0,25.0,345.0,280.0,400.0,750.0,52516.0,124.0,461860.0],\"x\":[\"Austria\",\"Belgium\",\"Bulgaria\",\"Czech Republic\",\"Denmark\",\"Estonia\",\"Finland\",\"France\",\"Germany\",\"Greece\",\"Hungary\",\"Ireland\",\"Lithuania\",\"Luxembourg\",\"Netherlands\",\"Norway\",\"Poland\",\"Portugal\",\"Romania\",\"Russia\",\"Spain\",\"Sweden\",\"Switzerland\",\"United Kingdom\"],\"y\":[1710.0,0.0,120.0,0.0,960.0,1068.0,750.0,186.0,536315.0,0.0,0.0,920.0,60.0,135.0,223860.0,560.0,25.0,345.0,280.0,400.0,750.0,52516.0,124.0,461860.0],\"type\":\"bar\",\"xaxis\":\"x3\",\"yaxis\":\"y3\"},{\"text\":[0.0,95285.0,3650.0,4858014.0,72703.0,157947.0,300.0,200.0,0.0,189920.0,0.0,55.0,0.0,5970.0,0.0],\"x\":[\"Bahrain\",\"China\",\"Hong Kong\",\"India\",\"Indonesia\",\"Israel\",\"Malaysia\",\"Myanmar\",\"Pakistan\",\"Singapore\",\"South Korea\",\"Thailand\",\"Turkey\",\"United Arab Emirates\",\"Vietnam\"],\"y\":[0.0,95285.0,3650.0,4858014.0,72703.0,157947.0,300.0,200.0,0.0,189920.0,0.0,55.0,0.0,5970.0,0.0],\"type\":\"bar\",\"xaxis\":\"x4\",\"yaxis\":\"y4\"},{\"text\":[0.0,0.0,2094.0,6780.0,300.0,300.0,0.0],\"x\":[\"Egypt\",\"Ghana\",\"Kenya\",\"Nigeria\",\"Senegal\",\"Seychelles\",\"South Africa\"],\"y\":[0.0,0.0,2094.0,6780.0,300.0,300.0,0.0],\"type\":\"bar\",\"xaxis\":\"x5\",\"yaxis\":\"y5\"}],                        {\"template\":{\"data\":{\"bar\":[{\"error_x\":{\"color\":\"#2a3f5f\"},\"error_y\":{\"color\":\"#2a3f5f\"},\"marker\":{\"line\":{\"color\":\"#E5ECF6\",\"width\":0.5},\"pattern\":{\"fillmode\":\"overlay\",\"size\":10,\"solidity\":0.2}},\"type\":\"bar\"}],\"barpolar\":[{\"marker\":{\"line\":{\"color\":\"#E5ECF6\",\"width\":0.5},\"pattern\":{\"fillmode\":\"overlay\",\"size\":10,\"solidity\":0.2}},\"type\":\"barpolar\"}],\"carpet\":[{\"aaxis\":{\"endlinecolor\":\"#2a3f5f\",\"gridcolor\":\"white\",\"linecolor\":\"white\",\"minorgridcolor\":\"white\",\"startlinecolor\":\"#2a3f5f\"},\"baxis\":{\"endlinecolor\":\"#2a3f5f\",\"gridcolor\":\"white\",\"linecolor\":\"white\",\"minorgridcolor\":\"white\",\"startlinecolor\":\"#2a3f5f\"},\"type\":\"carpet\"}],\"choropleth\":[{\"colorbar\":{\"outlinewidth\":0,\"ticks\":\"\"},\"type\":\"choropleth\"}],\"contour\":[{\"colorbar\":{\"outlinewidth\":0,\"ticks\":\"\"},\"colorscale\":[[0.0,\"#0d0887\"],[0.1111111111111111,\"#46039f\"],[0.2222222222222222,\"#7201a8\"],[0.3333333333333333,\"#9c179e\"],[0.4444444444444444,\"#bd3786\"],[0.5555555555555556,\"#d8576b\"],[0.6666666666666666,\"#ed7953\"],[0.7777777777777778,\"#fb9f3a\"],[0.8888888888888888,\"#fdca26\"],[1.0,\"#f0f921\"]],\"type\":\"contour\"}],\"contourcarpet\":[{\"colorbar\":{\"outlinewidth\":0,\"ticks\":\"\"},\"type\":\"contourcarpet\"}],\"heatmap\":[{\"colorbar\":{\"outlinewidth\":0,\"ticks\":\"\"},\"colorscale\":[[0.0,\"#0d0887\"],[0.1111111111111111,\"#46039f\"],[0.2222222222222222,\"#7201a8\"],[0.3333333333333333,\"#9c179e\"],[0.4444444444444444,\"#bd3786\"],[0.5555555555555556,\"#d8576b\"],[0.6666666666666666,\"#ed7953\"],[0.7777777777777778,\"#fb9f3a\"],[0.8888888888888888,\"#fdca26\"],[1.0,\"#f0f921\"]],\"type\":\"heatmap\"}],\"heatmapgl\":[{\"colorbar\":{\"outlinewidth\":0,\"ticks\":\"\"},\"colorscale\":[[0.0,\"#0d0887\"],[0.1111111111111111,\"#46039f\"],[0.2222222222222222,\"#7201a8\"],[0.3333333333333333,\"#9c179e\"],[0.4444444444444444,\"#bd3786\"],[0.5555555555555556,\"#d8576b\"],[0.6666666666666666,\"#ed7953\"],[0.7777777777777778,\"#fb9f3a\"],[0.8888888888888888,\"#fdca26\"],[1.0,\"#f0f921\"]],\"type\":\"heatmapgl\"}],\"histogram\":[{\"marker\":{\"pattern\":{\"fillmode\":\"overlay\",\"size\":10,\"solidity\":0.2}},\"type\":\"histogram\"}],\"histogram2d\":[{\"colorbar\":{\"outlinewidth\":0,\"ticks\":\"\"},\"colorscale\":[[0.0,\"#0d0887\"],[0.1111111111111111,\"#46039f\"],[0.2222222222222222,\"#7201a8\"],[0.3333333333333333,\"#9c179e\"],[0.4444444444444444,\"#bd3786\"],[0.5555555555555556,\"#d8576b\"],[0.6666666666666666,\"#ed7953\"],[0.7777777777777778,\"#fb9f3a\"],[0.8888888888888888,\"#fdca26\"],[1.0,\"#f0f921\"]],\"type\":\"histogram2d\"}],\"histogram2dcontour\":[{\"colorbar\":{\"outlinewidth\":0,\"ticks\":\"\"},\"colorscale\":[[0.0,\"#0d0887\"],[0.1111111111111111,\"#46039f\"],[0.2222222222222222,\"#7201a8\"],[0.3333333333333333,\"#9c179e\"],[0.4444444444444444,\"#bd3786\"],[0.5555555555555556,\"#d8576b\"],[0.6666666666666666,\"#ed7953\"],[0.7777777777777778,\"#fb9f3a\"],[0.8888888888888888,\"#fdca26\"],[1.0,\"#f0f921\"]],\"type\":\"histogram2dcontour\"}],\"mesh3d\":[{\"colorbar\":{\"outlinewidth\":0,\"ticks\":\"\"},\"type\":\"mesh3d\"}],\"parcoords\":[{\"line\":{\"colorbar\":{\"outlinewidth\":0,\"ticks\":\"\"}},\"type\":\"parcoords\"}],\"pie\":[{\"automargin\":true,\"type\":\"pie\"}],\"scatter\":[{\"marker\":{\"colorbar\":{\"outlinewidth\":0,\"ticks\":\"\"}},\"type\":\"scatter\"}],\"scatter3d\":[{\"line\":{\"colorbar\":{\"outlinewidth\":0,\"ticks\":\"\"}},\"marker\":{\"colorbar\":{\"outlinewidth\":0,\"ticks\":\"\"}},\"type\":\"scatter3d\"}],\"scattercarpet\":[{\"marker\":{\"colorbar\":{\"outlinewidth\":0,\"ticks\":\"\"}},\"type\":\"scattercarpet\"}],\"scattergeo\":[{\"marker\":{\"colorbar\":{\"outlinewidth\":0,\"ticks\":\"\"}},\"type\":\"scattergeo\"}],\"scattergl\":[{\"marker\":{\"colorbar\":{\"outlinewidth\":0,\"ticks\":\"\"}},\"type\":\"scattergl\"}],\"scattermapbox\":[{\"marker\":{\"colorbar\":{\"outlinewidth\":0,\"ticks\":\"\"}},\"type\":\"scattermapbox\"}],\"scatterpolar\":[{\"marker\":{\"colorbar\":{\"outlinewidth\":0,\"ticks\":\"\"}},\"type\":\"scatterpolar\"}],\"scatterpolargl\":[{\"marker\":{\"colorbar\":{\"outlinewidth\":0,\"ticks\":\"\"}},\"type\":\"scatterpolargl\"}],\"scatterternary\":[{\"marker\":{\"colorbar\":{\"outlinewidth\":0,\"ticks\":\"\"}},\"type\":\"scatterternary\"}],\"surface\":[{\"colorbar\":{\"outlinewidth\":0,\"ticks\":\"\"},\"colorscale\":[[0.0,\"#0d0887\"],[0.1111111111111111,\"#46039f\"],[0.2222222222222222,\"#7201a8\"],[0.3333333333333333,\"#9c179e\"],[0.4444444444444444,\"#bd3786\"],[0.5555555555555556,\"#d8576b\"],[0.6666666666666666,\"#ed7953\"],[0.7777777777777778,\"#fb9f3a\"],[0.8888888888888888,\"#fdca26\"],[1.0,\"#f0f921\"]],\"type\":\"surface\"}],\"table\":[{\"cells\":{\"fill\":{\"color\":\"#EBF0F8\"},\"line\":{\"color\":\"white\"}},\"header\":{\"fill\":{\"color\":\"#C8D4E3\"},\"line\":{\"color\":\"white\"}},\"type\":\"table\"}]},\"layout\":{\"annotationdefaults\":{\"arrowcolor\":\"#2a3f5f\",\"arrowhead\":0,\"arrowwidth\":1},\"autotypenumbers\":\"strict\",\"coloraxis\":{\"colorbar\":{\"outlinewidth\":0,\"ticks\":\"\"}},\"colorscale\":{\"diverging\":[[0,\"#8e0152\"],[0.1,\"#c51b7d\"],[0.2,\"#de77ae\"],[0.3,\"#f1b6da\"],[0.4,\"#fde0ef\"],[0.5,\"#f7f7f7\"],[0.6,\"#e6f5d0\"],[0.7,\"#b8e186\"],[0.8,\"#7fbc41\"],[0.9,\"#4d9221\"],[1,\"#276419\"]],\"sequential\":[[0.0,\"#0d0887\"],[0.1111111111111111,\"#46039f\"],[0.2222222222222222,\"#7201a8\"],[0.3333333333333333,\"#9c179e\"],[0.4444444444444444,\"#bd3786\"],[0.5555555555555556,\"#d8576b\"],[0.6666666666666666,\"#ed7953\"],[0.7777777777777778,\"#fb9f3a\"],[0.8888888888888888,\"#fdca26\"],[1.0,\"#f0f921\"]],\"sequentialminus\":[[0.0,\"#0d0887\"],[0.1111111111111111,\"#46039f\"],[0.2222222222222222,\"#7201a8\"],[0.3333333333333333,\"#9c179e\"],[0.4444444444444444,\"#bd3786\"],[0.5555555555555556,\"#d8576b\"],[0.6666666666666666,\"#ed7953\"],[0.7777777777777778,\"#fb9f3a\"],[0.8888888888888888,\"#fdca26\"],[1.0,\"#f0f921\"]]},\"colorway\":[\"#636efa\",\"#EF553B\",\"#00cc96\",\"#ab63fa\",\"#FFA15A\",\"#19d3f3\",\"#FF6692\",\"#B6E880\",\"#FF97FF\",\"#FECB52\"],\"font\":{\"color\":\"#2a3f5f\"},\"geo\":{\"bgcolor\":\"white\",\"lakecolor\":\"white\",\"landcolor\":\"#E5ECF6\",\"showlakes\":true,\"showland\":true,\"subunitcolor\":\"white\"},\"hoverlabel\":{\"align\":\"left\"},\"hovermode\":\"closest\",\"mapbox\":{\"style\":\"light\"},\"paper_bgcolor\":\"white\",\"plot_bgcolor\":\"#E5ECF6\",\"polar\":{\"angularaxis\":{\"gridcolor\":\"white\",\"linecolor\":\"white\",\"ticks\":\"\"},\"bgcolor\":\"#E5ECF6\",\"radialaxis\":{\"gridcolor\":\"white\",\"linecolor\":\"white\",\"ticks\":\"\"}},\"scene\":{\"xaxis\":{\"backgroundcolor\":\"#E5ECF6\",\"gridcolor\":\"white\",\"gridwidth\":2,\"linecolor\":\"white\",\"showbackground\":true,\"ticks\":\"\",\"zerolinecolor\":\"white\"},\"yaxis\":{\"backgroundcolor\":\"#E5ECF6\",\"gridcolor\":\"white\",\"gridwidth\":2,\"linecolor\":\"white\",\"showbackground\":true,\"ticks\":\"\",\"zerolinecolor\":\"white\"},\"zaxis\":{\"backgroundcolor\":\"#E5ECF6\",\"gridcolor\":\"white\",\"gridwidth\":2,\"linecolor\":\"white\",\"showbackground\":true,\"ticks\":\"\",\"zerolinecolor\":\"white\"}},\"shapedefaults\":{\"line\":{\"color\":\"#2a3f5f\"}},\"ternary\":{\"aaxis\":{\"gridcolor\":\"white\",\"linecolor\":\"white\",\"ticks\":\"\"},\"baxis\":{\"gridcolor\":\"white\",\"linecolor\":\"white\",\"ticks\":\"\"},\"bgcolor\":\"#E5ECF6\",\"caxis\":{\"gridcolor\":\"white\",\"linecolor\":\"white\",\"ticks\":\"\"}},\"title\":{\"x\":0.05},\"xaxis\":{\"automargin\":true,\"gridcolor\":\"white\",\"linecolor\":\"white\",\"ticks\":\"\",\"title\":{\"standoff\":15},\"zerolinecolor\":\"white\",\"zerolinewidth\":2},\"yaxis\":{\"automargin\":true,\"gridcolor\":\"white\",\"linecolor\":\"white\",\"ticks\":\"\",\"title\":{\"standoff\":15},\"zerolinecolor\":\"white\",\"zerolinewidth\":2}}},\"xaxis\":{\"anchor\":\"y\",\"domain\":[0.0,0.45]},\"yaxis\":{\"anchor\":\"x\",\"domain\":[0.7777777777777778,1.0]},\"xaxis2\":{\"anchor\":\"y2\",\"domain\":[0.55,1.0]},\"yaxis2\":{\"anchor\":\"x2\",\"domain\":[0.7777777777777778,1.0]},\"xaxis3\":{\"anchor\":\"y3\",\"domain\":[0.0,0.45]},\"yaxis3\":{\"anchor\":\"x3\",\"domain\":[0.3888888888888889,0.6111111111111112]},\"xaxis4\":{\"anchor\":\"y4\",\"domain\":[0.55,1.0]},\"yaxis4\":{\"anchor\":\"x4\",\"domain\":[0.3888888888888889,0.6111111111111112]},\"xaxis5\":{\"anchor\":\"y5\",\"domain\":[0.0,0.45]},\"yaxis5\":{\"anchor\":\"x5\",\"domain\":[0.0,0.22222222222222224]},\"xaxis6\":{\"anchor\":\"y6\",\"domain\":[0.55,1.0]},\"yaxis6\":{\"anchor\":\"x6\",\"domain\":[0.0,0.22222222222222224]},\"annotations\":[{\"font\":{\"size\":16},\"showarrow\":false,\"text\":\"Americas\",\"x\":0.225,\"xanchor\":\"center\",\"xref\":\"paper\",\"y\":1.0,\"yanchor\":\"bottom\",\"yref\":\"paper\"},{\"font\":{\"size\":16},\"showarrow\":false,\"text\":\"Oceania\",\"x\":0.775,\"xanchor\":\"center\",\"xref\":\"paper\",\"y\":1.0,\"yanchor\":\"bottom\",\"yref\":\"paper\"},{\"font\":{\"size\":16},\"showarrow\":false,\"text\":\"Europe\",\"x\":0.225,\"xanchor\":\"center\",\"xref\":\"paper\",\"y\":0.6111111111111112,\"yanchor\":\"bottom\",\"yref\":\"paper\"},{\"font\":{\"size\":16},\"showarrow\":false,\"text\":\"Asia\",\"x\":0.775,\"xanchor\":\"center\",\"xref\":\"paper\",\"y\":0.6111111111111112,\"yanchor\":\"bottom\",\"yref\":\"paper\"},{\"font\":{\"size\":16},\"showarrow\":false,\"text\":\"Africa\",\"x\":0.225,\"xanchor\":\"center\",\"xref\":\"paper\",\"y\":0.22222222222222224,\"yanchor\":\"bottom\",\"yref\":\"paper\"}],\"title\":{\"text\":\"Continets & Country wise Layoffs\"},\"height\":800,\"width\":1000,\"showlegend\":false},                        {\"responsive\": true}                    ).then(function(){\n",
              "                            \n",
              "var gd = document.getElementById('6f5aeed0-71e7-45be-9907-d06d9d5b2169');\n",
              "var x = new MutationObserver(function (mutations, observer) {{\n",
              "        var display = window.getComputedStyle(gd).display;\n",
              "        if (!display || display === 'none') {{\n",
              "            console.log([gd, 'removed!']);\n",
              "            Plotly.purge(gd);\n",
              "            observer.disconnect();\n",
              "        }}\n",
              "}});\n",
              "\n",
              "// Listen for the removal of the full notebook cells\n",
              "var notebookContainer = gd.closest('#notebook-container');\n",
              "if (notebookContainer) {{\n",
              "    x.observe(notebookContainer, {childList: true});\n",
              "}}\n",
              "\n",
              "// Listen for the clearing of the current output cell\n",
              "var outputEl = gd.closest('.output');\n",
              "if (outputEl) {{\n",
              "    x.observe(outputEl, {childList: true});\n",
              "}}\n",
              "\n",
              "                        })                };                            </script>        </div>\n",
              "</body>\n",
              "</html>"
            ]
          },
          "metadata": {}
        }
      ]
    },
    {
      "cell_type": "markdown",
      "source": [
        "## 100% layoffs company"
      ],
      "metadata": {
        "id": "o_UuthMes5DD"
      }
    },
    {
      "cell_type": "code",
      "source": [
        "lay_100 = df[df['Percentage']==1]\n",
        "\n",
        "### continent layoff 100% employees\n",
        "continent100perc_layoff = px.histogram(lay_100.dropna(subset=['Laid_Off_Count']), y='Company', x='Laid_Off_Count', histfunc='sum', \\\n",
        "                   text_auto=True, title='Company layoffs 100% employees',template=\"plotly_dark\")\n",
        "continent100perc_layoff.update_yaxes(categoryorder='total ascending')\n",
        "continent100perc_layoff.show()\n",
        "\n",
        "# all_graphs.append(continent100perc_layoff)"
      ],
      "metadata": {
        "colab": {
          "base_uri": "https://localhost:8080/",
          "height": 542
        },
        "id": "tiLaWyqvMqgM",
        "outputId": "c260f06b-229e-49fc-8b67-78a46bc4f4ea"
      },
      "execution_count": 52,
      "outputs": [
        {
          "output_type": "display_data",
          "data": {
            "text/html": [
              "<html>\n",
              "<head><meta charset=\"utf-8\" /></head>\n",
              "<body>\n",
              "    <div>            <script src=\"https://cdnjs.cloudflare.com/ajax/libs/mathjax/2.7.5/MathJax.js?config=TeX-AMS-MML_SVG\"></script><script type=\"text/javascript\">if (window.MathJax) {MathJax.Hub.Config({SVG: {font: \"STIX-Web\"}});}</script>                <script type=\"text/javascript\">window.PlotlyConfig = {MathJaxConfig: 'local'};</script>\n",
              "        <script src=\"https://cdn.plot.ly/plotly-2.8.3.min.js\"></script>                <div id=\"b4660d02-3de5-4d3c-9519-fd1a1ab44032\" class=\"plotly-graph-div\" style=\"height:525px; width:100%;\"></div>            <script type=\"text/javascript\">                                    window.PLOTLYENV=window.PLOTLYENV || {};                                    if (document.getElementById(\"b4660d02-3de5-4d3c-9519-fd1a1ab44032\")) {                    Plotly.newPlot(                        \"b4660d02-3de5-4d3c-9519-fd1a1ab44032\",                        [{\"alignmentgroup\":\"True\",\"bingroup\":\"y\",\"histfunc\":\"sum\",\"hovertemplate\":\"sum of Laid_Off_Count=%{x}<br>Company=%{y}<extra></extra>\",\"legendgroup\":\"\",\"marker\":{\"color\":\"#636efa\",\"pattern\":{\"shape\":\"\"}},\"name\":\"\",\"offsetgroup\":\"\",\"orientation\":\"h\",\"showlegend\":false,\"texttemplate\":\"%{value}\",\"x\":[16.0,84.0,13.0,250.0,17.0,6.0,4.0,250.0,500.0,669.0,10.0,221.0,137.0,6.0,87.0,20.0,154.0,21.0,45.0,13.0,2434.0,44.0,300.0,65.0,100.0,40.0,101.0,170.0,85.0,1000.0,120.0,75.0,140.0,150.0,100.0,65.0,100.0,200.0,120.0,60.0,206.0],\"xaxis\":\"x\",\"y\":[\"Help.com\",\"Ejento\",\"Consider.co\",\"HOOQ\",\"Amplero\",\"Atsu\",\"TutorMundi\",\"Stoqo\",\"Jump\",\"Deliv\",\"Dotscience\",\"Stay Alfred\",\"Bluprint\",\"Dark\",\"Buy.com / Rakuten\",\"Eatsy\",\"Bridge Connector\",\"Pocketmath\",\"Hubba\",\"Limelight\",\"Katerra\",\"Ahead\",\"SEND\",\"BeyondMinds\",\"Udayy\",\"The Grommet\",\"SummerBio\",\"Crejo.Fun\",\"WanderJaunt\",\"Butler Hospitality\",\"Soluto\",\"Metigy\",\"Reali\",\"Simple Feast\",\"Kitty Hawk\",\"Playdots\",\"Fifth Season\",\"Planetly\",\"Deliveroo Australia\",\"Protocol\",\"Britishvolt\"],\"yaxis\":\"y\",\"type\":\"histogram\"}],                        {\"template\":{\"data\":{\"barpolar\":[{\"marker\":{\"line\":{\"color\":\"rgb(17,17,17)\",\"width\":0.5},\"pattern\":{\"fillmode\":\"overlay\",\"size\":10,\"solidity\":0.2}},\"type\":\"barpolar\"}],\"bar\":[{\"error_x\":{\"color\":\"#f2f5fa\"},\"error_y\":{\"color\":\"#f2f5fa\"},\"marker\":{\"line\":{\"color\":\"rgb(17,17,17)\",\"width\":0.5},\"pattern\":{\"fillmode\":\"overlay\",\"size\":10,\"solidity\":0.2}},\"type\":\"bar\"}],\"carpet\":[{\"aaxis\":{\"endlinecolor\":\"#A2B1C6\",\"gridcolor\":\"#506784\",\"linecolor\":\"#506784\",\"minorgridcolor\":\"#506784\",\"startlinecolor\":\"#A2B1C6\"},\"baxis\":{\"endlinecolor\":\"#A2B1C6\",\"gridcolor\":\"#506784\",\"linecolor\":\"#506784\",\"minorgridcolor\":\"#506784\",\"startlinecolor\":\"#A2B1C6\"},\"type\":\"carpet\"}],\"choropleth\":[{\"colorbar\":{\"outlinewidth\":0,\"ticks\":\"\"},\"type\":\"choropleth\"}],\"contourcarpet\":[{\"colorbar\":{\"outlinewidth\":0,\"ticks\":\"\"},\"type\":\"contourcarpet\"}],\"contour\":[{\"colorbar\":{\"outlinewidth\":0,\"ticks\":\"\"},\"colorscale\":[[0.0,\"#0d0887\"],[0.1111111111111111,\"#46039f\"],[0.2222222222222222,\"#7201a8\"],[0.3333333333333333,\"#9c179e\"],[0.4444444444444444,\"#bd3786\"],[0.5555555555555556,\"#d8576b\"],[0.6666666666666666,\"#ed7953\"],[0.7777777777777778,\"#fb9f3a\"],[0.8888888888888888,\"#fdca26\"],[1.0,\"#f0f921\"]],\"type\":\"contour\"}],\"heatmapgl\":[{\"colorbar\":{\"outlinewidth\":0,\"ticks\":\"\"},\"colorscale\":[[0.0,\"#0d0887\"],[0.1111111111111111,\"#46039f\"],[0.2222222222222222,\"#7201a8\"],[0.3333333333333333,\"#9c179e\"],[0.4444444444444444,\"#bd3786\"],[0.5555555555555556,\"#d8576b\"],[0.6666666666666666,\"#ed7953\"],[0.7777777777777778,\"#fb9f3a\"],[0.8888888888888888,\"#fdca26\"],[1.0,\"#f0f921\"]],\"type\":\"heatmapgl\"}],\"heatmap\":[{\"colorbar\":{\"outlinewidth\":0,\"ticks\":\"\"},\"colorscale\":[[0.0,\"#0d0887\"],[0.1111111111111111,\"#46039f\"],[0.2222222222222222,\"#7201a8\"],[0.3333333333333333,\"#9c179e\"],[0.4444444444444444,\"#bd3786\"],[0.5555555555555556,\"#d8576b\"],[0.6666666666666666,\"#ed7953\"],[0.7777777777777778,\"#fb9f3a\"],[0.8888888888888888,\"#fdca26\"],[1.0,\"#f0f921\"]],\"type\":\"heatmap\"}],\"histogram2dcontour\":[{\"colorbar\":{\"outlinewidth\":0,\"ticks\":\"\"},\"colorscale\":[[0.0,\"#0d0887\"],[0.1111111111111111,\"#46039f\"],[0.2222222222222222,\"#7201a8\"],[0.3333333333333333,\"#9c179e\"],[0.4444444444444444,\"#bd3786\"],[0.5555555555555556,\"#d8576b\"],[0.6666666666666666,\"#ed7953\"],[0.7777777777777778,\"#fb9f3a\"],[0.8888888888888888,\"#fdca26\"],[1.0,\"#f0f921\"]],\"type\":\"histogram2dcontour\"}],\"histogram2d\":[{\"colorbar\":{\"outlinewidth\":0,\"ticks\":\"\"},\"colorscale\":[[0.0,\"#0d0887\"],[0.1111111111111111,\"#46039f\"],[0.2222222222222222,\"#7201a8\"],[0.3333333333333333,\"#9c179e\"],[0.4444444444444444,\"#bd3786\"],[0.5555555555555556,\"#d8576b\"],[0.6666666666666666,\"#ed7953\"],[0.7777777777777778,\"#fb9f3a\"],[0.8888888888888888,\"#fdca26\"],[1.0,\"#f0f921\"]],\"type\":\"histogram2d\"}],\"histogram\":[{\"marker\":{\"pattern\":{\"fillmode\":\"overlay\",\"size\":10,\"solidity\":0.2}},\"type\":\"histogram\"}],\"mesh3d\":[{\"colorbar\":{\"outlinewidth\":0,\"ticks\":\"\"},\"type\":\"mesh3d\"}],\"parcoords\":[{\"line\":{\"colorbar\":{\"outlinewidth\":0,\"ticks\":\"\"}},\"type\":\"parcoords\"}],\"pie\":[{\"automargin\":true,\"type\":\"pie\"}],\"scatter3d\":[{\"line\":{\"colorbar\":{\"outlinewidth\":0,\"ticks\":\"\"}},\"marker\":{\"colorbar\":{\"outlinewidth\":0,\"ticks\":\"\"}},\"type\":\"scatter3d\"}],\"scattercarpet\":[{\"marker\":{\"colorbar\":{\"outlinewidth\":0,\"ticks\":\"\"}},\"type\":\"scattercarpet\"}],\"scattergeo\":[{\"marker\":{\"colorbar\":{\"outlinewidth\":0,\"ticks\":\"\"}},\"type\":\"scattergeo\"}],\"scattergl\":[{\"marker\":{\"line\":{\"color\":\"#283442\"}},\"type\":\"scattergl\"}],\"scattermapbox\":[{\"marker\":{\"colorbar\":{\"outlinewidth\":0,\"ticks\":\"\"}},\"type\":\"scattermapbox\"}],\"scatterpolargl\":[{\"marker\":{\"colorbar\":{\"outlinewidth\":0,\"ticks\":\"\"}},\"type\":\"scatterpolargl\"}],\"scatterpolar\":[{\"marker\":{\"colorbar\":{\"outlinewidth\":0,\"ticks\":\"\"}},\"type\":\"scatterpolar\"}],\"scatter\":[{\"marker\":{\"line\":{\"color\":\"#283442\"}},\"type\":\"scatter\"}],\"scatterternary\":[{\"marker\":{\"colorbar\":{\"outlinewidth\":0,\"ticks\":\"\"}},\"type\":\"scatterternary\"}],\"surface\":[{\"colorbar\":{\"outlinewidth\":0,\"ticks\":\"\"},\"colorscale\":[[0.0,\"#0d0887\"],[0.1111111111111111,\"#46039f\"],[0.2222222222222222,\"#7201a8\"],[0.3333333333333333,\"#9c179e\"],[0.4444444444444444,\"#bd3786\"],[0.5555555555555556,\"#d8576b\"],[0.6666666666666666,\"#ed7953\"],[0.7777777777777778,\"#fb9f3a\"],[0.8888888888888888,\"#fdca26\"],[1.0,\"#f0f921\"]],\"type\":\"surface\"}],\"table\":[{\"cells\":{\"fill\":{\"color\":\"#506784\"},\"line\":{\"color\":\"rgb(17,17,17)\"}},\"header\":{\"fill\":{\"color\":\"#2a3f5f\"},\"line\":{\"color\":\"rgb(17,17,17)\"}},\"type\":\"table\"}]},\"layout\":{\"annotationdefaults\":{\"arrowcolor\":\"#f2f5fa\",\"arrowhead\":0,\"arrowwidth\":1},\"autotypenumbers\":\"strict\",\"coloraxis\":{\"colorbar\":{\"outlinewidth\":0,\"ticks\":\"\"}},\"colorscale\":{\"diverging\":[[0,\"#8e0152\"],[0.1,\"#c51b7d\"],[0.2,\"#de77ae\"],[0.3,\"#f1b6da\"],[0.4,\"#fde0ef\"],[0.5,\"#f7f7f7\"],[0.6,\"#e6f5d0\"],[0.7,\"#b8e186\"],[0.8,\"#7fbc41\"],[0.9,\"#4d9221\"],[1,\"#276419\"]],\"sequential\":[[0.0,\"#0d0887\"],[0.1111111111111111,\"#46039f\"],[0.2222222222222222,\"#7201a8\"],[0.3333333333333333,\"#9c179e\"],[0.4444444444444444,\"#bd3786\"],[0.5555555555555556,\"#d8576b\"],[0.6666666666666666,\"#ed7953\"],[0.7777777777777778,\"#fb9f3a\"],[0.8888888888888888,\"#fdca26\"],[1.0,\"#f0f921\"]],\"sequentialminus\":[[0.0,\"#0d0887\"],[0.1111111111111111,\"#46039f\"],[0.2222222222222222,\"#7201a8\"],[0.3333333333333333,\"#9c179e\"],[0.4444444444444444,\"#bd3786\"],[0.5555555555555556,\"#d8576b\"],[0.6666666666666666,\"#ed7953\"],[0.7777777777777778,\"#fb9f3a\"],[0.8888888888888888,\"#fdca26\"],[1.0,\"#f0f921\"]]},\"colorway\":[\"#636efa\",\"#EF553B\",\"#00cc96\",\"#ab63fa\",\"#FFA15A\",\"#19d3f3\",\"#FF6692\",\"#B6E880\",\"#FF97FF\",\"#FECB52\"],\"font\":{\"color\":\"#f2f5fa\"},\"geo\":{\"bgcolor\":\"rgb(17,17,17)\",\"lakecolor\":\"rgb(17,17,17)\",\"landcolor\":\"rgb(17,17,17)\",\"showlakes\":true,\"showland\":true,\"subunitcolor\":\"#506784\"},\"hoverlabel\":{\"align\":\"left\"},\"hovermode\":\"closest\",\"mapbox\":{\"style\":\"dark\"},\"paper_bgcolor\":\"rgb(17,17,17)\",\"plot_bgcolor\":\"rgb(17,17,17)\",\"polar\":{\"angularaxis\":{\"gridcolor\":\"#506784\",\"linecolor\":\"#506784\",\"ticks\":\"\"},\"bgcolor\":\"rgb(17,17,17)\",\"radialaxis\":{\"gridcolor\":\"#506784\",\"linecolor\":\"#506784\",\"ticks\":\"\"}},\"scene\":{\"xaxis\":{\"backgroundcolor\":\"rgb(17,17,17)\",\"gridcolor\":\"#506784\",\"gridwidth\":2,\"linecolor\":\"#506784\",\"showbackground\":true,\"ticks\":\"\",\"zerolinecolor\":\"#C8D4E3\"},\"yaxis\":{\"backgroundcolor\":\"rgb(17,17,17)\",\"gridcolor\":\"#506784\",\"gridwidth\":2,\"linecolor\":\"#506784\",\"showbackground\":true,\"ticks\":\"\",\"zerolinecolor\":\"#C8D4E3\"},\"zaxis\":{\"backgroundcolor\":\"rgb(17,17,17)\",\"gridcolor\":\"#506784\",\"gridwidth\":2,\"linecolor\":\"#506784\",\"showbackground\":true,\"ticks\":\"\",\"zerolinecolor\":\"#C8D4E3\"}},\"shapedefaults\":{\"line\":{\"color\":\"#f2f5fa\"}},\"sliderdefaults\":{\"bgcolor\":\"#C8D4E3\",\"bordercolor\":\"rgb(17,17,17)\",\"borderwidth\":1,\"tickwidth\":0},\"ternary\":{\"aaxis\":{\"gridcolor\":\"#506784\",\"linecolor\":\"#506784\",\"ticks\":\"\"},\"baxis\":{\"gridcolor\":\"#506784\",\"linecolor\":\"#506784\",\"ticks\":\"\"},\"bgcolor\":\"rgb(17,17,17)\",\"caxis\":{\"gridcolor\":\"#506784\",\"linecolor\":\"#506784\",\"ticks\":\"\"}},\"title\":{\"x\":0.05},\"updatemenudefaults\":{\"bgcolor\":\"#506784\",\"borderwidth\":0},\"xaxis\":{\"automargin\":true,\"gridcolor\":\"#283442\",\"linecolor\":\"#506784\",\"ticks\":\"\",\"title\":{\"standoff\":15},\"zerolinecolor\":\"#283442\",\"zerolinewidth\":2},\"yaxis\":{\"automargin\":true,\"gridcolor\":\"#283442\",\"linecolor\":\"#506784\",\"ticks\":\"\",\"title\":{\"standoff\":15},\"zerolinecolor\":\"#283442\",\"zerolinewidth\":2}}},\"xaxis\":{\"anchor\":\"y\",\"domain\":[0.0,1.0],\"title\":{\"text\":\"sum of Laid_Off_Count\"}},\"yaxis\":{\"anchor\":\"x\",\"domain\":[0.0,1.0],\"title\":{\"text\":\"Company\"},\"categoryorder\":\"total ascending\"},\"legend\":{\"tracegroupgap\":0},\"title\":{\"text\":\"Company layoffs 100% employees\"},\"barmode\":\"relative\"},                        {\"responsive\": true}                    ).then(function(){\n",
              "                            \n",
              "var gd = document.getElementById('b4660d02-3de5-4d3c-9519-fd1a1ab44032');\n",
              "var x = new MutationObserver(function (mutations, observer) {{\n",
              "        var display = window.getComputedStyle(gd).display;\n",
              "        if (!display || display === 'none') {{\n",
              "            console.log([gd, 'removed!']);\n",
              "            Plotly.purge(gd);\n",
              "            observer.disconnect();\n",
              "        }}\n",
              "}});\n",
              "\n",
              "// Listen for the removal of the full notebook cells\n",
              "var notebookContainer = gd.closest('#notebook-container');\n",
              "if (notebookContainer) {{\n",
              "    x.observe(notebookContainer, {childList: true});\n",
              "}}\n",
              "\n",
              "// Listen for the clearing of the current output cell\n",
              "var outputEl = gd.closest('.output');\n",
              "if (outputEl) {{\n",
              "    x.observe(outputEl, {childList: true});\n",
              "}}\n",
              "\n",
              "                        })                };                            </script>        </div>\n",
              "</body>\n",
              "</html>"
            ]
          },
          "metadata": {}
        }
      ]
    },
    {
      "cell_type": "code",
      "source": [
        "country_100per_layoff = lay_100.groupby('Country')['Laid_Off_Count'].sum().reset_index()\n",
        "country_100per_layoff = country_100per_layoff[country_100per_layoff['Laid_Off_Count']>0]\n",
        "\n",
        "country100perc_layoff_fig = px.pie(country_100per_layoff, names='Country', values='Laid_Off_Count',title='Top Countries in 100% layoffs',template=\"plotly_dark\")\n",
        "country100perc_layoff_fig.show()\n",
        "\n",
        "# all_graphs.append(country100perc_layoff_fig)"
      ],
      "metadata": {
        "colab": {
          "base_uri": "https://localhost:8080/",
          "height": 542
        },
        "id": "Im2wWjgSuHmA",
        "outputId": "41cb5918-74b8-42b7-b3cd-33147d757130"
      },
      "execution_count": 53,
      "outputs": [
        {
          "output_type": "display_data",
          "data": {
            "text/html": [
              "<html>\n",
              "<head><meta charset=\"utf-8\" /></head>\n",
              "<body>\n",
              "    <div>            <script src=\"https://cdnjs.cloudflare.com/ajax/libs/mathjax/2.7.5/MathJax.js?config=TeX-AMS-MML_SVG\"></script><script type=\"text/javascript\">if (window.MathJax) {MathJax.Hub.Config({SVG: {font: \"STIX-Web\"}});}</script>                <script type=\"text/javascript\">window.PlotlyConfig = {MathJaxConfig: 'local'};</script>\n",
              "        <script src=\"https://cdn.plot.ly/plotly-2.8.3.min.js\"></script>                <div id=\"3edc12f5-866a-4c8e-8248-142dcc4dfe6f\" class=\"plotly-graph-div\" style=\"height:525px; width:100%;\"></div>            <script type=\"text/javascript\">                                    window.PLOTLYENV=window.PLOTLYENV || {};                                    if (document.getElementById(\"3edc12f5-866a-4c8e-8248-142dcc4dfe6f\")) {                    Plotly.newPlot(                        \"3edc12f5-866a-4c8e-8248-142dcc4dfe6f\",                        [{\"domain\":{\"x\":[0.0,1.0],\"y\":[0.0,1.0]},\"hovertemplate\":\"Country=%{label}<br>Laid_Off_Count=%{value}<extra></extra>\",\"labels\":[\"Australia\",\"Brazil\",\"Canada\",\"Denmark\",\"Germany\",\"India\",\"Indonesia\",\"Israel\",\"Singapore\",\"United Kingdom\",\"United States\"],\"legendgroup\":\"\",\"name\":\"\",\"showlegend\":true,\"values\":[495.0,4.0,45.0,150.0,200.0,270.0,250.0,185.0,291.0,216.0,6092.0],\"type\":\"pie\"}],                        {\"template\":{\"data\":{\"barpolar\":[{\"marker\":{\"line\":{\"color\":\"rgb(17,17,17)\",\"width\":0.5},\"pattern\":{\"fillmode\":\"overlay\",\"size\":10,\"solidity\":0.2}},\"type\":\"barpolar\"}],\"bar\":[{\"error_x\":{\"color\":\"#f2f5fa\"},\"error_y\":{\"color\":\"#f2f5fa\"},\"marker\":{\"line\":{\"color\":\"rgb(17,17,17)\",\"width\":0.5},\"pattern\":{\"fillmode\":\"overlay\",\"size\":10,\"solidity\":0.2}},\"type\":\"bar\"}],\"carpet\":[{\"aaxis\":{\"endlinecolor\":\"#A2B1C6\",\"gridcolor\":\"#506784\",\"linecolor\":\"#506784\",\"minorgridcolor\":\"#506784\",\"startlinecolor\":\"#A2B1C6\"},\"baxis\":{\"endlinecolor\":\"#A2B1C6\",\"gridcolor\":\"#506784\",\"linecolor\":\"#506784\",\"minorgridcolor\":\"#506784\",\"startlinecolor\":\"#A2B1C6\"},\"type\":\"carpet\"}],\"choropleth\":[{\"colorbar\":{\"outlinewidth\":0,\"ticks\":\"\"},\"type\":\"choropleth\"}],\"contourcarpet\":[{\"colorbar\":{\"outlinewidth\":0,\"ticks\":\"\"},\"type\":\"contourcarpet\"}],\"contour\":[{\"colorbar\":{\"outlinewidth\":0,\"ticks\":\"\"},\"colorscale\":[[0.0,\"#0d0887\"],[0.1111111111111111,\"#46039f\"],[0.2222222222222222,\"#7201a8\"],[0.3333333333333333,\"#9c179e\"],[0.4444444444444444,\"#bd3786\"],[0.5555555555555556,\"#d8576b\"],[0.6666666666666666,\"#ed7953\"],[0.7777777777777778,\"#fb9f3a\"],[0.8888888888888888,\"#fdca26\"],[1.0,\"#f0f921\"]],\"type\":\"contour\"}],\"heatmapgl\":[{\"colorbar\":{\"outlinewidth\":0,\"ticks\":\"\"},\"colorscale\":[[0.0,\"#0d0887\"],[0.1111111111111111,\"#46039f\"],[0.2222222222222222,\"#7201a8\"],[0.3333333333333333,\"#9c179e\"],[0.4444444444444444,\"#bd3786\"],[0.5555555555555556,\"#d8576b\"],[0.6666666666666666,\"#ed7953\"],[0.7777777777777778,\"#fb9f3a\"],[0.8888888888888888,\"#fdca26\"],[1.0,\"#f0f921\"]],\"type\":\"heatmapgl\"}],\"heatmap\":[{\"colorbar\":{\"outlinewidth\":0,\"ticks\":\"\"},\"colorscale\":[[0.0,\"#0d0887\"],[0.1111111111111111,\"#46039f\"],[0.2222222222222222,\"#7201a8\"],[0.3333333333333333,\"#9c179e\"],[0.4444444444444444,\"#bd3786\"],[0.5555555555555556,\"#d8576b\"],[0.6666666666666666,\"#ed7953\"],[0.7777777777777778,\"#fb9f3a\"],[0.8888888888888888,\"#fdca26\"],[1.0,\"#f0f921\"]],\"type\":\"heatmap\"}],\"histogram2dcontour\":[{\"colorbar\":{\"outlinewidth\":0,\"ticks\":\"\"},\"colorscale\":[[0.0,\"#0d0887\"],[0.1111111111111111,\"#46039f\"],[0.2222222222222222,\"#7201a8\"],[0.3333333333333333,\"#9c179e\"],[0.4444444444444444,\"#bd3786\"],[0.5555555555555556,\"#d8576b\"],[0.6666666666666666,\"#ed7953\"],[0.7777777777777778,\"#fb9f3a\"],[0.8888888888888888,\"#fdca26\"],[1.0,\"#f0f921\"]],\"type\":\"histogram2dcontour\"}],\"histogram2d\":[{\"colorbar\":{\"outlinewidth\":0,\"ticks\":\"\"},\"colorscale\":[[0.0,\"#0d0887\"],[0.1111111111111111,\"#46039f\"],[0.2222222222222222,\"#7201a8\"],[0.3333333333333333,\"#9c179e\"],[0.4444444444444444,\"#bd3786\"],[0.5555555555555556,\"#d8576b\"],[0.6666666666666666,\"#ed7953\"],[0.7777777777777778,\"#fb9f3a\"],[0.8888888888888888,\"#fdca26\"],[1.0,\"#f0f921\"]],\"type\":\"histogram2d\"}],\"histogram\":[{\"marker\":{\"pattern\":{\"fillmode\":\"overlay\",\"size\":10,\"solidity\":0.2}},\"type\":\"histogram\"}],\"mesh3d\":[{\"colorbar\":{\"outlinewidth\":0,\"ticks\":\"\"},\"type\":\"mesh3d\"}],\"parcoords\":[{\"line\":{\"colorbar\":{\"outlinewidth\":0,\"ticks\":\"\"}},\"type\":\"parcoords\"}],\"pie\":[{\"automargin\":true,\"type\":\"pie\"}],\"scatter3d\":[{\"line\":{\"colorbar\":{\"outlinewidth\":0,\"ticks\":\"\"}},\"marker\":{\"colorbar\":{\"outlinewidth\":0,\"ticks\":\"\"}},\"type\":\"scatter3d\"}],\"scattercarpet\":[{\"marker\":{\"colorbar\":{\"outlinewidth\":0,\"ticks\":\"\"}},\"type\":\"scattercarpet\"}],\"scattergeo\":[{\"marker\":{\"colorbar\":{\"outlinewidth\":0,\"ticks\":\"\"}},\"type\":\"scattergeo\"}],\"scattergl\":[{\"marker\":{\"line\":{\"color\":\"#283442\"}},\"type\":\"scattergl\"}],\"scattermapbox\":[{\"marker\":{\"colorbar\":{\"outlinewidth\":0,\"ticks\":\"\"}},\"type\":\"scattermapbox\"}],\"scatterpolargl\":[{\"marker\":{\"colorbar\":{\"outlinewidth\":0,\"ticks\":\"\"}},\"type\":\"scatterpolargl\"}],\"scatterpolar\":[{\"marker\":{\"colorbar\":{\"outlinewidth\":0,\"ticks\":\"\"}},\"type\":\"scatterpolar\"}],\"scatter\":[{\"marker\":{\"line\":{\"color\":\"#283442\"}},\"type\":\"scatter\"}],\"scatterternary\":[{\"marker\":{\"colorbar\":{\"outlinewidth\":0,\"ticks\":\"\"}},\"type\":\"scatterternary\"}],\"surface\":[{\"colorbar\":{\"outlinewidth\":0,\"ticks\":\"\"},\"colorscale\":[[0.0,\"#0d0887\"],[0.1111111111111111,\"#46039f\"],[0.2222222222222222,\"#7201a8\"],[0.3333333333333333,\"#9c179e\"],[0.4444444444444444,\"#bd3786\"],[0.5555555555555556,\"#d8576b\"],[0.6666666666666666,\"#ed7953\"],[0.7777777777777778,\"#fb9f3a\"],[0.8888888888888888,\"#fdca26\"],[1.0,\"#f0f921\"]],\"type\":\"surface\"}],\"table\":[{\"cells\":{\"fill\":{\"color\":\"#506784\"},\"line\":{\"color\":\"rgb(17,17,17)\"}},\"header\":{\"fill\":{\"color\":\"#2a3f5f\"},\"line\":{\"color\":\"rgb(17,17,17)\"}},\"type\":\"table\"}]},\"layout\":{\"annotationdefaults\":{\"arrowcolor\":\"#f2f5fa\",\"arrowhead\":0,\"arrowwidth\":1},\"autotypenumbers\":\"strict\",\"coloraxis\":{\"colorbar\":{\"outlinewidth\":0,\"ticks\":\"\"}},\"colorscale\":{\"diverging\":[[0,\"#8e0152\"],[0.1,\"#c51b7d\"],[0.2,\"#de77ae\"],[0.3,\"#f1b6da\"],[0.4,\"#fde0ef\"],[0.5,\"#f7f7f7\"],[0.6,\"#e6f5d0\"],[0.7,\"#b8e186\"],[0.8,\"#7fbc41\"],[0.9,\"#4d9221\"],[1,\"#276419\"]],\"sequential\":[[0.0,\"#0d0887\"],[0.1111111111111111,\"#46039f\"],[0.2222222222222222,\"#7201a8\"],[0.3333333333333333,\"#9c179e\"],[0.4444444444444444,\"#bd3786\"],[0.5555555555555556,\"#d8576b\"],[0.6666666666666666,\"#ed7953\"],[0.7777777777777778,\"#fb9f3a\"],[0.8888888888888888,\"#fdca26\"],[1.0,\"#f0f921\"]],\"sequentialminus\":[[0.0,\"#0d0887\"],[0.1111111111111111,\"#46039f\"],[0.2222222222222222,\"#7201a8\"],[0.3333333333333333,\"#9c179e\"],[0.4444444444444444,\"#bd3786\"],[0.5555555555555556,\"#d8576b\"],[0.6666666666666666,\"#ed7953\"],[0.7777777777777778,\"#fb9f3a\"],[0.8888888888888888,\"#fdca26\"],[1.0,\"#f0f921\"]]},\"colorway\":[\"#636efa\",\"#EF553B\",\"#00cc96\",\"#ab63fa\",\"#FFA15A\",\"#19d3f3\",\"#FF6692\",\"#B6E880\",\"#FF97FF\",\"#FECB52\"],\"font\":{\"color\":\"#f2f5fa\"},\"geo\":{\"bgcolor\":\"rgb(17,17,17)\",\"lakecolor\":\"rgb(17,17,17)\",\"landcolor\":\"rgb(17,17,17)\",\"showlakes\":true,\"showland\":true,\"subunitcolor\":\"#506784\"},\"hoverlabel\":{\"align\":\"left\"},\"hovermode\":\"closest\",\"mapbox\":{\"style\":\"dark\"},\"paper_bgcolor\":\"rgb(17,17,17)\",\"plot_bgcolor\":\"rgb(17,17,17)\",\"polar\":{\"angularaxis\":{\"gridcolor\":\"#506784\",\"linecolor\":\"#506784\",\"ticks\":\"\"},\"bgcolor\":\"rgb(17,17,17)\",\"radialaxis\":{\"gridcolor\":\"#506784\",\"linecolor\":\"#506784\",\"ticks\":\"\"}},\"scene\":{\"xaxis\":{\"backgroundcolor\":\"rgb(17,17,17)\",\"gridcolor\":\"#506784\",\"gridwidth\":2,\"linecolor\":\"#506784\",\"showbackground\":true,\"ticks\":\"\",\"zerolinecolor\":\"#C8D4E3\"},\"yaxis\":{\"backgroundcolor\":\"rgb(17,17,17)\",\"gridcolor\":\"#506784\",\"gridwidth\":2,\"linecolor\":\"#506784\",\"showbackground\":true,\"ticks\":\"\",\"zerolinecolor\":\"#C8D4E3\"},\"zaxis\":{\"backgroundcolor\":\"rgb(17,17,17)\",\"gridcolor\":\"#506784\",\"gridwidth\":2,\"linecolor\":\"#506784\",\"showbackground\":true,\"ticks\":\"\",\"zerolinecolor\":\"#C8D4E3\"}},\"shapedefaults\":{\"line\":{\"color\":\"#f2f5fa\"}},\"sliderdefaults\":{\"bgcolor\":\"#C8D4E3\",\"bordercolor\":\"rgb(17,17,17)\",\"borderwidth\":1,\"tickwidth\":0},\"ternary\":{\"aaxis\":{\"gridcolor\":\"#506784\",\"linecolor\":\"#506784\",\"ticks\":\"\"},\"baxis\":{\"gridcolor\":\"#506784\",\"linecolor\":\"#506784\",\"ticks\":\"\"},\"bgcolor\":\"rgb(17,17,17)\",\"caxis\":{\"gridcolor\":\"#506784\",\"linecolor\":\"#506784\",\"ticks\":\"\"}},\"title\":{\"x\":0.05},\"updatemenudefaults\":{\"bgcolor\":\"#506784\",\"borderwidth\":0},\"xaxis\":{\"automargin\":true,\"gridcolor\":\"#283442\",\"linecolor\":\"#506784\",\"ticks\":\"\",\"title\":{\"standoff\":15},\"zerolinecolor\":\"#283442\",\"zerolinewidth\":2},\"yaxis\":{\"automargin\":true,\"gridcolor\":\"#283442\",\"linecolor\":\"#506784\",\"ticks\":\"\",\"title\":{\"standoff\":15},\"zerolinecolor\":\"#283442\",\"zerolinewidth\":2}}},\"legend\":{\"tracegroupgap\":0},\"title\":{\"text\":\"Top Countries in 100% layoffs\"}},                        {\"responsive\": true}                    ).then(function(){\n",
              "                            \n",
              "var gd = document.getElementById('3edc12f5-866a-4c8e-8248-142dcc4dfe6f');\n",
              "var x = new MutationObserver(function (mutations, observer) {{\n",
              "        var display = window.getComputedStyle(gd).display;\n",
              "        if (!display || display === 'none') {{\n",
              "            console.log([gd, 'removed!']);\n",
              "            Plotly.purge(gd);\n",
              "            observer.disconnect();\n",
              "        }}\n",
              "}});\n",
              "\n",
              "// Listen for the removal of the full notebook cells\n",
              "var notebookContainer = gd.closest('#notebook-container');\n",
              "if (notebookContainer) {{\n",
              "    x.observe(notebookContainer, {childList: true});\n",
              "}}\n",
              "\n",
              "// Listen for the clearing of the current output cell\n",
              "var outputEl = gd.closest('.output');\n",
              "if (outputEl) {{\n",
              "    x.observe(outputEl, {childList: true});\n",
              "}}\n",
              "\n",
              "                        })                };                            </script>        </div>\n",
              "</body>\n",
              "</html>"
            ]
          },
          "metadata": {}
        }
      ]
    },
    {
      "cell_type": "markdown",
      "source": [
        "#2023 top companies who layoff the most"
      ],
      "metadata": {
        "id": "PCiVypJy0ep8"
      }
    },
    {
      "cell_type": "code",
      "source": [
        "\n",
        "top_companies2023 = df[df['Year']==2023]\n",
        "top_companies2023 = top_companies2023.groupby('Company')['Laid_Off_Count'].sum().reset_index()\\\n",
        "                    .sort_values(by='Laid_Off_Count',ascending=False).reset_index(drop=True).iloc[:10,:]\n",
        "\n",
        "### Top companies in layoffs\n",
        "top_companies2023_fig = px.histogram(top_companies2023, y='Company', x='Laid_Off_Count', histfunc='sum', \\\n",
        "                   text_auto=True, title='Top Companies layoffs most employees in 2023',color_discrete_sequence=px.colors.sequential.RdBu,template=\"plotly_dark\")\n",
        "top_companies2023_fig.update_yaxes(categoryorder='total ascending')\n",
        "top_companies2023_fig.show()\n",
        "\n",
        "\n",
        "all_graphs.append(top_companies2023_fig)"
      ],
      "metadata": {
        "colab": {
          "base_uri": "https://localhost:8080/",
          "height": 542
        },
        "id": "PDf_LWUmwTpX",
        "outputId": "02043975-1203-47b9-dceb-1fcfafa18dbe"
      },
      "execution_count": 54,
      "outputs": [
        {
          "output_type": "display_data",
          "data": {
            "text/html": [
              "<html>\n",
              "<head><meta charset=\"utf-8\" /></head>\n",
              "<body>\n",
              "    <div>            <script src=\"https://cdnjs.cloudflare.com/ajax/libs/mathjax/2.7.5/MathJax.js?config=TeX-AMS-MML_SVG\"></script><script type=\"text/javascript\">if (window.MathJax) {MathJax.Hub.Config({SVG: {font: \"STIX-Web\"}});}</script>                <script type=\"text/javascript\">window.PlotlyConfig = {MathJaxConfig: 'local'};</script>\n",
              "        <script src=\"https://cdn.plot.ly/plotly-2.8.3.min.js\"></script>                <div id=\"be682be1-9b8b-41aa-892e-ac3039d683ff\" class=\"plotly-graph-div\" style=\"height:525px; width:100%;\"></div>            <script type=\"text/javascript\">                                    window.PLOTLYENV=window.PLOTLYENV || {};                                    if (document.getElementById(\"be682be1-9b8b-41aa-892e-ac3039d683ff\")) {                    Plotly.newPlot(                        \"be682be1-9b8b-41aa-892e-ac3039d683ff\",                        [{\"alignmentgroup\":\"True\",\"bingroup\":\"y\",\"histfunc\":\"sum\",\"hovertemplate\":\"sum of Laid_Off_Count=%{x}<br>Company=%{y}<extra></extra>\",\"legendgroup\":\"\",\"marker\":{\"color\":\"rgb(103,0,31)\",\"pattern\":{\"shape\":\"\"}},\"name\":\"\",\"offsetgroup\":\"\",\"orientation\":\"h\",\"showlegend\":false,\"texttemplate\":\"%{value}\",\"x\":[12000.0,10000.0,8000.0,8000.0,6650.0,6000.0,3900.0,3000.0,2000.0,1750.0],\"xaxis\":\"x\",\"y\":[\"Google\",\"Microsoft\",\"Salesforce\",\"Amazon\",\"Dell\",\"Philips\",\"IBM\",\"SAP\",\"PayPal\",\"Wayfair\"],\"yaxis\":\"y\",\"type\":\"histogram\"}],                        {\"template\":{\"data\":{\"barpolar\":[{\"marker\":{\"line\":{\"color\":\"rgb(17,17,17)\",\"width\":0.5},\"pattern\":{\"fillmode\":\"overlay\",\"size\":10,\"solidity\":0.2}},\"type\":\"barpolar\"}],\"bar\":[{\"error_x\":{\"color\":\"#f2f5fa\"},\"error_y\":{\"color\":\"#f2f5fa\"},\"marker\":{\"line\":{\"color\":\"rgb(17,17,17)\",\"width\":0.5},\"pattern\":{\"fillmode\":\"overlay\",\"size\":10,\"solidity\":0.2}},\"type\":\"bar\"}],\"carpet\":[{\"aaxis\":{\"endlinecolor\":\"#A2B1C6\",\"gridcolor\":\"#506784\",\"linecolor\":\"#506784\",\"minorgridcolor\":\"#506784\",\"startlinecolor\":\"#A2B1C6\"},\"baxis\":{\"endlinecolor\":\"#A2B1C6\",\"gridcolor\":\"#506784\",\"linecolor\":\"#506784\",\"minorgridcolor\":\"#506784\",\"startlinecolor\":\"#A2B1C6\"},\"type\":\"carpet\"}],\"choropleth\":[{\"colorbar\":{\"outlinewidth\":0,\"ticks\":\"\"},\"type\":\"choropleth\"}],\"contourcarpet\":[{\"colorbar\":{\"outlinewidth\":0,\"ticks\":\"\"},\"type\":\"contourcarpet\"}],\"contour\":[{\"colorbar\":{\"outlinewidth\":0,\"ticks\":\"\"},\"colorscale\":[[0.0,\"#0d0887\"],[0.1111111111111111,\"#46039f\"],[0.2222222222222222,\"#7201a8\"],[0.3333333333333333,\"#9c179e\"],[0.4444444444444444,\"#bd3786\"],[0.5555555555555556,\"#d8576b\"],[0.6666666666666666,\"#ed7953\"],[0.7777777777777778,\"#fb9f3a\"],[0.8888888888888888,\"#fdca26\"],[1.0,\"#f0f921\"]],\"type\":\"contour\"}],\"heatmapgl\":[{\"colorbar\":{\"outlinewidth\":0,\"ticks\":\"\"},\"colorscale\":[[0.0,\"#0d0887\"],[0.1111111111111111,\"#46039f\"],[0.2222222222222222,\"#7201a8\"],[0.3333333333333333,\"#9c179e\"],[0.4444444444444444,\"#bd3786\"],[0.5555555555555556,\"#d8576b\"],[0.6666666666666666,\"#ed7953\"],[0.7777777777777778,\"#fb9f3a\"],[0.8888888888888888,\"#fdca26\"],[1.0,\"#f0f921\"]],\"type\":\"heatmapgl\"}],\"heatmap\":[{\"colorbar\":{\"outlinewidth\":0,\"ticks\":\"\"},\"colorscale\":[[0.0,\"#0d0887\"],[0.1111111111111111,\"#46039f\"],[0.2222222222222222,\"#7201a8\"],[0.3333333333333333,\"#9c179e\"],[0.4444444444444444,\"#bd3786\"],[0.5555555555555556,\"#d8576b\"],[0.6666666666666666,\"#ed7953\"],[0.7777777777777778,\"#fb9f3a\"],[0.8888888888888888,\"#fdca26\"],[1.0,\"#f0f921\"]],\"type\":\"heatmap\"}],\"histogram2dcontour\":[{\"colorbar\":{\"outlinewidth\":0,\"ticks\":\"\"},\"colorscale\":[[0.0,\"#0d0887\"],[0.1111111111111111,\"#46039f\"],[0.2222222222222222,\"#7201a8\"],[0.3333333333333333,\"#9c179e\"],[0.4444444444444444,\"#bd3786\"],[0.5555555555555556,\"#d8576b\"],[0.6666666666666666,\"#ed7953\"],[0.7777777777777778,\"#fb9f3a\"],[0.8888888888888888,\"#fdca26\"],[1.0,\"#f0f921\"]],\"type\":\"histogram2dcontour\"}],\"histogram2d\":[{\"colorbar\":{\"outlinewidth\":0,\"ticks\":\"\"},\"colorscale\":[[0.0,\"#0d0887\"],[0.1111111111111111,\"#46039f\"],[0.2222222222222222,\"#7201a8\"],[0.3333333333333333,\"#9c179e\"],[0.4444444444444444,\"#bd3786\"],[0.5555555555555556,\"#d8576b\"],[0.6666666666666666,\"#ed7953\"],[0.7777777777777778,\"#fb9f3a\"],[0.8888888888888888,\"#fdca26\"],[1.0,\"#f0f921\"]],\"type\":\"histogram2d\"}],\"histogram\":[{\"marker\":{\"pattern\":{\"fillmode\":\"overlay\",\"size\":10,\"solidity\":0.2}},\"type\":\"histogram\"}],\"mesh3d\":[{\"colorbar\":{\"outlinewidth\":0,\"ticks\":\"\"},\"type\":\"mesh3d\"}],\"parcoords\":[{\"line\":{\"colorbar\":{\"outlinewidth\":0,\"ticks\":\"\"}},\"type\":\"parcoords\"}],\"pie\":[{\"automargin\":true,\"type\":\"pie\"}],\"scatter3d\":[{\"line\":{\"colorbar\":{\"outlinewidth\":0,\"ticks\":\"\"}},\"marker\":{\"colorbar\":{\"outlinewidth\":0,\"ticks\":\"\"}},\"type\":\"scatter3d\"}],\"scattercarpet\":[{\"marker\":{\"colorbar\":{\"outlinewidth\":0,\"ticks\":\"\"}},\"type\":\"scattercarpet\"}],\"scattergeo\":[{\"marker\":{\"colorbar\":{\"outlinewidth\":0,\"ticks\":\"\"}},\"type\":\"scattergeo\"}],\"scattergl\":[{\"marker\":{\"line\":{\"color\":\"#283442\"}},\"type\":\"scattergl\"}],\"scattermapbox\":[{\"marker\":{\"colorbar\":{\"outlinewidth\":0,\"ticks\":\"\"}},\"type\":\"scattermapbox\"}],\"scatterpolargl\":[{\"marker\":{\"colorbar\":{\"outlinewidth\":0,\"ticks\":\"\"}},\"type\":\"scatterpolargl\"}],\"scatterpolar\":[{\"marker\":{\"colorbar\":{\"outlinewidth\":0,\"ticks\":\"\"}},\"type\":\"scatterpolar\"}],\"scatter\":[{\"marker\":{\"line\":{\"color\":\"#283442\"}},\"type\":\"scatter\"}],\"scatterternary\":[{\"marker\":{\"colorbar\":{\"outlinewidth\":0,\"ticks\":\"\"}},\"type\":\"scatterternary\"}],\"surface\":[{\"colorbar\":{\"outlinewidth\":0,\"ticks\":\"\"},\"colorscale\":[[0.0,\"#0d0887\"],[0.1111111111111111,\"#46039f\"],[0.2222222222222222,\"#7201a8\"],[0.3333333333333333,\"#9c179e\"],[0.4444444444444444,\"#bd3786\"],[0.5555555555555556,\"#d8576b\"],[0.6666666666666666,\"#ed7953\"],[0.7777777777777778,\"#fb9f3a\"],[0.8888888888888888,\"#fdca26\"],[1.0,\"#f0f921\"]],\"type\":\"surface\"}],\"table\":[{\"cells\":{\"fill\":{\"color\":\"#506784\"},\"line\":{\"color\":\"rgb(17,17,17)\"}},\"header\":{\"fill\":{\"color\":\"#2a3f5f\"},\"line\":{\"color\":\"rgb(17,17,17)\"}},\"type\":\"table\"}]},\"layout\":{\"annotationdefaults\":{\"arrowcolor\":\"#f2f5fa\",\"arrowhead\":0,\"arrowwidth\":1},\"autotypenumbers\":\"strict\",\"coloraxis\":{\"colorbar\":{\"outlinewidth\":0,\"ticks\":\"\"}},\"colorscale\":{\"diverging\":[[0,\"#8e0152\"],[0.1,\"#c51b7d\"],[0.2,\"#de77ae\"],[0.3,\"#f1b6da\"],[0.4,\"#fde0ef\"],[0.5,\"#f7f7f7\"],[0.6,\"#e6f5d0\"],[0.7,\"#b8e186\"],[0.8,\"#7fbc41\"],[0.9,\"#4d9221\"],[1,\"#276419\"]],\"sequential\":[[0.0,\"#0d0887\"],[0.1111111111111111,\"#46039f\"],[0.2222222222222222,\"#7201a8\"],[0.3333333333333333,\"#9c179e\"],[0.4444444444444444,\"#bd3786\"],[0.5555555555555556,\"#d8576b\"],[0.6666666666666666,\"#ed7953\"],[0.7777777777777778,\"#fb9f3a\"],[0.8888888888888888,\"#fdca26\"],[1.0,\"#f0f921\"]],\"sequentialminus\":[[0.0,\"#0d0887\"],[0.1111111111111111,\"#46039f\"],[0.2222222222222222,\"#7201a8\"],[0.3333333333333333,\"#9c179e\"],[0.4444444444444444,\"#bd3786\"],[0.5555555555555556,\"#d8576b\"],[0.6666666666666666,\"#ed7953\"],[0.7777777777777778,\"#fb9f3a\"],[0.8888888888888888,\"#fdca26\"],[1.0,\"#f0f921\"]]},\"colorway\":[\"#636efa\",\"#EF553B\",\"#00cc96\",\"#ab63fa\",\"#FFA15A\",\"#19d3f3\",\"#FF6692\",\"#B6E880\",\"#FF97FF\",\"#FECB52\"],\"font\":{\"color\":\"#f2f5fa\"},\"geo\":{\"bgcolor\":\"rgb(17,17,17)\",\"lakecolor\":\"rgb(17,17,17)\",\"landcolor\":\"rgb(17,17,17)\",\"showlakes\":true,\"showland\":true,\"subunitcolor\":\"#506784\"},\"hoverlabel\":{\"align\":\"left\"},\"hovermode\":\"closest\",\"mapbox\":{\"style\":\"dark\"},\"paper_bgcolor\":\"rgb(17,17,17)\",\"plot_bgcolor\":\"rgb(17,17,17)\",\"polar\":{\"angularaxis\":{\"gridcolor\":\"#506784\",\"linecolor\":\"#506784\",\"ticks\":\"\"},\"bgcolor\":\"rgb(17,17,17)\",\"radialaxis\":{\"gridcolor\":\"#506784\",\"linecolor\":\"#506784\",\"ticks\":\"\"}},\"scene\":{\"xaxis\":{\"backgroundcolor\":\"rgb(17,17,17)\",\"gridcolor\":\"#506784\",\"gridwidth\":2,\"linecolor\":\"#506784\",\"showbackground\":true,\"ticks\":\"\",\"zerolinecolor\":\"#C8D4E3\"},\"yaxis\":{\"backgroundcolor\":\"rgb(17,17,17)\",\"gridcolor\":\"#506784\",\"gridwidth\":2,\"linecolor\":\"#506784\",\"showbackground\":true,\"ticks\":\"\",\"zerolinecolor\":\"#C8D4E3\"},\"zaxis\":{\"backgroundcolor\":\"rgb(17,17,17)\",\"gridcolor\":\"#506784\",\"gridwidth\":2,\"linecolor\":\"#506784\",\"showbackground\":true,\"ticks\":\"\",\"zerolinecolor\":\"#C8D4E3\"}},\"shapedefaults\":{\"line\":{\"color\":\"#f2f5fa\"}},\"sliderdefaults\":{\"bgcolor\":\"#C8D4E3\",\"bordercolor\":\"rgb(17,17,17)\",\"borderwidth\":1,\"tickwidth\":0},\"ternary\":{\"aaxis\":{\"gridcolor\":\"#506784\",\"linecolor\":\"#506784\",\"ticks\":\"\"},\"baxis\":{\"gridcolor\":\"#506784\",\"linecolor\":\"#506784\",\"ticks\":\"\"},\"bgcolor\":\"rgb(17,17,17)\",\"caxis\":{\"gridcolor\":\"#506784\",\"linecolor\":\"#506784\",\"ticks\":\"\"}},\"title\":{\"x\":0.05},\"updatemenudefaults\":{\"bgcolor\":\"#506784\",\"borderwidth\":0},\"xaxis\":{\"automargin\":true,\"gridcolor\":\"#283442\",\"linecolor\":\"#506784\",\"ticks\":\"\",\"title\":{\"standoff\":15},\"zerolinecolor\":\"#283442\",\"zerolinewidth\":2},\"yaxis\":{\"automargin\":true,\"gridcolor\":\"#283442\",\"linecolor\":\"#506784\",\"ticks\":\"\",\"title\":{\"standoff\":15},\"zerolinecolor\":\"#283442\",\"zerolinewidth\":2}}},\"xaxis\":{\"anchor\":\"y\",\"domain\":[0.0,1.0],\"title\":{\"text\":\"sum of Laid_Off_Count\"}},\"yaxis\":{\"anchor\":\"x\",\"domain\":[0.0,1.0],\"title\":{\"text\":\"Company\"},\"categoryorder\":\"total ascending\"},\"legend\":{\"tracegroupgap\":0},\"title\":{\"text\":\"Top Companies layoffs most employees in 2023\"},\"barmode\":\"relative\"},                        {\"responsive\": true}                    ).then(function(){\n",
              "                            \n",
              "var gd = document.getElementById('be682be1-9b8b-41aa-892e-ac3039d683ff');\n",
              "var x = new MutationObserver(function (mutations, observer) {{\n",
              "        var display = window.getComputedStyle(gd).display;\n",
              "        if (!display || display === 'none') {{\n",
              "            console.log([gd, 'removed!']);\n",
              "            Plotly.purge(gd);\n",
              "            observer.disconnect();\n",
              "        }}\n",
              "}});\n",
              "\n",
              "// Listen for the removal of the full notebook cells\n",
              "var notebookContainer = gd.closest('#notebook-container');\n",
              "if (notebookContainer) {{\n",
              "    x.observe(notebookContainer, {childList: true});\n",
              "}}\n",
              "\n",
              "// Listen for the clearing of the current output cell\n",
              "var outputEl = gd.closest('.output');\n",
              "if (outputEl) {{\n",
              "    x.observe(outputEl, {childList: true});\n",
              "}}\n",
              "\n",
              "                        })                };                            </script>        </div>\n",
              "</body>\n",
              "</html>"
            ]
          },
          "metadata": {}
        }
      ]
    },
    {
      "cell_type": "code",
      "source": [
        "top_companies_details = df.loc[(df['Company'].isin(top_companies2023['Company'].values)) & (df['Year']==2023)]\n",
        "top_companies_details.sort_values(by='Laid_Off_Count',ascending=False,inplace=True)\n",
        "\n",
        "for company, percentage, total in zip(top_companies_details['Company'],top_companies_details['Percentage'],\\\n",
        "                               top_companies_details['Laid_Off_Count']):\n",
        "  print(f'{company} laidoff {round(percentage*100,2)}% employees. => {total}')"
      ],
      "metadata": {
        "colab": {
          "base_uri": "https://localhost:8080/"
        },
        "id": "xaiCE9VMwFxT",
        "outputId": "ed531714-16f2-42d9-9c75-817c15464cec"
      },
      "execution_count": 55,
      "outputs": [
        {
          "output_type": "stream",
          "name": "stdout",
          "text": [
            "Google laidoff 6.0% employees. => 12000.0\n",
            "Microsoft laidoff 5.0% employees. => 10000.0\n",
            "Amazon laidoff 2.0% employees. => 8000.0\n",
            "Salesforce laidoff 10.0% employees. => 8000.0\n",
            "Dell laidoff 5.0% employees. => 6650.0\n",
            "Philips laidoff 13.0% employees. => 6000.0\n",
            "IBM laidoff 2.0% employees. => 3900.0\n",
            "SAP laidoff 3.0% employees. => 3000.0\n",
            "PayPal laidoff 7.0% employees. => 2000.0\n",
            "Wayfair laidoff 10.0% employees. => 1750.0\n"
          ]
        },
        {
          "output_type": "stream",
          "name": "stderr",
          "text": [
            "/usr/local/lib/python3.8/dist-packages/pandas/util/_decorators.py:311: SettingWithCopyWarning:\n",
            "\n",
            "\n",
            "A value is trying to be set on a copy of a slice from a DataFrame\n",
            "\n",
            "See the caveats in the documentation: https://pandas.pydata.org/pandas-docs/stable/user_guide/indexing.html#returning-a-view-versus-a-copy\n",
            "\n"
          ]
        }
      ]
    },
    {
      "cell_type": "markdown",
      "source": [
        "# Deploy on plotly Dash"
      ],
      "metadata": {
        "id": "uia-66YZARxy"
      }
    },
    {
      "cell_type": "code",
      "source": [
        "!pip install Dash\n",
        "!pip install dash_bootstrap_components\n",
        "!pip install jupyter-dash"
      ],
      "metadata": {
        "colab": {
          "base_uri": "https://localhost:8080/"
        },
        "id": "0_kqwg0QARMI",
        "outputId": "063f2aba-cc8b-4414-9b77-d4e95e8499fd"
      },
      "execution_count": 56,
      "outputs": [
        {
          "output_type": "stream",
          "name": "stdout",
          "text": [
            "Looking in indexes: https://pypi.org/simple, https://us-python.pkg.dev/colab-wheels/public/simple/\n",
            "Requirement already satisfied: Dash in /usr/local/lib/python3.8/dist-packages (2.8.1)\n",
            "Requirement already satisfied: plotly>=5.0.0 in /usr/local/lib/python3.8/dist-packages (from Dash) (5.5.0)\n",
            "Requirement already satisfied: dash-table==5.0.0 in /usr/local/lib/python3.8/dist-packages (from Dash) (5.0.0)\n",
            "Requirement already satisfied: Flask>=1.0.4 in /usr/local/lib/python3.8/dist-packages (from Dash) (2.2.3)\n",
            "Requirement already satisfied: dash-core-components==2.0.0 in /usr/local/lib/python3.8/dist-packages (from Dash) (2.0.0)\n",
            "Requirement already satisfied: dash-html-components==2.0.0 in /usr/local/lib/python3.8/dist-packages (from Dash) (2.0.0)\n",
            "Requirement already satisfied: Jinja2>=3.0 in /usr/local/lib/python3.8/dist-packages (from Flask>=1.0.4->Dash) (3.1.2)\n",
            "Requirement already satisfied: importlib-metadata>=3.6.0 in /usr/local/lib/python3.8/dist-packages (from Flask>=1.0.4->Dash) (6.0.0)\n",
            "Requirement already satisfied: Werkzeug>=2.2.2 in /usr/local/lib/python3.8/dist-packages (from Flask>=1.0.4->Dash) (2.2.3)\n",
            "Requirement already satisfied: click>=8.0 in /usr/local/lib/python3.8/dist-packages (from Flask>=1.0.4->Dash) (8.1.3)\n",
            "Requirement already satisfied: itsdangerous>=2.0 in /usr/local/lib/python3.8/dist-packages (from Flask>=1.0.4->Dash) (2.1.2)\n",
            "Requirement already satisfied: tenacity>=6.2.0 in /usr/local/lib/python3.8/dist-packages (from plotly>=5.0.0->Dash) (8.2.2)\n",
            "Requirement already satisfied: six in /usr/local/lib/python3.8/dist-packages (from plotly>=5.0.0->Dash) (1.15.0)\n",
            "Requirement already satisfied: zipp>=0.5 in /usr/local/lib/python3.8/dist-packages (from importlib-metadata>=3.6.0->Flask>=1.0.4->Dash) (3.15.0)\n",
            "Requirement already satisfied: MarkupSafe>=2.0 in /usr/local/lib/python3.8/dist-packages (from Jinja2>=3.0->Flask>=1.0.4->Dash) (2.1.2)\n",
            "Looking in indexes: https://pypi.org/simple, https://us-python.pkg.dev/colab-wheels/public/simple/\n",
            "Requirement already satisfied: dash_bootstrap_components in /usr/local/lib/python3.8/dist-packages (1.4.0)\n",
            "Requirement already satisfied: dash>=2.0.0 in /usr/local/lib/python3.8/dist-packages (from dash_bootstrap_components) (2.8.1)\n",
            "Requirement already satisfied: plotly>=5.0.0 in /usr/local/lib/python3.8/dist-packages (from dash>=2.0.0->dash_bootstrap_components) (5.5.0)\n",
            "Requirement already satisfied: dash-table==5.0.0 in /usr/local/lib/python3.8/dist-packages (from dash>=2.0.0->dash_bootstrap_components) (5.0.0)\n",
            "Requirement already satisfied: dash-html-components==2.0.0 in /usr/local/lib/python3.8/dist-packages (from dash>=2.0.0->dash_bootstrap_components) (2.0.0)\n",
            "Requirement already satisfied: dash-core-components==2.0.0 in /usr/local/lib/python3.8/dist-packages (from dash>=2.0.0->dash_bootstrap_components) (2.0.0)\n",
            "Requirement already satisfied: Flask>=1.0.4 in /usr/local/lib/python3.8/dist-packages (from dash>=2.0.0->dash_bootstrap_components) (2.2.3)\n",
            "Requirement already satisfied: Jinja2>=3.0 in /usr/local/lib/python3.8/dist-packages (from Flask>=1.0.4->dash>=2.0.0->dash_bootstrap_components) (3.1.2)\n",
            "Requirement already satisfied: importlib-metadata>=3.6.0 in /usr/local/lib/python3.8/dist-packages (from Flask>=1.0.4->dash>=2.0.0->dash_bootstrap_components) (6.0.0)\n",
            "Requirement already satisfied: click>=8.0 in /usr/local/lib/python3.8/dist-packages (from Flask>=1.0.4->dash>=2.0.0->dash_bootstrap_components) (8.1.3)\n",
            "Requirement already satisfied: itsdangerous>=2.0 in /usr/local/lib/python3.8/dist-packages (from Flask>=1.0.4->dash>=2.0.0->dash_bootstrap_components) (2.1.2)\n",
            "Requirement already satisfied: Werkzeug>=2.2.2 in /usr/local/lib/python3.8/dist-packages (from Flask>=1.0.4->dash>=2.0.0->dash_bootstrap_components) (2.2.3)\n",
            "Requirement already satisfied: six in /usr/local/lib/python3.8/dist-packages (from plotly>=5.0.0->dash>=2.0.0->dash_bootstrap_components) (1.15.0)\n",
            "Requirement already satisfied: tenacity>=6.2.0 in /usr/local/lib/python3.8/dist-packages (from plotly>=5.0.0->dash>=2.0.0->dash_bootstrap_components) (8.2.2)\n",
            "Requirement already satisfied: zipp>=0.5 in /usr/local/lib/python3.8/dist-packages (from importlib-metadata>=3.6.0->Flask>=1.0.4->dash>=2.0.0->dash_bootstrap_components) (3.15.0)\n",
            "Requirement already satisfied: MarkupSafe>=2.0 in /usr/local/lib/python3.8/dist-packages (from Jinja2>=3.0->Flask>=1.0.4->dash>=2.0.0->dash_bootstrap_components) (2.1.2)\n",
            "Looking in indexes: https://pypi.org/simple, https://us-python.pkg.dev/colab-wheels/public/simple/\n",
            "Requirement already satisfied: jupyter-dash in /usr/local/lib/python3.8/dist-packages (0.4.2)\n",
            "Requirement already satisfied: requests in /usr/local/lib/python3.8/dist-packages (from jupyter-dash) (2.25.1)\n",
            "Requirement already satisfied: nest-asyncio in /usr/local/lib/python3.8/dist-packages (from jupyter-dash) (1.5.6)\n",
            "Requirement already satisfied: ipykernel in /usr/local/lib/python3.8/dist-packages (from jupyter-dash) (5.3.4)\n",
            "Requirement already satisfied: ansi2html in /usr/local/lib/python3.8/dist-packages (from jupyter-dash) (1.8.0)\n",
            "Requirement already satisfied: flask in /usr/local/lib/python3.8/dist-packages (from jupyter-dash) (2.2.3)\n",
            "Requirement already satisfied: dash in /usr/local/lib/python3.8/dist-packages (from jupyter-dash) (2.8.1)\n",
            "Requirement already satisfied: ipython in /usr/local/lib/python3.8/dist-packages (from jupyter-dash) (7.9.0)\n",
            "Requirement already satisfied: retrying in /usr/local/lib/python3.8/dist-packages (from jupyter-dash) (1.3.4)\n",
            "Requirement already satisfied: dash-html-components==2.0.0 in /usr/local/lib/python3.8/dist-packages (from dash->jupyter-dash) (2.0.0)\n",
            "Requirement already satisfied: dash-core-components==2.0.0 in /usr/local/lib/python3.8/dist-packages (from dash->jupyter-dash) (2.0.0)\n",
            "Requirement already satisfied: dash-table==5.0.0 in /usr/local/lib/python3.8/dist-packages (from dash->jupyter-dash) (5.0.0)\n",
            "Requirement already satisfied: plotly>=5.0.0 in /usr/local/lib/python3.8/dist-packages (from dash->jupyter-dash) (5.5.0)\n",
            "Requirement already satisfied: Jinja2>=3.0 in /usr/local/lib/python3.8/dist-packages (from flask->jupyter-dash) (3.1.2)\n",
            "Requirement already satisfied: itsdangerous>=2.0 in /usr/local/lib/python3.8/dist-packages (from flask->jupyter-dash) (2.1.2)\n",
            "Requirement already satisfied: importlib-metadata>=3.6.0 in /usr/local/lib/python3.8/dist-packages (from flask->jupyter-dash) (6.0.0)\n",
            "Requirement already satisfied: Werkzeug>=2.2.2 in /usr/local/lib/python3.8/dist-packages (from flask->jupyter-dash) (2.2.3)\n",
            "Requirement already satisfied: click>=8.0 in /usr/local/lib/python3.8/dist-packages (from flask->jupyter-dash) (8.1.3)\n",
            "Requirement already satisfied: traitlets>=4.1.0 in /usr/local/lib/python3.8/dist-packages (from ipykernel->jupyter-dash) (5.7.1)\n",
            "Requirement already satisfied: tornado>=4.2 in /usr/local/lib/python3.8/dist-packages (from ipykernel->jupyter-dash) (6.2)\n",
            "Requirement already satisfied: jupyter-client in /usr/local/lib/python3.8/dist-packages (from ipykernel->jupyter-dash) (6.1.12)\n",
            "Requirement already satisfied: jedi>=0.10 in /usr/local/lib/python3.8/dist-packages (from ipython->jupyter-dash) (0.18.2)\n",
            "Requirement already satisfied: pexpect in /usr/local/lib/python3.8/dist-packages (from ipython->jupyter-dash) (4.8.0)\n",
            "Requirement already satisfied: setuptools>=18.5 in /usr/local/lib/python3.8/dist-packages (from ipython->jupyter-dash) (57.4.0)\n",
            "Requirement already satisfied: backcall in /usr/local/lib/python3.8/dist-packages (from ipython->jupyter-dash) (0.2.0)\n",
            "Requirement already satisfied: pygments in /usr/local/lib/python3.8/dist-packages (from ipython->jupyter-dash) (2.6.1)\n",
            "Requirement already satisfied: decorator in /usr/local/lib/python3.8/dist-packages (from ipython->jupyter-dash) (4.4.2)\n",
            "Requirement already satisfied: prompt-toolkit<2.1.0,>=2.0.0 in /usr/local/lib/python3.8/dist-packages (from ipython->jupyter-dash) (2.0.10)\n",
            "Requirement already satisfied: pickleshare in /usr/local/lib/python3.8/dist-packages (from ipython->jupyter-dash) (0.7.5)\n",
            "Requirement already satisfied: idna<3,>=2.5 in /usr/local/lib/python3.8/dist-packages (from requests->jupyter-dash) (2.10)\n",
            "Requirement already satisfied: certifi>=2017.4.17 in /usr/local/lib/python3.8/dist-packages (from requests->jupyter-dash) (2022.12.7)\n",
            "Requirement already satisfied: urllib3<1.27,>=1.21.1 in /usr/local/lib/python3.8/dist-packages (from requests->jupyter-dash) (1.26.14)\n",
            "Requirement already satisfied: chardet<5,>=3.0.2 in /usr/local/lib/python3.8/dist-packages (from requests->jupyter-dash) (4.0.0)\n",
            "Requirement already satisfied: six>=1.7.0 in /usr/local/lib/python3.8/dist-packages (from retrying->jupyter-dash) (1.15.0)\n",
            "Requirement already satisfied: zipp>=0.5 in /usr/local/lib/python3.8/dist-packages (from importlib-metadata>=3.6.0->flask->jupyter-dash) (3.15.0)\n",
            "Requirement already satisfied: parso<0.9.0,>=0.8.0 in /usr/local/lib/python3.8/dist-packages (from jedi>=0.10->ipython->jupyter-dash) (0.8.3)\n",
            "Requirement already satisfied: MarkupSafe>=2.0 in /usr/local/lib/python3.8/dist-packages (from Jinja2>=3.0->flask->jupyter-dash) (2.1.2)\n",
            "Requirement already satisfied: tenacity>=6.2.0 in /usr/local/lib/python3.8/dist-packages (from plotly>=5.0.0->dash->jupyter-dash) (8.2.2)\n",
            "Requirement already satisfied: wcwidth in /usr/local/lib/python3.8/dist-packages (from prompt-toolkit<2.1.0,>=2.0.0->ipython->jupyter-dash) (0.2.6)\n",
            "Requirement already satisfied: pyzmq>=13 in /usr/local/lib/python3.8/dist-packages (from jupyter-client->ipykernel->jupyter-dash) (23.2.1)\n",
            "Requirement already satisfied: jupyter-core>=4.6.0 in /usr/local/lib/python3.8/dist-packages (from jupyter-client->ipykernel->jupyter-dash) (5.2.0)\n",
            "Requirement already satisfied: python-dateutil>=2.1 in /usr/local/lib/python3.8/dist-packages (from jupyter-client->ipykernel->jupyter-dash) (2.8.2)\n",
            "Requirement already satisfied: ptyprocess>=0.5 in /usr/local/lib/python3.8/dist-packages (from pexpect->ipython->jupyter-dash) (0.7.0)\n",
            "Requirement already satisfied: platformdirs>=2.5 in /usr/local/lib/python3.8/dist-packages (from jupyter-core>=4.6.0->jupyter-client->ipykernel->jupyter-dash) (3.0.0)\n"
          ]
        }
      ]
    },
    {
      "cell_type": "code",
      "source": [
        "len(all_graphs)"
      ],
      "metadata": {
        "colab": {
          "base_uri": "https://localhost:8080/"
        },
        "id": "9C26UB8UYHLJ",
        "outputId": "3b60a6c3-bac6-4967-9571-45ce333605dd"
      },
      "execution_count": 57,
      "outputs": [
        {
          "output_type": "execute_result",
          "data": {
            "text/plain": [
              "7"
            ]
          },
          "metadata": {},
          "execution_count": 57
        }
      ]
    },
    {
      "cell_type": "code",
      "source": [
        "# # Run this app with `python app.py` and\n",
        "# # visit http://127.0.0.1:8050/ in your web browser.\n",
        "# from jupyter_dash import JupyterDash\n",
        "# from dash import Dash, html, dcc\n",
        "# import plotly.express as px\n",
        "# import pandas as pd\n",
        "# import dash_bootstrap_components as dbc\n",
        "\n",
        "# app = JupyterDash(__name__,external_stylesheets=[\n",
        "#     \"https://stackpath.bootstrapcdn.com/bootstrap/4.1.3/css/bootstrap-grid.min.css\"\n",
        "# ])\n",
        "\n",
        "# # assume you have a \"long-form\" data frame\n",
        "# # see https://plotly.com/python/px-arguments/ for more options\n",
        "# df = pd.DataFrame({\n",
        "#     \"Fruit\": [\"Apples\", \"Oranges\", \"Bananas\", \"Apples\", \"Oranges\", \"Bananas\"],\n",
        "#     \"Amount\": [4, 1, 2, 2, 4, 5],\n",
        "#     \"City\": [\"SF\", \"SF\", \"SF\", \"Montreal\", \"Montreal\", \"Montreal\"]\n",
        "# })\n",
        "\n",
        "# # card = dbc.Card([\n",
        "# #     dbc.CardBody([\n",
        "# #         html.H4('yes did it',className='card-title')\n",
        "# #     ])\n",
        "# # ],style={\"width\": \"18rem\"})\n",
        "\n",
        "# card = dbc.Card(html.P('yes did it'),body=True)\n",
        "\n",
        "# fig = px.bar(df, x=\"Fruit\", y=\"Amount\", color=\"City\", barmode=\"group\")\n",
        "\n",
        "# rows_list = []\n",
        "# for i in range(0,len(all_graphs),2):\n",
        "#   rows_list.append(dbc.Row([\n",
        "#       dbc.Col(dcc.Graph(figure=all_graphs[i])),\n",
        "#       dbc.Col(dcc.Graph(figure=all_graphs[i+1])) if i+1 < len(all_graphs) else None\n",
        "#       ])\n",
        "#   )\n",
        "\n",
        "# app.layout = html.Div(children=[\n",
        "#     html.H1(children='Hello Dash'),\n",
        "\n",
        "#     html.Div(children='''\n",
        "#         Dash: A web application framework for your data.\n",
        "#     '''),\n",
        "#     card,\n",
        "#     html.Div(\n",
        "#       rows_list\n",
        "#     )\n",
        "#   ])\n",
        "\n",
        "# #justify -> start, center, end, between, around\n",
        "# if __name__ == '__main__':\n",
        "#     app.run_server(mode='external',host=\"0.0.0.0\",port=1005,debug=False)\n"
      ],
      "metadata": {
        "id": "Ci0hQHUuAaHS"
      },
      "execution_count": 58,
      "outputs": []
    },
    {
      "cell_type": "markdown",
      "source": [
        "# plotly dash deployment"
      ],
      "metadata": {
        "id": "NDut7k3r6FbD"
      }
    },
    {
      "cell_type": "code",
      "source": [
        "from jupyter_dash import JupyterDash\n",
        "from dash import Dash, html, dcc\n",
        "import plotly.express as px\n",
        "import pandas as pd\n",
        "import dash_bootstrap_components as dbc\n",
        "\n",
        "# from jupyter_dash import JupyterDash\n",
        "# from dash import Dash, html, dcc\n",
        "# import plotly.express as px\n",
        "# import pandas as pd\n",
        "# import dash_bootstrap_components as dbc\n",
        "\n",
        "app = JupyterDash(__name__,external_stylesheets=[\n",
        "    dbc.themes.SPACELAB, dbc.icons.BOOTSTRAP, dbc.themes.DARKLY\n",
        "])\n",
        "\n",
        "card = lambda title, value: dbc.Card(\n",
        "    dbc.CardBody([\n",
        "          html.H2(title),\n",
        "          html.H3(value, style={'color':'red'})\n",
        "    ],\n",
        "    className='text-center'\n",
        "    )\n",
        ")\n",
        "\n",
        "# rows_list = []\n",
        "# for i in range(0,len(all_graphs),2):\n",
        "#   rows_list.append(dbc.Row([\n",
        "#       dbc.Col(dcc.Graph(figure=all_graphs[i])),\n",
        "#       dbc.Col(dcc.Graph(figure=all_graphs[i+1])) if i+1 < len(all_graphs) else None\n",
        "#       ])\n",
        "#   )\n",
        "\n",
        "\n",
        "app.layout = dbc.Container([\n",
        "    html.H1(f'Layoff Data from {data_from_to_date}',className='text-center', style={'color':'red'}),\n",
        "    dbc.Row([dbc.Col(card('Total Companies', total_companies_layoff)),dbc.Col(card('Total Layoffs', total_employees_layoff))]),\n",
        "\n",
        "    dbc.Row([dbc.Col(dcc.Graph(figure=all_graphs[0])), dbc.Col(dcc.Graph(figure=all_graphs[1]))]),\n",
        "    dbc.Row([dbc.Col(dcc.Graph(figure=all_graphs[2])), dbc.Col(dcc.Graph(figure=all_graphs[3]))]),\n",
        "    dbc.Row([dbc.Col(dcc.Graph(figure=all_graphs[4])), dbc.Col(dcc.Graph(figure=all_graphs[6]))]),\n",
        "    ])\n",
        "\n",
        "# app.layout = dbc.Container([\n",
        "#     html.H1(f'Layoff Data from {data_from_to_date}',className='text-center', style={'color':'red'}),\n",
        "#     dbc.Row([dbc.Col(card('Total Companies', total_companies_layoff)),dbc.Col(card('Total Layoffs', total_employees_layoff))]),\n",
        "\n",
        "#     dbc.Row([dbc.Col(dcc.Graph(figure=all_graphs[0])), dbc.Col(dcc.Graph(figure=all_graphs[1])),dbc.Col(dcc.Graph(figure=all_graphs[2]))]),\n",
        "#     dbc.Row([dbc.Col(dcc.Graph(figure=all_graphs[3])), dbc.Col(dcc.Graph(figure=all_graphs[4])), dbc.Col(dcc.Graph(figure=all_graphs[6]))]),\n",
        "#     ])\n",
        "\n",
        "if __name__ == '__main__':\n",
        "    app.run_server(mode='external',host=\"0.0.0.0\",port=1005,debug=False)"
      ],
      "metadata": {
        "colab": {
          "base_uri": "https://localhost:8080/",
          "height": 156
        },
        "id": "QbXGUXGG6D-s",
        "outputId": "5e2c1212-f7b7-46a4-f1d5-bd1fa098bae1"
      },
      "execution_count": 81,
      "outputs": [
        {
          "output_type": "stream",
          "name": "stderr",
          "text": [
            "INFO:werkzeug:\u001b[31m\u001b[1mWARNING: This is a development server. Do not use it in a production deployment. Use a production WSGI server instead.\u001b[0m\n",
            " * Running on all addresses (0.0.0.0)\n",
            " * Running on http://127.0.0.1:1005\n",
            " * Running on http://172.28.0.12:1005\n",
            "INFO:werkzeug:\u001b[33mPress CTRL+C to quit\u001b[0m\n",
            "INFO:werkzeug:127.0.0.1 - - [04/Mar/2023 17:19:02] \"GET /_alive_d4ae8d68-9aa2-4f8e-833c-6df63916b2ec HTTP/1.1\" 200 -\n"
          ]
        },
        {
          "output_type": "stream",
          "name": "stdout",
          "text": [
            "Dash app running on:\n"
          ]
        },
        {
          "output_type": "display_data",
          "data": {
            "text/plain": [
              "<IPython.core.display.Javascript object>"
            ],
            "application/javascript": [
              "(async (port, path, text, element) => {\n",
              "    if (!google.colab.kernel.accessAllowed) {\n",
              "      return;\n",
              "    }\n",
              "    element.appendChild(document.createTextNode(''));\n",
              "    const url = await google.colab.kernel.proxyPort(port);\n",
              "    const anchor = document.createElement('a');\n",
              "    anchor.href = new URL(path, url).toString();\n",
              "    anchor.target = '_blank';\n",
              "    anchor.setAttribute('data-href', url + path);\n",
              "    anchor.textContent = text;\n",
              "    element.appendChild(anchor);\n",
              "  })(1005, \"/\", \"http://0.0.0.0:1005/\", window.element)"
            ]
          },
          "metadata": {}
        }
      ]
    },
    {
      "cell_type": "code",
      "source": [
        "# app2 = JupyterDash(__name__,external_stylesheets=[\n",
        "#     \"https://stackpath.bootstrapcdn.com/bootstrap/4.1.3/css/bootstrap-grid.min.css\"\n",
        "# ])\n",
        "\n",
        "\n",
        "\n",
        "# card_content = lambda header, value: [\n",
        "#     dbc.CardHeader(header),\n",
        "#     dbc.CardBody(\n",
        "#         [\n",
        "#             html.H5(value, className=\"card-title\"),\n",
        "#         ]\n",
        "#     ),\n",
        "# ]\n",
        "\n",
        "# cards = html.Div(\n",
        "#     [\n",
        "#         dbc.Row(\n",
        "#             [\n",
        "#                 dbc.Col(dbc.Card(card_content('total company participated in layoff',total_companies_layoff), color=\"primary\", inverse=True)),\n",
        "#                 dbc.Col(\n",
        "#                     dbc.Card(card_content('total employees laid off', total_employees_layoff), color=\"secondary\", inverse=True)\n",
        "#                 ),\n",
        "#             ],\n",
        "#             className=\"mb-4\",\n",
        "#         )   \n",
        "#     ]\n",
        "# )"
      ],
      "metadata": {
        "id": "DczM2jzjNWP6"
      },
      "execution_count": 26,
      "outputs": []
    },
    {
      "cell_type": "code",
      "source": [
        "# https://www.datacamp.com/tutorial/learn-build-dash-python"
      ],
      "metadata": {
        "id": "dalVaTTuAtqD"
      },
      "execution_count": 29,
      "outputs": []
    }
  ]
}